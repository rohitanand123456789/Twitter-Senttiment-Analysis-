{
 "cells": [
  {
   "cell_type": "code",
   "execution_count": 2,
   "metadata": {
    "colab": {
     "base_uri": "https://localhost:8080/",
     "height": 125
    },
    "colab_type": "code",
    "id": "a4ikPoNw-usT",
    "outputId": "cfb0c3e2-5cfe-4577-b4a6-94f6c7fad528"
   },
   "outputs": [
    {
     "name": "stdout",
     "output_type": "stream",
     "text": [
      "Go to this URL in a browser: https://accounts.google.com/o/oauth2/auth?client_id=947318989803-6bn6qk8qdgf4n4g3pfee6491hc0brc4i.apps.googleusercontent.com&redirect_uri=urn%3aietf%3awg%3aoauth%3a2.0%3aoob&scope=email%20https%3a%2f%2fwww.googleapis.com%2fauth%2fdocs.test%20https%3a%2f%2fwww.googleapis.com%2fauth%2fdrive%20https%3a%2f%2fwww.googleapis.com%2fauth%2fdrive.photos.readonly%20https%3a%2f%2fwww.googleapis.com%2fauth%2fpeopleapi.readonly&response_type=code\n",
      "\n",
      "Enter your authorization code:\n",
      "··········\n",
      "Mounted at /content/drive/\n"
     ]
    }
   ],
   "source": [
    "from google.colab import drive \n",
    "drive.mount('/content/drive/')"
   ]
  },
  {
   "cell_type": "code",
   "execution_count": 3,
   "metadata": {
    "colab": {
     "base_uri": "https://localhost:8080/",
     "height": 888
    },
    "colab_type": "code",
    "id": "35_yh0hfDxdQ",
    "outputId": "36aa9e62-04c0-4c78-db6b-d3b2ed4e61a8"
   },
   "outputs": [
    {
     "name": "stdout",
     "output_type": "stream",
     "text": [
      "Collecting gensim\n",
      "\u001b[?25l  Downloading https://files.pythonhosted.org/packages/2b/e0/fa6326251692056dc880a64eb22117e03269906ba55a6864864d24ec8b4e/gensim-3.8.3-cp36-cp36m-manylinux1_x86_64.whl (24.2MB)\n",
      "\u001b[K     |████████████████████████████████| 24.2MB 126kB/s \n",
      "\u001b[?25hRequirement already satisfied, skipping upgrade: scipy>=0.18.1 in /usr/local/lib/python3.6/dist-packages (from gensim) (1.4.1)\n",
      "Requirement already satisfied, skipping upgrade: numpy>=1.11.3 in /usr/local/lib/python3.6/dist-packages (from gensim) (1.18.5)\n",
      "Requirement already satisfied, skipping upgrade: six>=1.5.0 in /usr/local/lib/python3.6/dist-packages (from gensim) (1.15.0)\n",
      "Requirement already satisfied, skipping upgrade: smart-open>=1.8.1 in /usr/local/lib/python3.6/dist-packages (from gensim) (2.1.0)\n",
      "Requirement already satisfied, skipping upgrade: boto in /usr/local/lib/python3.6/dist-packages (from smart-open>=1.8.1->gensim) (2.49.0)\n",
      "Requirement already satisfied, skipping upgrade: requests in /usr/local/lib/python3.6/dist-packages (from smart-open>=1.8.1->gensim) (2.23.0)\n",
      "Requirement already satisfied, skipping upgrade: boto3 in /usr/local/lib/python3.6/dist-packages (from smart-open>=1.8.1->gensim) (1.14.48)\n",
      "Requirement already satisfied, skipping upgrade: chardet<4,>=3.0.2 in /usr/local/lib/python3.6/dist-packages (from requests->smart-open>=1.8.1->gensim) (3.0.4)\n",
      "Requirement already satisfied, skipping upgrade: certifi>=2017.4.17 in /usr/local/lib/python3.6/dist-packages (from requests->smart-open>=1.8.1->gensim) (2020.6.20)\n",
      "Requirement already satisfied, skipping upgrade: urllib3!=1.25.0,!=1.25.1,<1.26,>=1.21.1 in /usr/local/lib/python3.6/dist-packages (from requests->smart-open>=1.8.1->gensim) (1.24.3)\n",
      "Requirement already satisfied, skipping upgrade: idna<3,>=2.5 in /usr/local/lib/python3.6/dist-packages (from requests->smart-open>=1.8.1->gensim) (2.10)\n",
      "Requirement already satisfied, skipping upgrade: s3transfer<0.4.0,>=0.3.0 in /usr/local/lib/python3.6/dist-packages (from boto3->smart-open>=1.8.1->gensim) (0.3.3)\n",
      "Requirement already satisfied, skipping upgrade: jmespath<1.0.0,>=0.7.1 in /usr/local/lib/python3.6/dist-packages (from boto3->smart-open>=1.8.1->gensim) (0.10.0)\n",
      "Requirement already satisfied, skipping upgrade: botocore<1.18.0,>=1.17.48 in /usr/local/lib/python3.6/dist-packages (from boto3->smart-open>=1.8.1->gensim) (1.17.48)\n",
      "Requirement already satisfied, skipping upgrade: python-dateutil<3.0.0,>=2.1 in /usr/local/lib/python3.6/dist-packages (from botocore<1.18.0,>=1.17.48->boto3->smart-open>=1.8.1->gensim) (2.8.1)\n",
      "Requirement already satisfied, skipping upgrade: docutils<0.16,>=0.10 in /usr/local/lib/python3.6/dist-packages (from botocore<1.18.0,>=1.17.48->boto3->smart-open>=1.8.1->gensim) (0.15.2)\n",
      "Installing collected packages: gensim\n",
      "  Found existing installation: gensim 3.6.0\n",
      "    Uninstalling gensim-3.6.0:\n",
      "      Successfully uninstalled gensim-3.6.0\n",
      "Successfully installed gensim-3.8.3\n",
      "Requirement already up-to-date: keras in /usr/local/lib/python3.6/dist-packages (2.4.3)\n",
      "Requirement already satisfied, skipping upgrade: scipy>=0.14 in /usr/local/lib/python3.6/dist-packages (from keras) (1.4.1)\n",
      "Requirement already satisfied, skipping upgrade: pyyaml in /usr/local/lib/python3.6/dist-packages (from keras) (3.13)\n",
      "Requirement already satisfied, skipping upgrade: h5py in /usr/local/lib/python3.6/dist-packages (from keras) (2.10.0)\n",
      "Requirement already satisfied, skipping upgrade: numpy>=1.9.1 in /usr/local/lib/python3.6/dist-packages (from keras) (1.18.5)\n",
      "Requirement already satisfied, skipping upgrade: six in /usr/local/lib/python3.6/dist-packages (from h5py->keras) (1.15.0)\n",
      "Collecting pandas\n",
      "\u001b[?25l  Downloading https://files.pythonhosted.org/packages/a1/c6/9ac4ae44c24c787a1738e5fb34dd987ada6533de5905a041aa6d5bea4553/pandas-1.1.1-cp36-cp36m-manylinux1_x86_64.whl (10.5MB)\n",
      "\u001b[K     |████████████████████████████████| 10.5MB 2.7MB/s \n",
      "\u001b[?25hRequirement already satisfied, skipping upgrade: numpy>=1.15.4 in /usr/local/lib/python3.6/dist-packages (from pandas) (1.18.5)\n",
      "Requirement already satisfied, skipping upgrade: python-dateutil>=2.7.3 in /usr/local/lib/python3.6/dist-packages (from pandas) (2.8.1)\n",
      "Requirement already satisfied, skipping upgrade: pytz>=2017.2 in /usr/local/lib/python3.6/dist-packages (from pandas) (2018.9)\n",
      "Requirement already satisfied, skipping upgrade: six>=1.5 in /usr/local/lib/python3.6/dist-packages (from python-dateutil>=2.7.3->pandas) (1.15.0)\n",
      "\u001b[31mERROR: google-colab 1.0.0 has requirement pandas~=1.0.0; python_version >= \"3.0\", but you'll have pandas 1.1.1 which is incompatible.\u001b[0m\n",
      "Installing collected packages: pandas\n",
      "  Found existing installation: pandas 1.0.5\n",
      "    Uninstalling pandas-1.0.5:\n",
      "      Successfully uninstalled pandas-1.0.5\n",
      "Successfully installed pandas-1.1.1\n"
     ]
    },
    {
     "data": {
      "application/vnd.colab-display-data+json": {
       "pip_warning": {
        "packages": [
         "pandas"
        ]
       }
      }
     },
     "metadata": {
      "tags": []
     },
     "output_type": "display_data"
    }
   ],
   "source": [
    "!pip install gensim --upgrade\n",
    "!pip install keras --upgrade\n",
    "!pip install pandas --upgrade"
   ]
  },
  {
   "cell_type": "code",
   "execution_count": 1,
   "metadata": {
    "colab": {},
    "colab_type": "code",
    "id": "4bNJbqb2D1vm"
   },
   "outputs": [],
   "source": [
    "import pandas as pd\n",
    "\n",
    "# Matplot\n",
    "import matplotlib.pyplot as plt\n",
    "%matplotlib inline\n",
    "\n",
    "# Scikit-learn\n",
    "from sklearn.model_selection import train_test_split\n",
    "from sklearn.preprocessing import LabelEncoder\n",
    "from sklearn.metrics import confusion_matrix, classification_report, accuracy_score\n",
    "from sklearn.manifold import TSNE\n",
    "from sklearn.feature_extraction.text import TfidfVectorizer\n",
    "\n",
    "# Keras\n",
    "from keras.preprocessing.text import Tokenizer\n",
    "from keras.preprocessing.sequence import pad_sequences\n",
    "from keras.models import Sequential\n",
    "from keras.layers import Activation, Dense, Dropout, Embedding, Flatten, Conv1D, MaxPooling1D, LSTM\n",
    "from keras import utils\n",
    "from keras.callbacks import ReduceLROnPlateau, EarlyStopping\n",
    "# nltk\n",
    "import nltk\n",
    "from nltk.corpus import stopwords\n",
    "from  nltk.stem import SnowballStemmer\n",
    "\n",
    "# Word2vec\n",
    "import gensim\n",
    "\n",
    "# Utility\n",
    "import re\n",
    "import numpy as np\n",
    "import os\n",
    "from collections import Counter\n",
    "import logging\n",
    "import time\n",
    "import pickle\n",
    "import itertools\n",
    "\n",
    "# Set log\n",
    "logging.basicConfig(format='%(asctime)s : %(levelname)s : %(message)s', level=logging.INFO)"
   ]
  },
  {
   "cell_type": "code",
   "execution_count": 2,
   "metadata": {
    "colab": {
     "base_uri": "https://localhost:8080/",
     "height": 70
    },
    "colab_type": "code",
    "id": "Ql8jEw_DET3b",
    "outputId": "ae3f5afb-7265-4886-f7fd-34a2fe8a3b39"
   },
   "outputs": [
    {
     "name": "stdout",
     "output_type": "stream",
     "text": [
      "[nltk_data] Downloading package stopwords to /root/nltk_data...\n",
      "[nltk_data]   Package stopwords is already up-to-date!\n"
     ]
    },
    {
     "data": {
      "text/plain": [
       "True"
      ]
     },
     "execution_count": 2,
     "metadata": {
      "tags": []
     },
     "output_type": "execute_result"
    }
   ],
   "source": [
    "nltk.download('stopwords')\n"
   ]
  },
  {
   "cell_type": "code",
   "execution_count": 3,
   "metadata": {
    "colab": {},
    "colab_type": "code",
    "id": "VCjjTztwicoX"
   },
   "outputs": [],
   "source": [
    "# DATASET\n",
    "DATASET_COLUMNS = [\"target\", \"ids\", \"date\", \"flag\", \"user\", \"text\"]\n",
    "DATASET_ENCODING = \"ISO-8859-1\"\n",
    "TRAIN_SIZE = 0.8\n",
    "\n",
    "# TEXT CLENAING\n",
    "TEXT_CLEANING_RE = \"@\\S+|https?:\\S+|http?:\\S|[^A-Za-z0-9]+\"\n",
    "\n",
    "# WORD2VEC \n",
    "W2V_SIZE = 300\n",
    "W2V_WINDOW = 7\n",
    "W2V_EPOCH = 32\n",
    "W2V_MIN_COUNT = 10\n",
    "\n",
    "# KERAS\n",
    "SEQUENCE_LENGTH = 300\n",
    "EPOCHS = 8\n",
    "BATCH_SIZE = 1024\n",
    "\n",
    "# SENTIMENT\n",
    "POSITIVE = \"POSITIVE\"\n",
    "NEGATIVE = \"NEGATIVE\"\n",
    "NEUTRAL = \"NEUTRAL\"\n",
    "SENTIMENT_THRESHOLDS = (0.4, 0.7)\n",
    "\n",
    "# EXPORT\n",
    "KERAS_MODEL = \"model.h5\"\n",
    "WORD2VEC_MODEL = \"model.w2v\"\n",
    "TOKENIZER_MODEL = \"tokenizer.pkl\"\n",
    "ENCODER_MODEL = \"encoder.pkl\""
   ]
  },
  {
   "cell_type": "code",
   "execution_count": 4,
   "metadata": {
    "colab": {
     "base_uri": "https://localhost:8080/",
     "height": 34
    },
    "colab_type": "code",
    "id": "Vs49YJ9oEguI",
    "outputId": "9248ca06-3d90-49e0-ec3f-343b5c40e2a4"
   },
   "outputs": [
    {
     "name": "stdout",
     "output_type": "stream",
     "text": [
      "Open file: /content/drive/My Drive/training.1600000.processed.noemoticon.csv\n"
     ]
    }
   ],
   "source": [
    "dataset_filename = os.listdir(\"/content/drive/My Drive/\")[0]\n",
    "#dataset_path = '../input/sentiment140/training.1600000.processed.noemoticon.csv'\n",
    "dataset_path = '/content/drive/My Drive/training.1600000.processed.noemoticon.csv'\n",
    "print(\"Open file:\", dataset_path)\n",
    "df = pd.read_csv(dataset_path, encoding =DATASET_ENCODING , names=DATASET_COLUMNS)"
   ]
  },
  {
   "cell_type": "code",
   "execution_count": 5,
   "metadata": {
    "colab": {
     "base_uri": "https://localhost:8080/",
     "height": 34
    },
    "colab_type": "code",
    "id": "bLDAAfgiGt0A",
    "outputId": "66caa4a8-4214-4000-d280-07df95bf2cba"
   },
   "outputs": [
    {
     "name": "stdout",
     "output_type": "stream",
     "text": [
      "Dataset size: 1600000\n"
     ]
    }
   ],
   "source": [
    "print(\"Dataset size:\", len(df))"
   ]
  },
  {
   "cell_type": "code",
   "execution_count": 6,
   "metadata": {
    "colab": {
     "base_uri": "https://localhost:8080/",
     "height": 197
    },
    "colab_type": "code",
    "id": "U3vVrzLDGzEj",
    "outputId": "7cbfc914-c9e0-4b48-d54e-47fb2538e071"
   },
   "outputs": [
    {
     "data": {
      "text/html": [
       "<div>\n",
       "<style scoped>\n",
       "    .dataframe tbody tr th:only-of-type {\n",
       "        vertical-align: middle;\n",
       "    }\n",
       "\n",
       "    .dataframe tbody tr th {\n",
       "        vertical-align: top;\n",
       "    }\n",
       "\n",
       "    .dataframe thead th {\n",
       "        text-align: right;\n",
       "    }\n",
       "</style>\n",
       "<table border=\"1\" class=\"dataframe\">\n",
       "  <thead>\n",
       "    <tr style=\"text-align: right;\">\n",
       "      <th></th>\n",
       "      <th>target</th>\n",
       "      <th>ids</th>\n",
       "      <th>date</th>\n",
       "      <th>flag</th>\n",
       "      <th>user</th>\n",
       "      <th>text</th>\n",
       "    </tr>\n",
       "  </thead>\n",
       "  <tbody>\n",
       "    <tr>\n",
       "      <th>0</th>\n",
       "      <td>0</td>\n",
       "      <td>1467810369</td>\n",
       "      <td>Mon Apr 06 22:19:45 PDT 2009</td>\n",
       "      <td>NO_QUERY</td>\n",
       "      <td>_TheSpecialOne_</td>\n",
       "      <td>@switchfoot http://twitpic.com/2y1zl - Awww, t...</td>\n",
       "    </tr>\n",
       "    <tr>\n",
       "      <th>1</th>\n",
       "      <td>0</td>\n",
       "      <td>1467810672</td>\n",
       "      <td>Mon Apr 06 22:19:49 PDT 2009</td>\n",
       "      <td>NO_QUERY</td>\n",
       "      <td>scotthamilton</td>\n",
       "      <td>is upset that he can't update his Facebook by ...</td>\n",
       "    </tr>\n",
       "    <tr>\n",
       "      <th>2</th>\n",
       "      <td>0</td>\n",
       "      <td>1467810917</td>\n",
       "      <td>Mon Apr 06 22:19:53 PDT 2009</td>\n",
       "      <td>NO_QUERY</td>\n",
       "      <td>mattycus</td>\n",
       "      <td>@Kenichan I dived many times for the ball. Man...</td>\n",
       "    </tr>\n",
       "    <tr>\n",
       "      <th>3</th>\n",
       "      <td>0</td>\n",
       "      <td>1467811184</td>\n",
       "      <td>Mon Apr 06 22:19:57 PDT 2009</td>\n",
       "      <td>NO_QUERY</td>\n",
       "      <td>ElleCTF</td>\n",
       "      <td>my whole body feels itchy and like its on fire</td>\n",
       "    </tr>\n",
       "    <tr>\n",
       "      <th>4</th>\n",
       "      <td>0</td>\n",
       "      <td>1467811193</td>\n",
       "      <td>Mon Apr 06 22:19:57 PDT 2009</td>\n",
       "      <td>NO_QUERY</td>\n",
       "      <td>Karoli</td>\n",
       "      <td>@nationwideclass no, it's not behaving at all....</td>\n",
       "    </tr>\n",
       "  </tbody>\n",
       "</table>\n",
       "</div>"
      ],
      "text/plain": [
       "   target  ...                                               text\n",
       "0       0  ...  @switchfoot http://twitpic.com/2y1zl - Awww, t...\n",
       "1       0  ...  is upset that he can't update his Facebook by ...\n",
       "2       0  ...  @Kenichan I dived many times for the ball. Man...\n",
       "3       0  ...    my whole body feels itchy and like its on fire \n",
       "4       0  ...  @nationwideclass no, it's not behaving at all....\n",
       "\n",
       "[5 rows x 6 columns]"
      ]
     },
     "execution_count": 6,
     "metadata": {
      "tags": []
     },
     "output_type": "execute_result"
    }
   ],
   "source": [
    "df.head(5)"
   ]
  },
  {
   "cell_type": "code",
   "execution_count": 7,
   "metadata": {
    "colab": {},
    "colab_type": "code",
    "id": "vkgKlvtIG5nO"
   },
   "outputs": [],
   "source": [
    "decode_map = {0: \"NEGATIVE\", 2: \"NEUTRAL\", 4: \"POSITIVE\"}\n",
    "def decode_sentiment(label):\n",
    "    return decode_map[int(label)]"
   ]
  },
  {
   "cell_type": "code",
   "execution_count": 8,
   "metadata": {
    "colab": {
     "base_uri": "https://localhost:8080/",
     "height": 52
    },
    "colab_type": "code",
    "id": "0QNOwQe9G9Ub",
    "outputId": "cedb6e8f-0dd4-4dc4-97ab-fe0674bdddb9"
   },
   "outputs": [
    {
     "name": "stdout",
     "output_type": "stream",
     "text": [
      "CPU times: user 543 ms, sys: 2.52 ms, total: 546 ms\n",
      "Wall time: 548 ms\n"
     ]
    }
   ],
   "source": [
    "%%time\n",
    "df.target = df.target.apply(lambda x: decode_sentiment(x))\n"
   ]
  },
  {
   "cell_type": "code",
   "execution_count": 9,
   "metadata": {
    "colab": {
     "base_uri": "https://localhost:8080/",
     "height": 516
    },
    "colab_type": "code",
    "id": "DGSkl_-VHEdJ",
    "outputId": "bea6a6a3-3ff1-4903-d4f6-371dbb57a2a3"
   },
   "outputs": [
    {
     "data": {
      "text/plain": [
       "Text(0.5, 1.0, 'Dataset labels distribuition')"
      ]
     },
     "execution_count": 9,
     "metadata": {
      "tags": []
     },
     "output_type": "execute_result"
    },
    {
     "data": {
      "image/png": "[encoded data removed]",
      "text/plain": [
       "<Figure size 1152x576 with 1 Axes>"
      ]
     },
     "metadata": {
      "needs_background": "light",
      "tags": []
     },
     "output_type": "display_data"
    }
   ],
   "source": [
    "target_cnt = Counter(df.target)\n",
    "\n",
    "plt.figure(figsize=(16,8))\n",
    "plt.bar(target_cnt.keys(), target_cnt.values())\n",
    "plt.title(\"Dataset labels distribuition\")"
   ]
  },
  {
   "cell_type": "code",
   "execution_count": 10,
   "metadata": {
    "colab": {},
    "colab_type": "code",
    "id": "_p_UUK9RHQAx"
   },
   "outputs": [],
   "source": [
    "stop_words = stopwords.words(\"english\")\n",
    "stemmer = SnowballStemmer(\"english\")"
   ]
  },
  {
   "cell_type": "code",
   "execution_count": 11,
   "metadata": {
    "colab": {},
    "colab_type": "code",
    "id": "xNC_-jlaHZJH"
   },
   "outputs": [],
   "source": [
    "def preprocess(text, stem=False):\n",
    "    # Remove link,user and special characters\n",
    "    text = re.sub(TEXT_CLEANING_RE, ' ', str(text).lower()).strip()\n",
    "    tokens = []\n",
    "    for token in text.split():\n",
    "        if token not in stop_words:\n",
    "            if stem:\n",
    "                tokens.append(stemmer.stem(token))\n",
    "            else:\n",
    "                tokens.append(token)\n",
    "    return \" \".join(tokens)"
   ]
  },
  {
   "cell_type": "code",
   "execution_count": 12,
   "metadata": {
    "colab": {
     "base_uri": "https://localhost:8080/",
     "height": 52
    },
    "colab_type": "code",
    "id": "8evdyfnIHlqs",
    "outputId": "66c2b7ee-1bc0-4577-dd9a-5c62670fb45e"
   },
   "outputs": [
    {
     "name": "stdout",
     "output_type": "stream",
     "text": [
      "CPU times: user 42.8 s, sys: 177 ms, total: 42.9 s\n",
      "Wall time: 43 s\n"
     ]
    }
   ],
   "source": [
    "%%time\n",
    "df.text = df.text.apply(lambda x: preprocess(x))"
   ]
  },
  {
   "cell_type": "code",
   "execution_count": 13,
   "metadata": {
    "colab": {
     "base_uri": "https://localhost:8080/",
     "height": 52
    },
    "colab_type": "code",
    "id": "kWhj-3n6HrEl",
    "outputId": "94d144d8-57d6-457a-b197-7ba80223cbfb"
   },
   "outputs": [
    {
     "name": "stdout",
     "output_type": "stream",
     "text": [
      "TRAIN size: 1280000\n",
      "TEST size: 320000\n"
     ]
    }
   ],
   "source": [
    "df_train, df_test = train_test_split(df, test_size=1-TRAIN_SIZE, random_state=42)\n",
    "print(\"TRAIN size:\", len(df_train))\n",
    "print(\"TEST size:\", len(df_test))"
   ]
  },
  {
   "cell_type": "code",
   "execution_count": 14,
   "metadata": {
    "colab": {
     "base_uri": "https://localhost:8080/",
     "height": 52
    },
    "colab_type": "code",
    "id": "aVdISeYSHuzK",
    "outputId": "e5de4771-50dd-4e99-ff04-05e6a5edcb7b"
   },
   "outputs": [
    {
     "name": "stdout",
     "output_type": "stream",
     "text": [
      "CPU times: user 2.72 s, sys: 288 ms, total: 3.01 s\n",
      "Wall time: 3.01 s\n"
     ]
    }
   ],
   "source": [
    "%%time\n",
    "documents = [_text.split() for _text in df_train.text] "
   ]
  },
  {
   "cell_type": "code",
   "execution_count": 15,
   "metadata": {
    "colab": {},
    "colab_type": "code",
    "id": "dr-YhS0pH3f-"
   },
   "outputs": [],
   "source": [
    "w2v_model = gensim.models.word2vec.Word2Vec(size=W2V_SIZE, \n",
    "                                            window=W2V_WINDOW, \n",
    "                                            min_count=W2V_MIN_COUNT, \n",
    "                                            workers=8)"
   ]
  },
  {
   "cell_type": "code",
   "execution_count": 16,
   "metadata": {
    "colab": {
     "base_uri": "https://localhost:8080/",
     "height": 1000
    },
    "colab_type": "code",
    "id": "8BHFvh2oKPtQ",
    "outputId": "02e7aa6b-d3f7-4336-c3f1-20279f481410"
   },
   "outputs": [
    {
     "name": "stderr",
     "output_type": "stream",
     "text": [
      "2020-09-03 11:24:59,271 : INFO : collecting all words and their counts\n",
      "2020-09-03 11:24:59,274 : INFO : PROGRESS: at sentence #0, processed 0 words, keeping 0 word types\n",
      "2020-09-03 11:24:59,305 : INFO : PROGRESS: at sentence #10000, processed 72565 words, keeping 14005 word types\n",
      "2020-09-03 11:24:59,328 : INFO : PROGRESS: at sentence #20000, processed 144393 words, keeping 21587 word types\n",
      "2020-09-03 11:24:59,353 : INFO : PROGRESS: at sentence #30000, processed 215826 words, keeping 27541 word types\n",
      "2020-09-03 11:24:59,373 : INFO : PROGRESS: at sentence #40000, processed 288271 words, keeping 32764 word types\n",
      "2020-09-03 11:24:59,398 : INFO : PROGRESS: at sentence #50000, processed 359772 words, keeping 37587 word types\n",
      "2020-09-03 11:24:59,417 : INFO : PROGRESS: at sentence #60000, processed 431431 words, keeping 42198 word types\n",
      "2020-09-03 11:24:59,441 : INFO : PROGRESS: at sentence #70000, processed 503103 words, keeping 46458 word types\n",
      "2020-09-03 11:24:59,471 : INFO : PROGRESS: at sentence #80000, processed 575709 words, keeping 50476 word types\n",
      "2020-09-03 11:24:59,492 : INFO : PROGRESS: at sentence #90000, processed 647100 words, keeping 54140 word types\n",
      "2020-09-03 11:24:59,513 : INFO : PROGRESS: at sentence #100000, processed 718681 words, keeping 57777 word types\n",
      "2020-09-03 11:24:59,537 : INFO : PROGRESS: at sentence #110000, processed 790696 words, keeping 61207 word types\n",
      "2020-09-03 11:24:59,560 : INFO : PROGRESS: at sentence #120000, processed 863134 words, keeping 64583 word types\n",
      "2020-09-03 11:24:59,583 : INFO : PROGRESS: at sentence #130000, processed 935111 words, keeping 67865 word types\n",
      "2020-09-03 11:24:59,606 : INFO : PROGRESS: at sentence #140000, processed 1006668 words, keeping 70966 word types\n",
      "2020-09-03 11:24:59,626 : INFO : PROGRESS: at sentence #150000, processed 1078512 words, keeping 74119 word types\n",
      "2020-09-03 11:24:59,650 : INFO : PROGRESS: at sentence #160000, processed 1149914 words, keeping 77187 word types\n",
      "2020-09-03 11:24:59,671 : INFO : PROGRESS: at sentence #170000, processed 1222145 words, keeping 80267 word types\n",
      "2020-09-03 11:24:59,694 : INFO : PROGRESS: at sentence #180000, processed 1294708 words, keeping 83393 word types\n",
      "2020-09-03 11:24:59,718 : INFO : PROGRESS: at sentence #190000, processed 1367608 words, keeping 86329 word types\n",
      "2020-09-03 11:24:59,744 : INFO : PROGRESS: at sentence #200000, processed 1439469 words, keeping 89103 word types\n",
      "2020-09-03 11:24:59,768 : INFO : PROGRESS: at sentence #210000, processed 1512099 words, keeping 91840 word types\n",
      "2020-09-03 11:24:59,791 : INFO : PROGRESS: at sentence #220000, processed 1584149 words, keeping 94636 word types\n",
      "2020-09-03 11:24:59,814 : INFO : PROGRESS: at sentence #230000, processed 1656354 words, keeping 97353 word types\n",
      "2020-09-03 11:24:59,835 : INFO : PROGRESS: at sentence #240000, processed 1728573 words, keeping 99975 word types\n",
      "2020-09-03 11:24:59,859 : INFO : PROGRESS: at sentence #250000, processed 1801102 words, keeping 102594 word types\n",
      "2020-09-03 11:24:59,886 : INFO : PROGRESS: at sentence #260000, processed 1873103 words, keeping 105162 word types\n",
      "2020-09-03 11:24:59,909 : INFO : PROGRESS: at sentence #270000, processed 1945245 words, keeping 107626 word types\n",
      "2020-09-03 11:24:59,928 : INFO : PROGRESS: at sentence #280000, processed 2017163 words, keeping 110141 word types\n",
      "2020-09-03 11:24:59,953 : INFO : PROGRESS: at sentence #290000, processed 2089574 words, keeping 112539 word types\n",
      "2020-09-03 11:24:59,977 : INFO : PROGRESS: at sentence #300000, processed 2160996 words, keeping 114893 word types\n",
      "2020-09-03 11:25:00,002 : INFO : PROGRESS: at sentence #310000, processed 2232913 words, keeping 117298 word types\n",
      "2020-09-03 11:25:00,024 : INFO : PROGRESS: at sentence #320000, processed 2305039 words, keeping 119693 word types\n",
      "2020-09-03 11:25:00,047 : INFO : PROGRESS: at sentence #330000, processed 2377119 words, keeping 122131 word types\n",
      "2020-09-03 11:25:00,068 : INFO : PROGRESS: at sentence #340000, processed 2449370 words, keeping 124416 word types\n",
      "2020-09-03 11:25:00,091 : INFO : PROGRESS: at sentence #350000, processed 2521564 words, keeping 126669 word types\n",
      "2020-09-03 11:25:00,113 : INFO : PROGRESS: at sentence #360000, processed 2593681 words, keeping 128912 word types\n",
      "2020-09-03 11:25:00,135 : INFO : PROGRESS: at sentence #370000, processed 2665692 words, keeping 131135 word types\n",
      "2020-09-03 11:25:00,156 : INFO : PROGRESS: at sentence #380000, processed 2737859 words, keeping 133403 word types\n",
      "2020-09-03 11:25:00,181 : INFO : PROGRESS: at sentence #390000, processed 2809848 words, keeping 135551 word types\n",
      "2020-09-03 11:25:00,200 : INFO : PROGRESS: at sentence #400000, processed 2882438 words, keeping 137742 word types\n",
      "2020-09-03 11:25:00,225 : INFO : PROGRESS: at sentence #410000, processed 2954075 words, keeping 139909 word types\n",
      "2020-09-03 11:25:00,247 : INFO : PROGRESS: at sentence #420000, processed 3026247 words, keeping 142144 word types\n",
      "2020-09-03 11:25:00,268 : INFO : PROGRESS: at sentence #430000, processed 3098659 words, keeping 144364 word types\n",
      "2020-09-03 11:25:00,291 : INFO : PROGRESS: at sentence #440000, processed 3170663 words, keeping 146439 word types\n",
      "2020-09-03 11:25:00,316 : INFO : PROGRESS: at sentence #450000, processed 3243344 words, keeping 148526 word types\n",
      "2020-09-03 11:25:00,339 : INFO : PROGRESS: at sentence #460000, processed 3315466 words, keeping 150610 word types\n",
      "2020-09-03 11:25:00,363 : INFO : PROGRESS: at sentence #470000, processed 3388295 words, keeping 152737 word types\n",
      "2020-09-03 11:25:00,386 : INFO : PROGRESS: at sentence #480000, processed 3460120 words, keeping 154757 word types\n",
      "2020-09-03 11:25:00,409 : INFO : PROGRESS: at sentence #490000, processed 3531883 words, keeping 156825 word types\n",
      "2020-09-03 11:25:00,433 : INFO : PROGRESS: at sentence #500000, processed 3604217 words, keeping 158859 word types\n",
      "2020-09-03 11:25:00,456 : INFO : PROGRESS: at sentence #510000, processed 3676427 words, keeping 160852 word types\n",
      "2020-09-03 11:25:00,482 : INFO : PROGRESS: at sentence #520000, processed 3749045 words, keeping 162863 word types\n",
      "2020-09-03 11:25:00,507 : INFO : PROGRESS: at sentence #530000, processed 3821622 words, keeping 164929 word types\n",
      "2020-09-03 11:25:00,528 : INFO : PROGRESS: at sentence #540000, processed 3893627 words, keeping 166840 word types\n",
      "2020-09-03 11:25:00,555 : INFO : PROGRESS: at sentence #550000, processed 3965477 words, keeping 168799 word types\n",
      "2020-09-03 11:25:00,578 : INFO : PROGRESS: at sentence #560000, processed 4038050 words, keeping 170802 word types\n",
      "2020-09-03 11:25:00,600 : INFO : PROGRESS: at sentence #570000, processed 4110296 words, keeping 172760 word types\n",
      "2020-09-03 11:25:00,623 : INFO : PROGRESS: at sentence #580000, processed 4182385 words, keeping 174635 word types\n",
      "2020-09-03 11:25:00,651 : INFO : PROGRESS: at sentence #590000, processed 4254632 words, keeping 176470 word types\n",
      "2020-09-03 11:25:00,674 : INFO : PROGRESS: at sentence #600000, processed 4326859 words, keeping 178350 word types\n",
      "2020-09-03 11:25:00,698 : INFO : PROGRESS: at sentence #610000, processed 4399183 words, keeping 180290 word types\n",
      "2020-09-03 11:25:00,721 : INFO : PROGRESS: at sentence #620000, processed 4471343 words, keeping 182129 word types\n",
      "2020-09-03 11:25:00,743 : INFO : PROGRESS: at sentence #630000, processed 4543286 words, keeping 184005 word types\n",
      "2020-09-03 11:25:00,767 : INFO : PROGRESS: at sentence #640000, processed 4615780 words, keeping 185835 word types\n",
      "2020-09-03 11:25:00,788 : INFO : PROGRESS: at sentence #650000, processed 4688481 words, keeping 187705 word types\n",
      "2020-09-03 11:25:00,815 : INFO : PROGRESS: at sentence #660000, processed 4760481 words, keeping 189439 word types\n",
      "2020-09-03 11:25:00,836 : INFO : PROGRESS: at sentence #670000, processed 4833024 words, keeping 191232 word types\n",
      "2020-09-03 11:25:00,863 : INFO : PROGRESS: at sentence #680000, processed 4904516 words, keeping 193177 word types\n",
      "2020-09-03 11:25:00,884 : INFO : PROGRESS: at sentence #690000, processed 4976968 words, keeping 194960 word types\n",
      "2020-09-03 11:25:00,912 : INFO : PROGRESS: at sentence #700000, processed 5049412 words, keeping 196725 word types\n",
      "2020-09-03 11:25:00,934 : INFO : PROGRESS: at sentence #710000, processed 5121976 words, keeping 198516 word types\n",
      "2020-09-03 11:25:00,958 : INFO : PROGRESS: at sentence #720000, processed 5193881 words, keeping 200325 word types\n",
      "2020-09-03 11:25:00,985 : INFO : PROGRESS: at sentence #730000, processed 5265467 words, keeping 202133 word types\n",
      "2020-09-03 11:25:01,013 : INFO : PROGRESS: at sentence #740000, processed 5337518 words, keeping 203818 word types\n",
      "2020-09-03 11:25:01,035 : INFO : PROGRESS: at sentence #750000, processed 5409321 words, keeping 205535 word types\n",
      "2020-09-03 11:25:01,059 : INFO : PROGRESS: at sentence #760000, processed 5481512 words, keeping 207282 word types\n",
      "2020-09-03 11:25:01,081 : INFO : PROGRESS: at sentence #770000, processed 5554093 words, keeping 209076 word types\n",
      "2020-09-03 11:25:01,107 : INFO : PROGRESS: at sentence #780000, processed 5625382 words, keeping 210805 word types\n",
      "2020-09-03 11:25:01,134 : INFO : PROGRESS: at sentence #790000, processed 5698066 words, keeping 212618 word types\n",
      "2020-09-03 11:25:01,162 : INFO : PROGRESS: at sentence #800000, processed 5770880 words, keeping 214374 word types\n",
      "2020-09-03 11:25:01,188 : INFO : PROGRESS: at sentence #810000, processed 5843418 words, keeping 216009 word types\n",
      "2020-09-03 11:25:01,214 : INFO : PROGRESS: at sentence #820000, processed 5915628 words, keeping 217804 word types\n",
      "2020-09-03 11:25:01,240 : INFO : PROGRESS: at sentence #830000, processed 5987499 words, keeping 219585 word types\n",
      "2020-09-03 11:25:01,262 : INFO : PROGRESS: at sentence #840000, processed 6058973 words, keeping 221344 word types\n",
      "2020-09-03 11:25:01,294 : INFO : PROGRESS: at sentence #850000, processed 6131125 words, keeping 223002 word types\n",
      "2020-09-03 11:25:01,319 : INFO : PROGRESS: at sentence #860000, processed 6202951 words, keeping 224643 word types\n",
      "2020-09-03 11:25:01,341 : INFO : PROGRESS: at sentence #870000, processed 6275461 words, keeping 226362 word types\n",
      "2020-09-03 11:25:01,370 : INFO : PROGRESS: at sentence #880000, processed 6347661 words, keeping 227986 word types\n",
      "2020-09-03 11:25:01,392 : INFO : PROGRESS: at sentence #890000, processed 6419806 words, keeping 229634 word types\n",
      "2020-09-03 11:25:01,418 : INFO : PROGRESS: at sentence #900000, processed 6491644 words, keeping 231389 word types\n",
      "2020-09-03 11:25:01,442 : INFO : PROGRESS: at sentence #910000, processed 6564022 words, keeping 233050 word types\n",
      "2020-09-03 11:25:01,464 : INFO : PROGRESS: at sentence #920000, processed 6636228 words, keeping 234686 word types\n",
      "2020-09-03 11:25:01,494 : INFO : PROGRESS: at sentence #930000, processed 6708573 words, keeping 236393 word types\n",
      "2020-09-03 11:25:01,520 : INFO : PROGRESS: at sentence #940000, processed 6779956 words, keeping 238052 word types\n",
      "2020-09-03 11:25:01,543 : INFO : PROGRESS: at sentence #950000, processed 6852599 words, keeping 239716 word types\n",
      "2020-09-03 11:25:01,568 : INFO : PROGRESS: at sentence #960000, processed 6924717 words, keeping 241354 word types\n",
      "2020-09-03 11:25:01,593 : INFO : PROGRESS: at sentence #970000, processed 6996992 words, keeping 242980 word types\n",
      "2020-09-03 11:25:01,615 : INFO : PROGRESS: at sentence #980000, processed 7068402 words, keeping 244646 word types\n",
      "2020-09-03 11:25:01,642 : INFO : PROGRESS: at sentence #990000, processed 7140346 words, keeping 246186 word types\n",
      "2020-09-03 11:25:01,666 : INFO : PROGRESS: at sentence #1000000, processed 7211757 words, keeping 247726 word types\n",
      "2020-09-03 11:25:01,688 : INFO : PROGRESS: at sentence #1010000, processed 7283267 words, keeping 249288 word types\n",
      "2020-09-03 11:25:01,714 : INFO : PROGRESS: at sentence #1020000, processed 7355299 words, keeping 250860 word types\n",
      "2020-09-03 11:25:01,737 : INFO : PROGRESS: at sentence #1030000, processed 7426918 words, keeping 252366 word types\n",
      "2020-09-03 11:25:01,767 : INFO : PROGRESS: at sentence #1040000, processed 7498815 words, keeping 253930 word types\n",
      "2020-09-03 11:25:01,790 : INFO : PROGRESS: at sentence #1050000, processed 7570499 words, keeping 255471 word types\n",
      "2020-09-03 11:25:01,814 : INFO : PROGRESS: at sentence #1060000, processed 7643251 words, keeping 257035 word types\n",
      "2020-09-03 11:25:01,839 : INFO : PROGRESS: at sentence #1070000, processed 7714721 words, keeping 258509 word types\n",
      "2020-09-03 11:25:01,867 : INFO : PROGRESS: at sentence #1080000, processed 7787371 words, keeping 260071 word types\n",
      "2020-09-03 11:25:01,891 : INFO : PROGRESS: at sentence #1090000, processed 7859336 words, keeping 261683 word types\n",
      "2020-09-03 11:25:01,913 : INFO : PROGRESS: at sentence #1100000, processed 7932029 words, keeping 263278 word types\n",
      "2020-09-03 11:25:01,938 : INFO : PROGRESS: at sentence #1110000, processed 8004146 words, keeping 264800 word types\n",
      "2020-09-03 11:25:01,960 : INFO : PROGRESS: at sentence #1120000, processed 8075880 words, keeping 266309 word types\n",
      "2020-09-03 11:25:01,985 : INFO : PROGRESS: at sentence #1130000, processed 8148163 words, keeping 267826 word types\n",
      "2020-09-03 11:25:02,015 : INFO : PROGRESS: at sentence #1140000, processed 8220487 words, keeping 269391 word types\n",
      "2020-09-03 11:25:02,041 : INFO : PROGRESS: at sentence #1150000, processed 8292498 words, keeping 270894 word types\n",
      "2020-09-03 11:25:02,066 : INFO : PROGRESS: at sentence #1160000, processed 8363838 words, keeping 272400 word types\n",
      "2020-09-03 11:25:02,090 : INFO : PROGRESS: at sentence #1170000, processed 8435510 words, keeping 273970 word types\n",
      "2020-09-03 11:25:02,112 : INFO : PROGRESS: at sentence #1180000, processed 8507795 words, keeping 275521 word types\n",
      "2020-09-03 11:25:02,137 : INFO : PROGRESS: at sentence #1190000, processed 8579080 words, keeping 277007 word types\n",
      "2020-09-03 11:25:02,159 : INFO : PROGRESS: at sentence #1200000, processed 8650606 words, keeping 278457 word types\n",
      "2020-09-03 11:25:02,184 : INFO : PROGRESS: at sentence #1210000, processed 8721893 words, keeping 279959 word types\n",
      "2020-09-03 11:25:02,208 : INFO : PROGRESS: at sentence #1220000, processed 8793795 words, keeping 281427 word types\n",
      "2020-09-03 11:25:02,231 : INFO : PROGRESS: at sentence #1230000, processed 8865726 words, keeping 282981 word types\n",
      "2020-09-03 11:25:02,258 : INFO : PROGRESS: at sentence #1240000, processed 8938173 words, keeping 284542 word types\n",
      "2020-09-03 11:25:02,280 : INFO : PROGRESS: at sentence #1250000, processed 9010842 words, keeping 286064 word types\n",
      "2020-09-03 11:25:02,303 : INFO : PROGRESS: at sentence #1260000, processed 9083261 words, keeping 287521 word types\n",
      "2020-09-03 11:25:02,330 : INFO : PROGRESS: at sentence #1270000, processed 9155616 words, keeping 288987 word types\n",
      "2020-09-03 11:25:02,355 : INFO : collected 290418 word types from a corpus of 9227204 raw words and 1280000 sentences\n",
      "2020-09-03 11:25:02,355 : INFO : Loading a fresh vocabulary\n",
      "2020-09-03 11:25:02,527 : INFO : effective_min_count=10 retains 30369 unique words (10% of original 290418, drops 260049)\n",
      "2020-09-03 11:25:02,528 : INFO : effective_min_count=10 leaves 8780739 word corpus (95% of original 9227204, drops 446465)\n",
      "2020-09-03 11:25:02,626 : INFO : deleting the raw counts dictionary of 290418 items\n",
      "2020-09-03 11:25:02,633 : INFO : sample=0.001 downsamples 45 most-common words\n",
      "2020-09-03 11:25:02,639 : INFO : downsampling leaves estimated 8222658 word corpus (93.6% of prior 8780739)\n",
      "2020-09-03 11:25:02,720 : INFO : estimated required memory for 30369 words and 300 dimensions: 88070100 bytes\n",
      "2020-09-03 11:25:02,721 : INFO : resetting layer weights\n"
     ]
    }
   ],
   "source": [
    "w2v_model.build_vocab(documents)\n"
   ]
  },
  {
   "cell_type": "code",
   "execution_count": 17,
   "metadata": {
    "colab": {
     "base_uri": "https://localhost:8080/",
     "height": 34
    },
    "colab_type": "code",
    "id": "mbMBzDUeKT0O",
    "outputId": "180b5b15-4873-4cc3-d808-335c25591b12"
   },
   "outputs": [
    {
     "name": "stdout",
     "output_type": "stream",
     "text": [
      "Vocab size 30369\n"
     ]
    }
   ],
   "source": [
    "  words = w2v_model.wv.vocab.keys()\n",
    "vocab_size = len(words)\n",
    "print(\"Vocab size\", vocab_size)"
   ]
  },
  {
   "cell_type": "code",
   "execution_count": 18,
   "metadata": {
    "colab": {
     "base_uri": "https://localhost:8080/",
     "height": 1000
    },
    "colab_type": "code",
    "id": "m_UibTb9KZ6w",
    "outputId": "deda5bcf-51d8-48a1-feb3-9ef78a809c13"
   },
   "outputs": [
    {
     "name": "stderr",
     "output_type": "stream",
     "text": [
      "2020-09-03 11:25:32,610 : INFO : training model with 8 workers on 30369 vocabulary and 300 features, using sg=0 hs=0 sample=0.001 negative=5 window=7\n",
      "2020-09-03 11:25:33,662 : INFO : EPOCH 1 - PROGRESS: at 3.80% examples, 305043 words/s, in_qsize 14, out_qsize 4\n",
      "2020-09-03 11:25:34,711 : INFO : EPOCH 1 - PROGRESS: at 8.80% examples, 346405 words/s, in_qsize 15, out_qsize 0\n",
      "2020-09-03 11:25:35,721 : INFO : EPOCH 1 - PROGRESS: at 13.68% examples, 362824 words/s, in_qsize 14, out_qsize 1\n",
      "2020-09-03 11:25:36,735 : INFO : EPOCH 1 - PROGRESS: at 18.11% examples, 362038 words/s, in_qsize 15, out_qsize 0\n",
      "2020-09-03 11:25:37,741 : INFO : EPOCH 1 - PROGRESS: at 22.55% examples, 362271 words/s, in_qsize 16, out_qsize 0\n",
      "2020-09-03 11:25:38,742 : INFO : EPOCH 1 - PROGRESS: at 27.10% examples, 364149 words/s, in_qsize 15, out_qsize 0\n",
      "2020-09-03 11:25:39,748 : INFO : EPOCH 1 - PROGRESS: at 31.86% examples, 367799 words/s, in_qsize 14, out_qsize 1\n",
      "2020-09-03 11:25:40,767 : INFO : EPOCH 1 - PROGRESS: at 36.40% examples, 367704 words/s, in_qsize 16, out_qsize 1\n",
      "2020-09-03 11:25:41,864 : INFO : EPOCH 1 - PROGRESS: at 41.37% examples, 369217 words/s, in_qsize 15, out_qsize 2\n",
      "2020-09-03 11:25:42,907 : INFO : EPOCH 1 - PROGRESS: at 46.46% examples, 371692 words/s, in_qsize 15, out_qsize 0\n",
      "2020-09-03 11:25:43,980 : INFO : EPOCH 1 - PROGRESS: at 51.21% examples, 371093 words/s, in_qsize 15, out_qsize 0\n",
      "2020-09-03 11:25:44,985 : INFO : EPOCH 1 - PROGRESS: at 55.86% examples, 371946 words/s, in_qsize 14, out_qsize 3\n",
      "2020-09-03 11:25:46,025 : INFO : EPOCH 1 - PROGRESS: at 60.63% examples, 372322 words/s, in_qsize 15, out_qsize 0\n",
      "2020-09-03 11:25:47,055 : INFO : EPOCH 1 - PROGRESS: at 65.61% examples, 374125 words/s, in_qsize 15, out_qsize 0\n",
      "2020-09-03 11:25:48,064 : INFO : EPOCH 1 - PROGRESS: at 69.94% examples, 372764 words/s, in_qsize 12, out_qsize 3\n",
      "2020-09-03 11:25:49,078 : INFO : EPOCH 1 - PROGRESS: at 74.59% examples, 373063 words/s, in_qsize 16, out_qsize 0\n",
      "2020-09-03 11:25:50,099 : INFO : EPOCH 1 - PROGRESS: at 79.60% examples, 374720 words/s, in_qsize 15, out_qsize 0\n",
      "2020-09-03 11:25:51,165 : INFO : EPOCH 1 - PROGRESS: at 84.04% examples, 372865 words/s, in_qsize 15, out_qsize 0\n",
      "2020-09-03 11:25:52,202 : INFO : EPOCH 1 - PROGRESS: at 89.13% examples, 374487 words/s, in_qsize 15, out_qsize 0\n",
      "2020-09-03 11:25:53,206 : INFO : EPOCH 1 - PROGRESS: at 93.37% examples, 373077 words/s, in_qsize 14, out_qsize 1\n",
      "2020-09-03 11:25:54,320 : INFO : EPOCH 1 - PROGRESS: at 98.36% examples, 372959 words/s, in_qsize 15, out_qsize 2\n",
      "2020-09-03 11:25:54,461 : INFO : worker thread finished; awaiting finish of 7 more threads\n",
      "2020-09-03 11:25:54,498 : INFO : worker thread finished; awaiting finish of 6 more threads\n",
      "2020-09-03 11:25:54,508 : INFO : worker thread finished; awaiting finish of 5 more threads\n",
      "2020-09-03 11:25:54,516 : INFO : worker thread finished; awaiting finish of 4 more threads\n",
      "2020-09-03 11:25:54,532 : INFO : worker thread finished; awaiting finish of 3 more threads\n",
      "2020-09-03 11:25:54,537 : INFO : worker thread finished; awaiting finish of 2 more threads\n",
      "2020-09-03 11:25:54,544 : INFO : worker thread finished; awaiting finish of 1 more threads\n",
      "2020-09-03 11:25:54,547 : INFO : worker thread finished; awaiting finish of 0 more threads\n",
      "2020-09-03 11:25:54,548 : INFO : EPOCH - 1 : training on 9227204 raw words (8221141 effective words) took 21.9s, 375064 effective words/s\n",
      "2020-09-03 11:25:55,566 : INFO : EPOCH 2 - PROGRESS: at 4.23% examples, 345900 words/s, in_qsize 15, out_qsize 1\n",
      "2020-09-03 11:25:56,620 : INFO : EPOCH 2 - PROGRESS: at 8.80% examples, 350481 words/s, in_qsize 16, out_qsize 0\n",
      "2020-09-03 11:25:57,636 : INFO : EPOCH 2 - PROGRESS: at 13.25% examples, 353464 words/s, in_qsize 15, out_qsize 0\n",
      "2020-09-03 11:25:58,640 : INFO : EPOCH 2 - PROGRESS: at 17.57% examples, 353722 words/s, in_qsize 14, out_qsize 1\n",
      "2020-09-03 11:25:59,657 : INFO : EPOCH 2 - PROGRESS: at 22.01% examples, 354871 words/s, in_qsize 15, out_qsize 0\n",
      "2020-09-03 11:26:00,659 : INFO : EPOCH 2 - PROGRESS: at 26.24% examples, 353530 words/s, in_qsize 14, out_qsize 3\n",
      "2020-09-03 11:26:01,807 : INFO : EPOCH 2 - PROGRESS: at 31.43% examples, 356562 words/s, in_qsize 10, out_qsize 5\n",
      "2020-09-03 11:26:02,826 : INFO : EPOCH 2 - PROGRESS: at 36.51% examples, 363208 words/s, in_qsize 14, out_qsize 0\n",
      "2020-09-03 11:26:03,836 : INFO : EPOCH 2 - PROGRESS: at 41.05% examples, 363971 words/s, in_qsize 15, out_qsize 0\n",
      "2020-09-03 11:26:04,878 : INFO : EPOCH 2 - PROGRESS: at 45.16% examples, 360047 words/s, in_qsize 15, out_qsize 0\n",
      "2020-09-03 11:26:05,953 : INFO : EPOCH 2 - PROGRESS: at 50.24% examples, 362838 words/s, in_qsize 15, out_qsize 0\n",
      "2020-09-03 11:26:06,983 : INFO : EPOCH 2 - PROGRESS: at 54.56% examples, 361461 words/s, in_qsize 14, out_qsize 1\n",
      "2020-09-03 11:26:08,000 : INFO : EPOCH 2 - PROGRESS: at 59.23% examples, 362606 words/s, in_qsize 15, out_qsize 0\n",
      "2020-09-03 11:26:09,119 : INFO : EPOCH 2 - PROGRESS: at 63.75% examples, 360441 words/s, in_qsize 10, out_qsize 5\n",
      "2020-09-03 11:26:10,121 : INFO : EPOCH 2 - PROGRESS: at 68.53% examples, 362417 words/s, in_qsize 12, out_qsize 3\n",
      "2020-09-03 11:26:11,139 : INFO : EPOCH 2 - PROGRESS: at 73.41% examples, 364346 words/s, in_qsize 13, out_qsize 0\n",
      "2020-09-03 11:26:12,181 : INFO : EPOCH 2 - PROGRESS: at 77.85% examples, 363505 words/s, in_qsize 15, out_qsize 0\n",
      "2020-09-03 11:26:13,206 : INFO : EPOCH 2 - PROGRESS: at 82.10% examples, 362154 words/s, in_qsize 15, out_qsize 0\n",
      "2020-09-03 11:26:14,249 : INFO : EPOCH 2 - PROGRESS: at 86.31% examples, 360787 words/s, in_qsize 15, out_qsize 2\n",
      "2020-09-03 11:26:15,274 : INFO : EPOCH 2 - PROGRESS: at 91.09% examples, 361649 words/s, in_qsize 15, out_qsize 0\n",
      "2020-09-03 11:26:16,298 : INFO : EPOCH 2 - PROGRESS: at 95.55% examples, 361419 words/s, in_qsize 14, out_qsize 1\n",
      "2020-09-03 11:26:17,084 : INFO : worker thread finished; awaiting finish of 7 more threads\n",
      "2020-09-03 11:26:17,103 : INFO : worker thread finished; awaiting finish of 6 more threads\n",
      "2020-09-03 11:26:17,131 : INFO : worker thread finished; awaiting finish of 5 more threads\n",
      "2020-09-03 11:26:17,139 : INFO : worker thread finished; awaiting finish of 4 more threads\n",
      "2020-09-03 11:26:17,166 : INFO : worker thread finished; awaiting finish of 3 more threads\n",
      "2020-09-03 11:26:17,169 : INFO : worker thread finished; awaiting finish of 2 more threads\n",
      "2020-09-03 11:26:17,172 : INFO : worker thread finished; awaiting finish of 1 more threads\n",
      "2020-09-03 11:26:17,184 : INFO : worker thread finished; awaiting finish of 0 more threads\n",
      "2020-09-03 11:26:17,186 : INFO : EPOCH - 2 : training on 9227204 raw words (8222193 effective words) took 22.6s, 363422 effective words/s\n",
      "2020-09-03 11:26:18,231 : INFO : EPOCH 3 - PROGRESS: at 3.69% examples, 293282 words/s, in_qsize 16, out_qsize 4\n",
      "2020-09-03 11:26:19,247 : INFO : EPOCH 3 - PROGRESS: at 8.15% examples, 326345 words/s, in_qsize 16, out_qsize 2\n",
      "2020-09-03 11:26:20,253 : INFO : EPOCH 3 - PROGRESS: at 12.93% examples, 347105 words/s, in_qsize 15, out_qsize 0\n",
      "2020-09-03 11:26:21,261 : INFO : EPOCH 3 - PROGRESS: at 17.24% examples, 348648 words/s, in_qsize 16, out_qsize 0\n",
      "2020-09-03 11:26:22,262 : INFO : EPOCH 3 - PROGRESS: at 21.46% examples, 348311 words/s, in_qsize 16, out_qsize 1\n",
      "2020-09-03 11:26:23,278 : INFO : EPOCH 3 - PROGRESS: at 25.91% examples, 350491 words/s, in_qsize 15, out_qsize 3\n",
      "2020-09-03 11:26:24,348 : INFO : EPOCH 3 - PROGRESS: at 30.89% examples, 355153 words/s, in_qsize 16, out_qsize 0\n",
      "2020-09-03 11:26:25,362 : INFO : EPOCH 3 - PROGRESS: at 35.21% examples, 354678 words/s, in_qsize 15, out_qsize 0\n",
      "2020-09-03 11:26:26,396 : INFO : EPOCH 3 - PROGRESS: at 39.86% examples, 356448 words/s, in_qsize 15, out_qsize 0\n",
      "2020-09-03 11:26:27,403 : INFO : EPOCH 3 - PROGRESS: at 44.18% examples, 356208 words/s, in_qsize 13, out_qsize 2\n",
      "2020-09-03 11:26:28,432 : INFO : EPOCH 3 - PROGRESS: at 49.16% examples, 360059 words/s, in_qsize 16, out_qsize 0\n",
      "2020-09-03 11:26:29,434 : INFO : EPOCH 3 - PROGRESS: at 53.27% examples, 358281 words/s, in_qsize 15, out_qsize 0\n",
      "2020-09-03 11:26:30,448 : INFO : EPOCH 3 - PROGRESS: at 57.60% examples, 358079 words/s, in_qsize 14, out_qsize 3\n",
      "2020-09-03 11:26:31,444 : INFO : EPOCH 3 - PROGRESS: at 62.46% examples, 360906 words/s, in_qsize 16, out_qsize 0\n",
      "2020-09-03 11:26:32,534 : INFO : EPOCH 3 - PROGRESS: at 66.90% examples, 359064 words/s, in_qsize 15, out_qsize 0\n",
      "2020-09-03 11:26:33,537 : INFO : EPOCH 3 - PROGRESS: at 71.78% examples, 361551 words/s, in_qsize 14, out_qsize 0\n",
      "2020-09-03 11:26:34,544 : INFO : EPOCH 3 - PROGRESS: at 76.11% examples, 361084 words/s, in_qsize 16, out_qsize 0\n",
      "2020-09-03 11:26:35,590 : INFO : EPOCH 3 - PROGRESS: at 80.46% examples, 359916 words/s, in_qsize 16, out_qsize 1\n",
      "2020-09-03 11:26:36,598 : INFO : EPOCH 3 - PROGRESS: at 84.91% examples, 360041 words/s, in_qsize 14, out_qsize 1\n",
      "2020-09-03 11:26:37,601 : INFO : EPOCH 3 - PROGRESS: at 90.00% examples, 362856 words/s, in_qsize 15, out_qsize 0\n",
      "2020-09-03 11:26:38,611 : INFO : EPOCH 3 - PROGRESS: at 94.25% examples, 361953 words/s, in_qsize 14, out_qsize 1\n",
      "2020-09-03 11:26:39,640 : INFO : EPOCH 3 - PROGRESS: at 98.90% examples, 362424 words/s, in_qsize 7, out_qsize 5\n",
      "2020-09-03 11:26:39,655 : INFO : worker thread finished; awaiting finish of 7 more threads\n",
      "2020-09-03 11:26:39,688 : INFO : worker thread finished; awaiting finish of 6 more threads\n",
      "2020-09-03 11:26:39,705 : INFO : worker thread finished; awaiting finish of 5 more threads\n",
      "2020-09-03 11:26:39,733 : INFO : worker thread finished; awaiting finish of 4 more threads\n",
      "2020-09-03 11:26:39,754 : INFO : worker thread finished; awaiting finish of 3 more threads\n",
      "2020-09-03 11:26:39,758 : INFO : worker thread finished; awaiting finish of 2 more threads\n",
      "2020-09-03 11:26:39,765 : INFO : worker thread finished; awaiting finish of 1 more threads\n",
      "2020-09-03 11:26:39,778 : INFO : worker thread finished; awaiting finish of 0 more threads\n",
      "2020-09-03 11:26:39,779 : INFO : EPOCH - 3 : training on 9227204 raw words (8223445 effective words) took 22.6s, 364192 effective words/s\n",
      "2020-09-03 11:26:40,814 : INFO : EPOCH 4 - PROGRESS: at 3.80% examples, 309400 words/s, in_qsize 15, out_qsize 3\n",
      "2020-09-03 11:26:41,898 : INFO : EPOCH 4 - PROGRESS: at 8.69% examples, 342379 words/s, in_qsize 15, out_qsize 2\n",
      "2020-09-03 11:26:42,919 : INFO : EPOCH 4 - PROGRESS: at 13.36% examples, 351948 words/s, in_qsize 15, out_qsize 0\n",
      "2020-09-03 11:26:43,941 : INFO : EPOCH 4 - PROGRESS: at 18.00% examples, 357418 words/s, in_qsize 16, out_qsize 0\n",
      "2020-09-03 11:26:45,010 : INFO : EPOCH 4 - PROGRESS: at 22.54% examples, 355966 words/s, in_qsize 15, out_qsize 0\n",
      "2020-09-03 11:26:46,049 : INFO : EPOCH 4 - PROGRESS: at 27.53% examples, 362375 words/s, in_qsize 15, out_qsize 0\n",
      "2020-09-03 11:26:47,059 : INFO : EPOCH 4 - PROGRESS: at 32.30% examples, 365970 words/s, in_qsize 15, out_qsize 0\n",
      "2020-09-03 11:26:48,063 : INFO : EPOCH 4 - PROGRESS: at 36.61% examples, 364591 words/s, in_qsize 16, out_qsize 0\n",
      "2020-09-03 11:26:49,069 : INFO : EPOCH 4 - PROGRESS: at 40.94% examples, 363453 words/s, in_qsize 13, out_qsize 2\n",
      "2020-09-03 11:26:50,072 : INFO : EPOCH 4 - PROGRESS: at 45.48% examples, 364406 words/s, in_qsize 13, out_qsize 2\n",
      "2020-09-03 11:26:51,124 : INFO : EPOCH 4 - PROGRESS: at 49.81% examples, 362347 words/s, in_qsize 15, out_qsize 3\n",
      "2020-09-03 11:26:52,120 : INFO : EPOCH 4 - PROGRESS: at 54.24% examples, 362432 words/s, in_qsize 15, out_qsize 0\n",
      "2020-09-03 11:26:53,228 : INFO : EPOCH 4 - PROGRESS: at 58.90% examples, 361100 words/s, in_qsize 13, out_qsize 2\n",
      "2020-09-03 11:26:54,241 : INFO : EPOCH 4 - PROGRESS: at 63.54% examples, 362252 words/s, in_qsize 16, out_qsize 1\n",
      "2020-09-03 11:26:55,313 : INFO : EPOCH 4 - PROGRESS: at 68.21% examples, 361916 words/s, in_qsize 12, out_qsize 3\n",
      "2020-09-03 11:26:56,362 : INFO : EPOCH 4 - PROGRESS: at 72.86% examples, 362116 words/s, in_qsize 14, out_qsize 4\n",
      "2020-09-03 11:26:57,396 : INFO : EPOCH 4 - PROGRESS: at 77.85% examples, 364115 words/s, in_qsize 16, out_qsize 0\n",
      "2020-09-03 11:26:58,476 : INFO : EPOCH 4 - PROGRESS: at 82.32% examples, 362614 words/s, in_qsize 10, out_qsize 5\n",
      "2020-09-03 11:26:59,496 : INFO : EPOCH 4 - PROGRESS: at 87.08% examples, 363733 words/s, in_qsize 14, out_qsize 3\n",
      "2020-09-03 11:27:00,516 : INFO : EPOCH 4 - PROGRESS: at 91.63% examples, 363859 words/s, in_qsize 13, out_qsize 2\n",
      "2020-09-03 11:27:01,533 : INFO : EPOCH 4 - PROGRESS: at 96.10% examples, 363632 words/s, in_qsize 12, out_qsize 3\n",
      "2020-09-03 11:27:02,171 : INFO : worker thread finished; awaiting finish of 7 more threads\n",
      "2020-09-03 11:27:02,178 : INFO : worker thread finished; awaiting finish of 6 more threads\n",
      "2020-09-03 11:27:02,184 : INFO : worker thread finished; awaiting finish of 5 more threads\n",
      "2020-09-03 11:27:02,188 : INFO : worker thread finished; awaiting finish of 4 more threads\n",
      "2020-09-03 11:27:02,213 : INFO : worker thread finished; awaiting finish of 3 more threads\n",
      "2020-09-03 11:27:02,215 : INFO : worker thread finished; awaiting finish of 2 more threads\n",
      "2020-09-03 11:27:02,236 : INFO : worker thread finished; awaiting finish of 1 more threads\n",
      "2020-09-03 11:27:02,242 : INFO : worker thread finished; awaiting finish of 0 more threads\n",
      "2020-09-03 11:27:02,243 : INFO : EPOCH - 4 : training on 9227204 raw words (8222450 effective words) took 22.4s, 366457 effective words/s\n",
      "2020-09-03 11:27:03,261 : INFO : EPOCH 5 - PROGRESS: at 3.80% examples, 310605 words/s, in_qsize 16, out_qsize 1\n",
      "2020-09-03 11:27:04,266 : INFO : EPOCH 5 - PROGRESS: at 8.36% examples, 341598 words/s, in_qsize 14, out_qsize 1\n",
      "2020-09-03 11:27:05,352 : INFO : EPOCH 5 - PROGRESS: at 13.36% examples, 354100 words/s, in_qsize 15, out_qsize 0\n",
      "2020-09-03 11:27:06,391 : INFO : EPOCH 5 - PROGRESS: at 17.78% examples, 353377 words/s, in_qsize 15, out_qsize 0\n",
      "2020-09-03 11:27:07,419 : INFO : EPOCH 5 - PROGRESS: at 22.54% examples, 358979 words/s, in_qsize 15, out_qsize 0\n",
      "2020-09-03 11:27:08,425 : INFO : EPOCH 5 - PROGRESS: at 26.78% examples, 356768 words/s, in_qsize 14, out_qsize 1\n",
      "2020-09-03 11:27:09,511 : INFO : EPOCH 5 - PROGRESS: at 31.64% examples, 359909 words/s, in_qsize 15, out_qsize 0\n",
      "2020-09-03 11:27:10,543 : INFO : EPOCH 5 - PROGRESS: at 36.40% examples, 362223 words/s, in_qsize 15, out_qsize 0\n",
      "2020-09-03 11:27:11,529 : INFO : EPOCH 5 - PROGRESS: at 40.62% examples, 360351 words/s, in_qsize 15, out_qsize 0\n",
      "2020-09-03 11:27:12,533 : INFO : EPOCH 5 - PROGRESS: at 45.48% examples, 364128 words/s, in_qsize 15, out_qsize 0\n",
      "2020-09-03 11:27:13,538 : INFO : EPOCH 5 - PROGRESS: at 49.49% examples, 360925 words/s, in_qsize 10, out_qsize 5\n",
      "2020-09-03 11:27:14,584 : INFO : EPOCH 5 - PROGRESS: at 54.25% examples, 362118 words/s, in_qsize 14, out_qsize 1\n",
      "2020-09-03 11:27:15,600 : INFO : EPOCH 5 - PROGRESS: at 58.58% examples, 361261 words/s, in_qsize 13, out_qsize 5\n",
      "2020-09-03 11:27:16,726 : INFO : EPOCH 5 - PROGRESS: at 63.86% examples, 363324 words/s, in_qsize 15, out_qsize 0\n",
      "2020-09-03 11:27:17,827 : INFO : EPOCH 5 - PROGRESS: at 68.53% examples, 362519 words/s, in_qsize 16, out_qsize 4\n",
      "2020-09-03 11:27:18,822 : INFO : EPOCH 5 - PROGRESS: at 73.62% examples, 365735 words/s, in_qsize 15, out_qsize 0\n",
      "2020-09-03 11:27:19,831 : INFO : EPOCH 5 - PROGRESS: at 77.53% examples, 362973 words/s, in_qsize 11, out_qsize 4\n",
      "2020-09-03 11:27:20,839 : INFO : EPOCH 5 - PROGRESS: at 82.42% examples, 364857 words/s, in_qsize 13, out_qsize 2\n",
      "2020-09-03 11:27:21,855 : INFO : EPOCH 5 - PROGRESS: at 86.64% examples, 363667 words/s, in_qsize 15, out_qsize 2\n",
      "2020-09-03 11:27:22,866 : INFO : EPOCH 5 - PROGRESS: at 91.42% examples, 364838 words/s, in_qsize 15, out_qsize 0\n",
      "2020-09-03 11:27:23,902 : INFO : EPOCH 5 - PROGRESS: at 95.45% examples, 362586 words/s, in_qsize 16, out_qsize 1\n",
      "2020-09-03 11:27:24,731 : INFO : worker thread finished; awaiting finish of 7 more threads\n",
      "2020-09-03 11:27:24,745 : INFO : worker thread finished; awaiting finish of 6 more threads\n",
      "2020-09-03 11:27:24,770 : INFO : worker thread finished; awaiting finish of 5 more threads\n",
      "2020-09-03 11:27:24,789 : INFO : worker thread finished; awaiting finish of 4 more threads\n",
      "2020-09-03 11:27:24,800 : INFO : worker thread finished; awaiting finish of 3 more threads\n",
      "2020-09-03 11:27:24,814 : INFO : worker thread finished; awaiting finish of 2 more threads\n",
      "2020-09-03 11:27:24,823 : INFO : worker thread finished; awaiting finish of 1 more threads\n",
      "2020-09-03 11:27:24,831 : INFO : worker thread finished; awaiting finish of 0 more threads\n",
      "2020-09-03 11:27:24,831 : INFO : EPOCH - 5 : training on 9227204 raw words (8223421 effective words) took 22.6s, 364282 effective words/s\n",
      "2020-09-03 11:27:25,902 : INFO : EPOCH 6 - PROGRESS: at 3.91% examples, 303021 words/s, in_qsize 12, out_qsize 3\n",
      "2020-09-03 11:27:26,938 : INFO : EPOCH 6 - PROGRESS: at 8.69% examples, 340414 words/s, in_qsize 15, out_qsize 0\n",
      "2020-09-03 11:27:27,954 : INFO : EPOCH 6 - PROGRESS: at 13.36% examples, 352418 words/s, in_qsize 16, out_qsize 0\n",
      "2020-09-03 11:27:28,969 : INFO : EPOCH 6 - PROGRESS: at 17.78% examples, 354128 words/s, in_qsize 15, out_qsize 0\n",
      "2020-09-03 11:27:29,979 : INFO : EPOCH 6 - PROGRESS: at 22.43% examples, 359101 words/s, in_qsize 16, out_qsize 0\n",
      "2020-09-03 11:27:30,993 : INFO : EPOCH 6 - PROGRESS: at 26.77% examples, 357834 words/s, in_qsize 15, out_qsize 0\n",
      "2020-09-03 11:27:32,006 : INFO : EPOCH 6 - PROGRESS: at 31.10% examples, 356991 words/s, in_qsize 15, out_qsize 0\n",
      "2020-09-03 11:27:33,007 : INFO : EPOCH 6 - PROGRESS: at 35.75% examples, 360109 words/s, in_qsize 14, out_qsize 0\n",
      "2020-09-03 11:27:34,016 : INFO : EPOCH 6 - PROGRESS: at 40.19% examples, 360276 words/s, in_qsize 15, out_qsize 0\n",
      "2020-09-03 11:27:35,128 : INFO : EPOCH 6 - PROGRESS: at 44.62% examples, 356807 words/s, in_qsize 14, out_qsize 1\n",
      "2020-09-03 11:27:36,147 : INFO : EPOCH 6 - PROGRESS: at 49.27% examples, 358534 words/s, in_qsize 16, out_qsize 0\n",
      "2020-09-03 11:27:37,205 : INFO : EPOCH 6 - PROGRESS: at 53.81% examples, 358160 words/s, in_qsize 15, out_qsize 0\n",
      "2020-09-03 11:27:38,255 : INFO : EPOCH 6 - PROGRESS: at 58.58% examples, 359358 words/s, in_qsize 15, out_qsize 0\n",
      "2020-09-03 11:27:39,257 : INFO : EPOCH 6 - PROGRESS: at 63.22% examples, 360967 words/s, in_qsize 14, out_qsize 2\n",
      "2020-09-03 11:27:40,275 : INFO : EPOCH 6 - PROGRESS: at 67.88% examples, 361960 words/s, in_qsize 15, out_qsize 0\n",
      "2020-09-03 11:27:41,281 : INFO : EPOCH 6 - PROGRESS: at 72.21% examples, 361473 words/s, in_qsize 15, out_qsize 0\n",
      "2020-09-03 11:27:42,292 : INFO : EPOCH 6 - PROGRESS: at 76.66% examples, 361445 words/s, in_qsize 15, out_qsize 0\n",
      "2020-09-03 11:27:43,305 : INFO : EPOCH 6 - PROGRESS: at 81.12% examples, 361396 words/s, in_qsize 15, out_qsize 0\n",
      "2020-09-03 11:27:44,343 : INFO : EPOCH 6 - PROGRESS: at 85.55% examples, 360883 words/s, in_qsize 15, out_qsize 0\n",
      "2020-09-03 11:27:45,345 : INFO : EPOCH 6 - PROGRESS: at 90.00% examples, 361060 words/s, in_qsize 11, out_qsize 4\n",
      "2020-09-03 11:27:46,458 : INFO : EPOCH 6 - PROGRESS: at 94.90% examples, 360998 words/s, in_qsize 15, out_qsize 0\n",
      "2020-09-03 11:27:47,332 : INFO : worker thread finished; awaiting finish of 7 more threads\n",
      "2020-09-03 11:27:47,377 : INFO : worker thread finished; awaiting finish of 6 more threads\n",
      "2020-09-03 11:27:47,386 : INFO : worker thread finished; awaiting finish of 5 more threads\n",
      "2020-09-03 11:27:47,398 : INFO : worker thread finished; awaiting finish of 4 more threads\n",
      "2020-09-03 11:27:47,413 : INFO : worker thread finished; awaiting finish of 3 more threads\n",
      "2020-09-03 11:27:47,430 : INFO : worker thread finished; awaiting finish of 2 more threads\n",
      "2020-09-03 11:27:47,441 : INFO : worker thread finished; awaiting finish of 1 more threads\n",
      "2020-09-03 11:27:47,449 : INFO : worker thread finished; awaiting finish of 0 more threads\n",
      "2020-09-03 11:27:47,450 : INFO : EPOCH - 6 : training on 9227204 raw words (8222377 effective words) took 22.6s, 363736 effective words/s\n",
      "2020-09-03 11:27:48,507 : INFO : EPOCH 7 - PROGRESS: at 4.13% examples, 324251 words/s, in_qsize 14, out_qsize 2\n",
      "2020-09-03 11:27:49,522 : INFO : EPOCH 7 - PROGRESS: at 8.80% examples, 350556 words/s, in_qsize 15, out_qsize 0\n",
      "2020-09-03 11:27:50,560 : INFO : EPOCH 7 - PROGRESS: at 13.36% examples, 353763 words/s, in_qsize 15, out_qsize 0\n",
      "2020-09-03 11:27:51,580 : INFO : EPOCH 7 - PROGRESS: at 18.00% examples, 359012 words/s, in_qsize 16, out_qsize 0\n",
      "2020-09-03 11:27:52,669 : INFO : EPOCH 7 - PROGRESS: at 22.54% examples, 355846 words/s, in_qsize 13, out_qsize 4\n",
      "2020-09-03 11:27:53,678 : INFO : EPOCH 7 - PROGRESS: at 27.10% examples, 358268 words/s, in_qsize 15, out_qsize 0\n",
      "2020-09-03 11:27:54,700 : INFO : EPOCH 7 - PROGRESS: at 31.76% examples, 360633 words/s, in_qsize 15, out_qsize 2\n",
      "2020-09-03 11:27:55,737 : INFO : EPOCH 7 - PROGRESS: at 36.51% examples, 362749 words/s, in_qsize 15, out_qsize 0\n",
      "2020-09-03 11:27:56,758 : INFO : EPOCH 7 - PROGRESS: at 40.73% examples, 360293 words/s, in_qsize 15, out_qsize 0\n",
      "2020-09-03 11:27:57,759 : INFO : EPOCH 7 - PROGRESS: at 45.16% examples, 360733 words/s, in_qsize 14, out_qsize 1\n",
      "2020-09-03 11:27:58,780 : INFO : EPOCH 7 - PROGRESS: at 49.59% examples, 360801 words/s, in_qsize 15, out_qsize 1\n",
      "2020-09-03 11:27:59,795 : INFO : EPOCH 7 - PROGRESS: at 54.03% examples, 360443 words/s, in_qsize 15, out_qsize 0\n",
      "2020-09-03 11:28:00,795 : INFO : EPOCH 7 - PROGRESS: at 58.68% examples, 362139 words/s, in_qsize 14, out_qsize 2\n",
      "2020-09-03 11:28:01,860 : INFO : EPOCH 7 - PROGRESS: at 63.11% examples, 360733 words/s, in_qsize 13, out_qsize 2\n",
      "2020-09-03 11:28:02,862 : INFO : EPOCH 7 - PROGRESS: at 67.66% examples, 361536 words/s, in_qsize 15, out_qsize 0\n",
      "2020-09-03 11:28:03,872 : INFO : EPOCH 7 - PROGRESS: at 72.42% examples, 363168 words/s, in_qsize 14, out_qsize 0\n",
      "2020-09-03 11:28:04,874 : INFO : EPOCH 7 - PROGRESS: at 76.98% examples, 363732 words/s, in_qsize 15, out_qsize 0\n",
      "2020-09-03 11:28:05,926 : INFO : EPOCH 7 - PROGRESS: at 81.34% examples, 362302 words/s, in_qsize 15, out_qsize 0\n",
      "2020-09-03 11:28:06,940 : INFO : EPOCH 7 - PROGRESS: at 86.31% examples, 364467 words/s, in_qsize 16, out_qsize 0\n",
      "2020-09-03 11:28:07,962 : INFO : EPOCH 7 - PROGRESS: at 90.22% examples, 362181 words/s, in_qsize 15, out_qsize 1\n",
      "2020-09-03 11:28:09,041 : INFO : EPOCH 7 - PROGRESS: at 94.80% examples, 361136 words/s, in_qsize 11, out_qsize 4\n",
      "2020-09-03 11:28:09,890 : INFO : worker thread finished; awaiting finish of 7 more threads\n",
      "2020-09-03 11:28:09,925 : INFO : worker thread finished; awaiting finish of 6 more threads\n",
      "2020-09-03 11:28:09,943 : INFO : worker thread finished; awaiting finish of 5 more threads\n",
      "2020-09-03 11:28:09,997 : INFO : worker thread finished; awaiting finish of 4 more threads\n",
      "2020-09-03 11:28:10,002 : INFO : worker thread finished; awaiting finish of 3 more threads\n",
      "2020-09-03 11:28:10,024 : INFO : worker thread finished; awaiting finish of 2 more threads\n",
      "2020-09-03 11:28:10,027 : INFO : worker thread finished; awaiting finish of 1 more threads\n",
      "2020-09-03 11:28:10,032 : INFO : worker thread finished; awaiting finish of 0 more threads\n",
      "2020-09-03 11:28:10,034 : INFO : EPOCH - 7 : training on 9227204 raw words (8221405 effective words) took 22.6s, 364250 effective words/s\n",
      "2020-09-03 11:28:11,062 : INFO : EPOCH 8 - PROGRESS: at 3.91% examples, 316328 words/s, in_qsize 13, out_qsize 2\n",
      "2020-09-03 11:28:12,183 : INFO : EPOCH 8 - PROGRESS: at 8.80% examples, 338115 words/s, in_qsize 16, out_qsize 1\n",
      "2020-09-03 11:28:13,250 : INFO : EPOCH 8 - PROGRESS: at 13.47% examples, 345130 words/s, in_qsize 14, out_qsize 1\n",
      "2020-09-03 11:28:14,254 : INFO : EPOCH 8 - PROGRESS: at 18.32% examples, 357924 words/s, in_qsize 15, out_qsize 0\n",
      "2020-09-03 11:28:15,298 : INFO : EPOCH 8 - PROGRESS: at 22.65% examples, 354697 words/s, in_qsize 16, out_qsize 0\n",
      "2020-09-03 11:28:16,377 : INFO : EPOCH 8 - PROGRESS: at 27.53% examples, 357596 words/s, in_qsize 15, out_qsize 0\n",
      "2020-09-03 11:28:17,394 : INFO : EPOCH 8 - PROGRESS: at 32.41% examples, 362647 words/s, in_qsize 16, out_qsize 0\n",
      "2020-09-03 11:28:18,434 : INFO : EPOCH 8 - PROGRESS: at 36.83% examples, 361212 words/s, in_qsize 15, out_qsize 0\n",
      "2020-09-03 11:28:19,442 : INFO : EPOCH 8 - PROGRESS: at 41.59% examples, 364197 words/s, in_qsize 15, out_qsize 0\n",
      "2020-09-03 11:28:20,459 : INFO : EPOCH 8 - PROGRESS: at 45.92% examples, 362821 words/s, in_qsize 16, out_qsize 0\n",
      "2020-09-03 11:28:21,461 : INFO : EPOCH 8 - PROGRESS: at 50.46% examples, 363788 words/s, in_qsize 15, out_qsize 0\n",
      "2020-09-03 11:28:22,475 : INFO : EPOCH 8 - PROGRESS: at 54.89% examples, 363491 words/s, in_qsize 15, out_qsize 0\n",
      "2020-09-03 11:28:23,506 : INFO : EPOCH 8 - PROGRESS: at 59.44% examples, 363444 words/s, in_qsize 16, out_qsize 0\n",
      "2020-09-03 11:28:24,555 : INFO : EPOCH 8 - PROGRESS: at 63.97% examples, 362967 words/s, in_qsize 14, out_qsize 1\n",
      "2020-09-03 11:28:25,560 : INFO : EPOCH 8 - PROGRESS: at 68.53% examples, 363560 words/s, in_qsize 14, out_qsize 3\n",
      "2020-09-03 11:28:26,580 : INFO : EPOCH 8 - PROGRESS: at 72.97% examples, 363219 words/s, in_qsize 13, out_qsize 1\n",
      "2020-09-03 11:28:27,599 : INFO : EPOCH 8 - PROGRESS: at 77.63% examples, 363939 words/s, in_qsize 15, out_qsize 0\n",
      "2020-09-03 11:28:28,618 : INFO : EPOCH 8 - PROGRESS: at 82.10% examples, 363621 words/s, in_qsize 14, out_qsize 1\n",
      "2020-09-03 11:28:29,630 : INFO : EPOCH 8 - PROGRESS: at 86.96% examples, 365297 words/s, in_qsize 15, out_qsize 0\n",
      "2020-09-03 11:28:30,631 : INFO : EPOCH 8 - PROGRESS: at 91.09% examples, 363965 words/s, in_qsize 15, out_qsize 0\n",
      "2020-09-03 11:28:31,686 : INFO : EPOCH 8 - PROGRESS: at 95.66% examples, 363487 words/s, in_qsize 15, out_qsize 0\n",
      "2020-09-03 11:28:32,452 : INFO : worker thread finished; awaiting finish of 7 more threads\n",
      "2020-09-03 11:28:32,458 : INFO : worker thread finished; awaiting finish of 6 more threads\n",
      "2020-09-03 11:28:32,470 : INFO : worker thread finished; awaiting finish of 5 more threads\n",
      "2020-09-03 11:28:32,502 : INFO : worker thread finished; awaiting finish of 4 more threads\n",
      "2020-09-03 11:28:32,507 : INFO : worker thread finished; awaiting finish of 3 more threads\n",
      "2020-09-03 11:28:32,511 : INFO : worker thread finished; awaiting finish of 2 more threads\n",
      "2020-09-03 11:28:32,521 : INFO : worker thread finished; awaiting finish of 1 more threads\n",
      "2020-09-03 11:28:32,534 : INFO : worker thread finished; awaiting finish of 0 more threads\n",
      "2020-09-03 11:28:32,535 : INFO : EPOCH - 8 : training on 9227204 raw words (8222107 effective words) took 22.5s, 365660 effective words/s\n",
      "2020-09-03 11:28:33,586 : INFO : EPOCH 9 - PROGRESS: at 3.91% examples, 308873 words/s, in_qsize 16, out_qsize 0\n",
      "2020-09-03 11:28:34,603 : INFO : EPOCH 9 - PROGRESS: at 8.58% examples, 342268 words/s, in_qsize 15, out_qsize 0\n",
      "2020-09-03 11:28:35,625 : INFO : EPOCH 9 - PROGRESS: at 13.14% examples, 350148 words/s, in_qsize 14, out_qsize 1\n",
      "2020-09-03 11:28:36,715 : INFO : EPOCH 9 - PROGRESS: at 18.11% examples, 356804 words/s, in_qsize 15, out_qsize 0\n",
      "2020-09-03 11:28:37,720 : INFO : EPOCH 9 - PROGRESS: at 22.76% examples, 361606 words/s, in_qsize 15, out_qsize 0\n",
      "2020-09-03 11:28:38,746 : INFO : EPOCH 9 - PROGRESS: at 27.10% examples, 359261 words/s, in_qsize 13, out_qsize 2\n",
      "2020-09-03 11:28:39,817 : INFO : EPOCH 9 - PROGRESS: at 31.64% examples, 357838 words/s, in_qsize 14, out_qsize 1\n",
      "2020-09-03 11:28:40,862 : INFO : EPOCH 9 - PROGRESS: at 36.07% examples, 356760 words/s, in_qsize 12, out_qsize 3\n",
      "2020-09-03 11:28:41,970 : INFO : EPOCH 9 - PROGRESS: at 40.94% examples, 357501 words/s, in_qsize 15, out_qsize 1\n",
      "2020-09-03 11:28:42,969 : INFO : EPOCH 9 - PROGRESS: at 45.59% examples, 359831 words/s, in_qsize 16, out_qsize 2\n",
      "2020-09-03 11:28:44,020 : INFO : EPOCH 9 - PROGRESS: at 50.46% examples, 361824 words/s, in_qsize 15, out_qsize 0\n",
      "2020-09-03 11:28:45,043 : INFO : EPOCH 9 - PROGRESS: at 54.78% examples, 360759 words/s, in_qsize 14, out_qsize 1\n",
      "2020-09-03 11:28:46,046 : INFO : EPOCH 9 - PROGRESS: at 59.34% examples, 361676 words/s, in_qsize 16, out_qsize 0\n",
      "2020-09-03 11:28:47,167 : INFO : EPOCH 9 - PROGRESS: at 64.08% examples, 360770 words/s, in_qsize 9, out_qsize 7\n",
      "2020-09-03 11:28:48,194 : INFO : EPOCH 9 - PROGRESS: at 68.64% examples, 360987 words/s, in_qsize 15, out_qsize 2\n",
      "2020-09-03 11:28:49,249 : INFO : EPOCH 9 - PROGRESS: at 73.51% examples, 362185 words/s, in_qsize 15, out_qsize 0\n",
      "2020-09-03 11:28:50,289 : INFO : EPOCH 9 - PROGRESS: at 78.18% examples, 362552 words/s, in_qsize 16, out_qsize 1\n",
      "2020-09-03 11:28:51,369 : INFO : EPOCH 9 - PROGRESS: at 82.74% examples, 361617 words/s, in_qsize 16, out_qsize 0\n",
      "2020-09-03 11:28:52,398 : INFO : EPOCH 9 - PROGRESS: at 87.18% examples, 361254 words/s, in_qsize 15, out_qsize 0\n",
      "2020-09-03 11:28:53,401 : INFO : EPOCH 9 - PROGRESS: at 91.63% examples, 361365 words/s, in_qsize 12, out_qsize 1\n",
      "2020-09-03 11:28:54,405 : INFO : EPOCH 9 - PROGRESS: at 95.88% examples, 360659 words/s, in_qsize 15, out_qsize 0\n",
      "2020-09-03 11:28:55,111 : INFO : worker thread finished; awaiting finish of 7 more threads\n",
      "2020-09-03 11:28:55,119 : INFO : worker thread finished; awaiting finish of 6 more threads\n",
      "2020-09-03 11:28:55,149 : INFO : worker thread finished; awaiting finish of 5 more threads\n",
      "2020-09-03 11:28:55,164 : INFO : worker thread finished; awaiting finish of 4 more threads\n",
      "2020-09-03 11:28:55,165 : INFO : worker thread finished; awaiting finish of 3 more threads\n",
      "2020-09-03 11:28:55,175 : INFO : worker thread finished; awaiting finish of 2 more threads\n",
      "2020-09-03 11:28:55,185 : INFO : worker thread finished; awaiting finish of 1 more threads\n",
      "2020-09-03 11:28:55,190 : INFO : worker thread finished; awaiting finish of 0 more threads\n",
      "2020-09-03 11:28:55,191 : INFO : EPOCH - 9 : training on 9227204 raw words (8222876 effective words) took 22.6s, 363152 effective words/s\n",
      "2020-09-03 11:28:56,213 : INFO : EPOCH 10 - PROGRESS: at 3.80% examples, 308944 words/s, in_qsize 16, out_qsize 1\n",
      "2020-09-03 11:28:57,213 : INFO : EPOCH 10 - PROGRESS: at 8.58% examples, 350289 words/s, in_qsize 15, out_qsize 0\n",
      "2020-09-03 11:28:58,217 : INFO : EPOCH 10 - PROGRESS: at 12.60% examples, 342997 words/s, in_qsize 14, out_qsize 1\n",
      "2020-09-03 11:28:59,227 : INFO : EPOCH 10 - PROGRESS: at 17.03% examples, 347633 words/s, in_qsize 15, out_qsize 0\n",
      "2020-09-03 11:29:00,229 : INFO : EPOCH 10 - PROGRESS: at 21.57% examples, 352727 words/s, in_qsize 14, out_qsize 1\n",
      "2020-09-03 11:29:01,279 : INFO : EPOCH 10 - PROGRESS: at 26.34% examples, 356256 words/s, in_qsize 15, out_qsize 0\n",
      "2020-09-03 11:29:02,364 : INFO : EPOCH 10 - PROGRESS: at 31.10% examples, 357083 words/s, in_qsize 15, out_qsize 0\n",
      "2020-09-03 11:29:03,387 : INFO : EPOCH 10 - PROGRESS: at 35.42% examples, 355985 words/s, in_qsize 15, out_qsize 0\n",
      "2020-09-03 11:29:04,450 : INFO : EPOCH 10 - PROGRESS: at 39.86% examples, 355817 words/s, in_qsize 14, out_qsize 1\n",
      "2020-09-03 11:29:05,419 : INFO : EPOCH 10 - PROGRESS: at 44.40% examples, 357499 words/s, in_qsize 15, out_qsize 0\n",
      "2020-09-03 11:29:06,432 : INFO : EPOCH 10 - PROGRESS: at 48.84% examples, 357806 words/s, in_qsize 15, out_qsize 1\n",
      "2020-09-03 11:29:07,466 : INFO : EPOCH 10 - PROGRESS: at 53.38% examples, 358178 words/s, in_qsize 15, out_qsize 0\n",
      "2020-09-03 11:29:08,474 : INFO : EPOCH 10 - PROGRESS: at 57.81% examples, 358512 words/s, in_qsize 15, out_qsize 0\n",
      "2020-09-03 11:29:09,490 : INFO : EPOCH 10 - PROGRESS: at 61.93% examples, 356711 words/s, in_qsize 16, out_qsize 3\n",
      "2020-09-03 11:29:10,516 : INFO : EPOCH 10 - PROGRESS: at 66.91% examples, 359555 words/s, in_qsize 16, out_qsize 0\n",
      "2020-09-03 11:29:11,531 : INFO : EPOCH 10 - PROGRESS: at 71.02% examples, 357931 words/s, in_qsize 15, out_qsize 0\n",
      "2020-09-03 11:29:12,653 : INFO : EPOCH 10 - PROGRESS: at 75.67% examples, 356850 words/s, in_qsize 14, out_qsize 1\n",
      "2020-09-03 11:29:13,699 : INFO : EPOCH 10 - PROGRESS: at 80.58% examples, 358322 words/s, in_qsize 15, out_qsize 0\n",
      "2020-09-03 11:29:14,791 : INFO : EPOCH 10 - PROGRESS: at 85.13% examples, 357444 words/s, in_qsize 15, out_qsize 0\n",
      "2020-09-03 11:29:15,810 : INFO : EPOCH 10 - PROGRESS: at 90.10% examples, 359649 words/s, in_qsize 14, out_qsize 0\n",
      "2020-09-03 11:29:16,862 : INFO : EPOCH 10 - PROGRESS: at 94.58% examples, 359026 words/s, in_qsize 15, out_qsize 0\n",
      "2020-09-03 11:29:17,811 : INFO : worker thread finished; awaiting finish of 7 more threads\n",
      "2020-09-03 11:29:17,834 : INFO : worker thread finished; awaiting finish of 6 more threads\n",
      "2020-09-03 11:29:17,836 : INFO : worker thread finished; awaiting finish of 5 more threads\n",
      "2020-09-03 11:29:17,920 : INFO : EPOCH 10 - PROGRESS: at 99.56% examples, 360391 words/s, in_qsize 3, out_qsize 1\n",
      "2020-09-03 11:29:17,931 : INFO : worker thread finished; awaiting finish of 4 more threads\n",
      "2020-09-03 11:29:17,933 : INFO : worker thread finished; awaiting finish of 3 more threads\n",
      "2020-09-03 11:29:17,934 : INFO : worker thread finished; awaiting finish of 2 more threads\n",
      "2020-09-03 11:29:17,939 : INFO : worker thread finished; awaiting finish of 1 more threads\n",
      "2020-09-03 11:29:17,942 : INFO : worker thread finished; awaiting finish of 0 more threads\n",
      "2020-09-03 11:29:17,944 : INFO : EPOCH - 10 : training on 9227204 raw words (8222192 effective words) took 22.7s, 361571 effective words/s\n",
      "2020-09-03 11:29:19,003 : INFO : EPOCH 11 - PROGRESS: at 4.01% examples, 316127 words/s, in_qsize 16, out_qsize 1\n",
      "2020-09-03 11:29:20,055 : INFO : EPOCH 11 - PROGRESS: at 8.80% examples, 344659 words/s, in_qsize 13, out_qsize 2\n",
      "2020-09-03 11:29:21,114 : INFO : EPOCH 11 - PROGRESS: at 13.58% examples, 353192 words/s, in_qsize 16, out_qsize 0\n",
      "2020-09-03 11:29:22,198 : INFO : EPOCH 11 - PROGRESS: at 18.33% examples, 355132 words/s, in_qsize 16, out_qsize 1\n",
      "2020-09-03 11:29:23,216 : INFO : EPOCH 11 - PROGRESS: at 23.20% examples, 362684 words/s, in_qsize 13, out_qsize 2\n",
      "2020-09-03 11:29:24,239 : INFO : EPOCH 11 - PROGRESS: at 27.64% examples, 361709 words/s, in_qsize 16, out_qsize 0\n",
      "2020-09-03 11:29:25,267 : INFO : EPOCH 11 - PROGRESS: at 32.19% examples, 362067 words/s, in_qsize 15, out_qsize 0\n",
      "2020-09-03 11:29:26,269 : INFO : EPOCH 11 - PROGRESS: at 36.51% examples, 361282 words/s, in_qsize 16, out_qsize 0\n",
      "2020-09-03 11:29:27,293 : INFO : EPOCH 11 - PROGRESS: at 40.94% examples, 360752 words/s, in_qsize 14, out_qsize 1\n",
      "2020-09-03 11:29:28,324 : INFO : EPOCH 11 - PROGRESS: at 45.59% examples, 361813 words/s, in_qsize 15, out_qsize 0\n",
      "2020-09-03 11:29:29,328 : INFO : EPOCH 11 - PROGRESS: at 49.92% examples, 361227 words/s, in_qsize 15, out_qsize 0\n",
      "2020-09-03 11:29:30,345 : INFO : EPOCH 11 - PROGRESS: at 54.35% examples, 361057 words/s, in_qsize 16, out_qsize 1\n",
      "2020-09-03 11:29:31,372 : INFO : EPOCH 11 - PROGRESS: at 59.23% examples, 363305 words/s, in_qsize 16, out_qsize 0\n",
      "2020-09-03 11:29:32,375 : INFO : EPOCH 11 - PROGRESS: at 63.22% examples, 360870 words/s, in_qsize 15, out_qsize 0\n",
      "2020-09-03 11:29:33,419 : INFO : EPOCH 11 - PROGRESS: at 67.66% examples, 360139 words/s, in_qsize 11, out_qsize 4\n",
      "2020-09-03 11:29:34,469 : INFO : EPOCH 11 - PROGRESS: at 72.21% examples, 360341 words/s, in_qsize 15, out_qsize 6\n",
      "2020-09-03 11:29:35,494 : INFO : EPOCH 11 - PROGRESS: at 76.98% examples, 361182 words/s, in_qsize 15, out_qsize 0\n",
      "2020-09-03 11:29:36,510 : INFO : EPOCH 11 - PROGRESS: at 81.56% examples, 361558 words/s, in_qsize 15, out_qsize 1\n",
      "2020-09-03 11:29:37,519 : INFO : EPOCH 11 - PROGRESS: at 85.88% examples, 361107 words/s, in_qsize 15, out_qsize 0\n",
      "2020-09-03 11:29:38,534 : INFO : EPOCH 11 - PROGRESS: at 90.54% examples, 361902 words/s, in_qsize 15, out_qsize 0\n",
      "2020-09-03 11:29:39,541 : INFO : EPOCH 11 - PROGRESS: at 95.12% examples, 362348 words/s, in_qsize 14, out_qsize 1\n",
      "2020-09-03 11:29:40,448 : INFO : worker thread finished; awaiting finish of 7 more threads\n",
      "2020-09-03 11:29:40,465 : INFO : worker thread finished; awaiting finish of 6 more threads\n",
      "2020-09-03 11:29:40,474 : INFO : worker thread finished; awaiting finish of 5 more threads\n",
      "2020-09-03 11:29:40,479 : INFO : worker thread finished; awaiting finish of 4 more threads\n",
      "2020-09-03 11:29:40,508 : INFO : worker thread finished; awaiting finish of 3 more threads\n",
      "2020-09-03 11:29:40,512 : INFO : worker thread finished; awaiting finish of 2 more threads\n",
      "2020-09-03 11:29:40,519 : INFO : worker thread finished; awaiting finish of 1 more threads\n",
      "2020-09-03 11:29:40,525 : INFO : worker thread finished; awaiting finish of 0 more threads\n",
      "2020-09-03 11:29:40,526 : INFO : EPOCH - 11 : training on 9227204 raw words (8221383 effective words) took 22.6s, 364333 effective words/s\n",
      "2020-09-03 11:29:41,572 : INFO : EPOCH 12 - PROGRESS: at 4.13% examples, 327602 words/s, in_qsize 14, out_qsize 1\n",
      "2020-09-03 11:29:42,581 : INFO : EPOCH 12 - PROGRESS: at 8.47% examples, 340236 words/s, in_qsize 14, out_qsize 1\n",
      "2020-09-03 11:29:43,620 : INFO : EPOCH 12 - PROGRESS: at 13.04% examples, 347078 words/s, in_qsize 15, out_qsize 0\n",
      "2020-09-03 11:29:44,620 : INFO : EPOCH 12 - PROGRESS: at 17.68% examples, 355720 words/s, in_qsize 15, out_qsize 0\n",
      "2020-09-03 11:29:45,621 : INFO : EPOCH 12 - PROGRESS: at 22.22% examples, 359383 words/s, in_qsize 15, out_qsize 0\n",
      "2020-09-03 11:29:46,641 : INFO : EPOCH 12 - PROGRESS: at 26.67% examples, 359140 words/s, in_qsize 15, out_qsize 0\n",
      "2020-09-03 11:29:47,668 : INFO : EPOCH 12 - PROGRESS: at 30.89% examples, 356219 words/s, in_qsize 16, out_qsize 2\n",
      "2020-09-03 11:29:48,704 : INFO : EPOCH 12 - PROGRESS: at 35.32% examples, 355754 words/s, in_qsize 14, out_qsize 1\n",
      "2020-09-03 11:29:49,728 : INFO : EPOCH 12 - PROGRESS: at 39.76% examples, 355844 words/s, in_qsize 15, out_qsize 0\n",
      "2020-09-03 11:29:50,741 : INFO : EPOCH 12 - PROGRESS: at 44.51% examples, 358909 words/s, in_qsize 16, out_qsize 1\n",
      "2020-09-03 11:29:51,751 : INFO : EPOCH 12 - PROGRESS: at 48.94% examples, 359172 words/s, in_qsize 14, out_qsize 1\n",
      "2020-09-03 11:29:52,807 : INFO : EPOCH 12 - PROGRESS: at 53.59% examples, 359481 words/s, in_qsize 15, out_qsize 0\n",
      "2020-09-03 11:29:53,867 : INFO : EPOCH 12 - PROGRESS: at 58.36% examples, 360299 words/s, in_qsize 15, out_qsize 0\n",
      "2020-09-03 11:29:54,869 : INFO : EPOCH 12 - PROGRESS: at 62.79% examples, 360600 words/s, in_qsize 15, out_qsize 0\n",
      "2020-09-03 11:29:55,875 : INFO : EPOCH 12 - PROGRESS: at 67.24% examples, 360728 words/s, in_qsize 14, out_qsize 0\n",
      "2020-09-03 11:29:56,901 : INFO : EPOCH 12 - PROGRESS: at 71.78% examples, 360990 words/s, in_qsize 16, out_qsize 0\n",
      "2020-09-03 11:29:57,902 : INFO : EPOCH 12 - PROGRESS: at 76.44% examples, 362210 words/s, in_qsize 15, out_qsize 0\n",
      "2020-09-03 11:29:58,965 : INFO : EPOCH 12 - PROGRESS: at 81.23% examples, 362583 words/s, in_qsize 15, out_qsize 0\n",
      "2020-09-03 11:29:59,966 : INFO : EPOCH 12 - PROGRESS: at 85.55% examples, 362245 words/s, in_qsize 15, out_qsize 0\n",
      "2020-09-03 11:30:00,996 : INFO : EPOCH 12 - PROGRESS: at 89.78% examples, 360963 words/s, in_qsize 14, out_qsize 1\n",
      "2020-09-03 11:30:02,036 : INFO : EPOCH 12 - PROGRESS: at 94.47% examples, 361306 words/s, in_qsize 14, out_qsize 1\n",
      "2020-09-03 11:30:03,052 : INFO : EPOCH 12 - PROGRESS: at 99.12% examples, 362003 words/s, in_qsize 9, out_qsize 0\n",
      "2020-09-03 11:30:03,061 : INFO : worker thread finished; awaiting finish of 7 more threads\n",
      "2020-09-03 11:30:03,075 : INFO : worker thread finished; awaiting finish of 6 more threads\n",
      "2020-09-03 11:30:03,089 : INFO : worker thread finished; awaiting finish of 5 more threads\n",
      "2020-09-03 11:30:03,132 : INFO : worker thread finished; awaiting finish of 4 more threads\n",
      "2020-09-03 11:30:03,145 : INFO : worker thread finished; awaiting finish of 3 more threads\n",
      "2020-09-03 11:30:03,151 : INFO : worker thread finished; awaiting finish of 2 more threads\n",
      "2020-09-03 11:30:03,159 : INFO : worker thread finished; awaiting finish of 1 more threads\n",
      "2020-09-03 11:30:03,162 : INFO : worker thread finished; awaiting finish of 0 more threads\n",
      "2020-09-03 11:30:03,163 : INFO : EPOCH - 12 : training on 9227204 raw words (8222173 effective words) took 22.6s, 363420 effective words/s\n",
      "2020-09-03 11:30:04,238 : INFO : EPOCH 13 - PROGRESS: at 4.02% examples, 310576 words/s, in_qsize 16, out_qsize 0\n",
      "2020-09-03 11:30:05,271 : INFO : EPOCH 13 - PROGRESS: at 8.37% examples, 327455 words/s, in_qsize 13, out_qsize 2\n",
      "2020-09-03 11:30:06,320 : INFO : EPOCH 13 - PROGRESS: at 13.15% examples, 343019 words/s, in_qsize 14, out_qsize 1\n",
      "2020-09-03 11:30:07,373 : INFO : EPOCH 13 - PROGRESS: at 17.68% examples, 345971 words/s, in_qsize 15, out_qsize 0\n",
      "2020-09-03 11:30:08,426 : INFO : EPOCH 13 - PROGRESS: at 22.43% examples, 351276 words/s, in_qsize 15, out_qsize 0\n",
      "2020-09-03 11:30:09,467 : INFO : EPOCH 13 - PROGRESS: at 26.67% examples, 348400 words/s, in_qsize 15, out_qsize 0\n",
      "2020-09-03 11:30:10,533 : INFO : EPOCH 13 - PROGRESS: at 31.43% examples, 351240 words/s, in_qsize 15, out_qsize 0\n",
      "2020-09-03 11:30:11,613 : INFO : EPOCH 13 - PROGRESS: at 36.07% examples, 351707 words/s, in_qsize 14, out_qsize 1\n",
      "2020-09-03 11:30:12,635 : INFO : EPOCH 13 - PROGRESS: at 40.51% examples, 352293 words/s, in_qsize 15, out_qsize 1\n",
      "2020-09-03 11:30:13,635 : INFO : EPOCH 13 - PROGRESS: at 45.48% examples, 357769 words/s, in_qsize 15, out_qsize 0\n",
      "2020-09-03 11:30:14,637 : INFO : EPOCH 13 - PROGRESS: at 49.81% examples, 357623 words/s, in_qsize 14, out_qsize 2\n",
      "2020-09-03 11:30:15,702 : INFO : EPOCH 13 - PROGRESS: at 54.46% examples, 358675 words/s, in_qsize 15, out_qsize 0\n",
      "2020-09-03 11:30:16,675 : INFO : EPOCH 13 - PROGRESS: at 58.58% examples, 357082 words/s, in_qsize 16, out_qsize 0\n",
      "2020-09-03 11:30:17,704 : INFO : EPOCH 13 - PROGRESS: at 63.00% examples, 356946 words/s, in_qsize 13, out_qsize 2\n",
      "2020-09-03 11:30:18,742 : INFO : EPOCH 13 - PROGRESS: at 67.66% examples, 357735 words/s, in_qsize 12, out_qsize 3\n",
      "2020-09-03 11:30:19,756 : INFO : EPOCH 13 - PROGRESS: at 72.43% examples, 359501 words/s, in_qsize 16, out_qsize 2\n",
      "2020-09-03 11:30:20,821 : INFO : EPOCH 13 - PROGRESS: at 76.98% examples, 359005 words/s, in_qsize 16, out_qsize 0\n",
      "2020-09-03 11:30:21,834 : INFO : EPOCH 13 - PROGRESS: at 81.34% examples, 358618 words/s, in_qsize 13, out_qsize 2\n",
      "2020-09-03 11:30:22,856 : INFO : EPOCH 13 - PROGRESS: at 86.31% examples, 360799 words/s, in_qsize 15, out_qsize 0\n",
      "2020-09-03 11:30:23,885 : INFO : EPOCH 13 - PROGRESS: at 90.65% examples, 360082 words/s, in_qsize 14, out_qsize 1\n",
      "2020-09-03 11:30:24,947 : INFO : EPOCH 13 - PROGRESS: at 95.45% examples, 360501 words/s, in_qsize 16, out_qsize 0\n",
      "2020-09-03 11:30:25,750 : INFO : worker thread finished; awaiting finish of 7 more threads\n",
      "2020-09-03 11:30:25,765 : INFO : worker thread finished; awaiting finish of 6 more threads\n",
      "2020-09-03 11:30:25,821 : INFO : worker thread finished; awaiting finish of 5 more threads\n",
      "2020-09-03 11:30:25,845 : INFO : worker thread finished; awaiting finish of 4 more threads\n",
      "2020-09-03 11:30:25,851 : INFO : worker thread finished; awaiting finish of 3 more threads\n",
      "2020-09-03 11:30:25,858 : INFO : worker thread finished; awaiting finish of 2 more threads\n",
      "2020-09-03 11:30:25,869 : INFO : worker thread finished; awaiting finish of 1 more threads\n",
      "2020-09-03 11:30:25,871 : INFO : worker thread finished; awaiting finish of 0 more threads\n",
      "2020-09-03 11:30:25,873 : INFO : EPOCH - 13 : training on 9227204 raw words (8223633 effective words) took 22.7s, 362322 effective words/s\n",
      "2020-09-03 11:30:26,953 : INFO : EPOCH 14 - PROGRESS: at 4.23% examples, 325449 words/s, in_qsize 15, out_qsize 0\n",
      "2020-09-03 11:30:28,009 : INFO : EPOCH 14 - PROGRESS: at 8.80% examples, 339737 words/s, in_qsize 12, out_qsize 3\n",
      "2020-09-03 11:30:29,036 : INFO : EPOCH 14 - PROGRESS: at 13.58% examples, 353301 words/s, in_qsize 15, out_qsize 0\n",
      "2020-09-03 11:30:30,051 : INFO : EPOCH 14 - PROGRESS: at 17.89% examples, 353580 words/s, in_qsize 15, out_qsize 2\n",
      "2020-09-03 11:30:31,083 : INFO : EPOCH 14 - PROGRESS: at 22.76% examples, 359805 words/s, in_qsize 15, out_qsize 0\n",
      "2020-09-03 11:30:32,209 : INFO : EPOCH 14 - PROGRESS: at 27.20% examples, 353482 words/s, in_qsize 16, out_qsize 2\n",
      "2020-09-03 11:30:33,210 : INFO : EPOCH 14 - PROGRESS: at 31.86% examples, 357493 words/s, in_qsize 15, out_qsize 0\n",
      "2020-09-03 11:30:34,258 : INFO : EPOCH 14 - PROGRESS: at 36.29% examples, 356370 words/s, in_qsize 15, out_qsize 0\n",
      "2020-09-03 11:30:35,311 : INFO : EPOCH 14 - PROGRESS: at 41.16% examples, 359063 words/s, in_qsize 15, out_qsize 0\n",
      "2020-09-03 11:30:36,327 : INFO : EPOCH 14 - PROGRESS: at 45.59% examples, 359122 words/s, in_qsize 15, out_qsize 0\n",
      "2020-09-03 11:30:37,334 : INFO : EPOCH 14 - PROGRESS: at 49.81% examples, 357885 words/s, in_qsize 16, out_qsize 0\n",
      "2020-09-03 11:30:38,341 : INFO : EPOCH 14 - PROGRESS: at 54.03% examples, 356830 words/s, in_qsize 14, out_qsize 1\n",
      "2020-09-03 11:30:39,366 : INFO : EPOCH 14 - PROGRESS: at 58.36% examples, 356611 words/s, in_qsize 15, out_qsize 2\n",
      "2020-09-03 11:30:40,379 : INFO : EPOCH 14 - PROGRESS: at 62.79% examples, 356454 words/s, in_qsize 15, out_qsize 0\n",
      "2020-09-03 11:30:41,382 : INFO : EPOCH 14 - PROGRESS: at 67.02% examples, 355810 words/s, in_qsize 15, out_qsize 0\n",
      "2020-09-03 11:30:42,427 : INFO : EPOCH 14 - PROGRESS: at 71.35% examples, 354867 words/s, in_qsize 10, out_qsize 5\n",
      "2020-09-03 11:30:43,435 : INFO : EPOCH 14 - PROGRESS: at 76.00% examples, 356305 words/s, in_qsize 12, out_qsize 0\n",
      "2020-09-03 11:30:44,451 : INFO : EPOCH 14 - PROGRESS: at 80.36% examples, 355994 words/s, in_qsize 14, out_qsize 3\n",
      "2020-09-03 11:30:45,482 : INFO : EPOCH 14 - PROGRESS: at 84.70% examples, 355446 words/s, in_qsize 16, out_qsize 0\n",
      "2020-09-03 11:30:46,511 : INFO : EPOCH 14 - PROGRESS: at 89.02% examples, 354967 words/s, in_qsize 14, out_qsize 1\n",
      "2020-09-03 11:30:47,527 : INFO : EPOCH 14 - PROGRESS: at 93.59% examples, 355580 words/s, in_qsize 11, out_qsize 4\n",
      "2020-09-03 11:30:48,553 : INFO : EPOCH 14 - PROGRESS: at 98.25% examples, 356390 words/s, in_qsize 15, out_qsize 0\n",
      "2020-09-03 11:30:48,778 : INFO : worker thread finished; awaiting finish of 7 more threads\n",
      "2020-09-03 11:30:48,798 : INFO : worker thread finished; awaiting finish of 6 more threads\n",
      "2020-09-03 11:30:48,810 : INFO : worker thread finished; awaiting finish of 5 more threads\n",
      "2020-09-03 11:30:48,828 : INFO : worker thread finished; awaiting finish of 4 more threads\n",
      "2020-09-03 11:30:48,835 : INFO : worker thread finished; awaiting finish of 3 more threads\n",
      "2020-09-03 11:30:48,844 : INFO : worker thread finished; awaiting finish of 2 more threads\n",
      "2020-09-03 11:30:48,847 : INFO : worker thread finished; awaiting finish of 1 more threads\n",
      "2020-09-03 11:30:48,858 : INFO : worker thread finished; awaiting finish of 0 more threads\n",
      "2020-09-03 11:30:48,859 : INFO : EPOCH - 14 : training on 9227204 raw words (8222101 effective words) took 23.0s, 357902 effective words/s\n",
      "2020-09-03 11:30:49,871 : INFO : EPOCH 15 - PROGRESS: at 4.02% examples, 329576 words/s, in_qsize 16, out_qsize 0\n",
      "2020-09-03 11:30:50,892 : INFO : EPOCH 15 - PROGRESS: at 8.58% examples, 348194 words/s, in_qsize 15, out_qsize 0\n",
      "2020-09-03 11:30:51,941 : INFO : EPOCH 15 - PROGRESS: at 12.82% examples, 342469 words/s, in_qsize 15, out_qsize 0\n",
      "2020-09-03 11:30:52,964 : INFO : EPOCH 15 - PROGRESS: at 17.57% examples, 352517 words/s, in_qsize 15, out_qsize 0\n",
      "2020-09-03 11:30:53,975 : INFO : EPOCH 15 - PROGRESS: at 21.90% examples, 352525 words/s, in_qsize 16, out_qsize 0\n",
      "2020-09-03 11:30:55,078 : INFO : EPOCH 15 - PROGRESS: at 26.56% examples, 351578 words/s, in_qsize 15, out_qsize 0\n",
      "2020-09-03 11:30:56,109 : INFO : EPOCH 15 - PROGRESS: at 31.21% examples, 354508 words/s, in_qsize 15, out_qsize 0\n",
      "2020-09-03 11:30:57,163 : INFO : EPOCH 15 - PROGRESS: at 35.54% examples, 352389 words/s, in_qsize 11, out_qsize 4\n",
      "2020-09-03 11:30:58,169 : INFO : EPOCH 15 - PROGRESS: at 39.97% examples, 353578 words/s, in_qsize 15, out_qsize 0\n",
      "2020-09-03 11:30:59,193 : INFO : EPOCH 15 - PROGRESS: at 44.40% examples, 353856 words/s, in_qsize 12, out_qsize 3\n",
      "2020-09-03 11:31:00,246 : INFO : EPOCH 15 - PROGRESS: at 49.06% examples, 354778 words/s, in_qsize 12, out_qsize 3\n",
      "2020-09-03 11:31:01,338 : INFO : EPOCH 15 - PROGRESS: at 53.92% examples, 355904 words/s, in_qsize 13, out_qsize 2\n",
      "2020-09-03 11:31:02,363 : INFO : EPOCH 15 - PROGRESS: at 58.90% examples, 359228 words/s, in_qsize 12, out_qsize 0\n",
      "2020-09-03 11:31:03,422 : INFO : EPOCH 15 - PROGRESS: at 63.11% examples, 357532 words/s, in_qsize 15, out_qsize 0\n",
      "2020-09-03 11:31:04,451 : INFO : EPOCH 15 - PROGRESS: at 67.66% examples, 357584 words/s, in_qsize 15, out_qsize 2\n",
      "2020-09-03 11:31:05,471 : INFO : EPOCH 15 - PROGRESS: at 72.10% examples, 357456 words/s, in_qsize 15, out_qsize 0\n",
      "2020-09-03 11:31:06,481 : INFO : EPOCH 15 - PROGRESS: at 76.33% examples, 356653 words/s, in_qsize 15, out_qsize 0\n",
      "2020-09-03 11:31:07,489 : INFO : EPOCH 15 - PROGRESS: at 80.79% examples, 356958 words/s, in_qsize 14, out_qsize 1\n",
      "2020-09-03 11:31:08,530 : INFO : EPOCH 15 - PROGRESS: at 85.23% examples, 356628 words/s, in_qsize 14, out_qsize 1\n",
      "2020-09-03 11:31:09,546 : INFO : EPOCH 15 - PROGRESS: at 89.89% examples, 357637 words/s, in_qsize 15, out_qsize 0\n",
      "2020-09-03 11:31:10,567 : INFO : EPOCH 15 - PROGRESS: at 94.69% examples, 358827 words/s, in_qsize 15, out_qsize 0\n",
      "2020-09-03 11:31:11,598 : INFO : EPOCH 15 - PROGRESS: at 99.22% examples, 359023 words/s, in_qsize 8, out_qsize 0\n",
      "2020-09-03 11:31:11,628 : INFO : worker thread finished; awaiting finish of 7 more threads\n",
      "2020-09-03 11:31:11,643 : INFO : worker thread finished; awaiting finish of 6 more threads\n",
      "2020-09-03 11:31:11,653 : INFO : worker thread finished; awaiting finish of 5 more threads\n",
      "2020-09-03 11:31:11,661 : INFO : worker thread finished; awaiting finish of 4 more threads\n",
      "2020-09-03 11:31:11,688 : INFO : worker thread finished; awaiting finish of 3 more threads\n",
      "2020-09-03 11:31:11,691 : INFO : worker thread finished; awaiting finish of 2 more threads\n",
      "2020-09-03 11:31:11,697 : INFO : worker thread finished; awaiting finish of 1 more threads\n",
      "2020-09-03 11:31:11,703 : INFO : worker thread finished; awaiting finish of 0 more threads\n",
      "2020-09-03 11:31:11,704 : INFO : EPOCH - 15 : training on 9227204 raw words (8222980 effective words) took 22.8s, 360132 effective words/s\n",
      "2020-09-03 11:31:12,720 : INFO : EPOCH 16 - PROGRESS: at 3.69% examples, 301958 words/s, in_qsize 13, out_qsize 2\n",
      "2020-09-03 11:31:13,762 : INFO : EPOCH 16 - PROGRESS: at 8.80% examples, 352899 words/s, in_qsize 15, out_qsize 0\n",
      "2020-09-03 11:31:14,802 : INFO : EPOCH 16 - PROGRESS: at 13.25% examples, 352267 words/s, in_qsize 15, out_qsize 0\n",
      "2020-09-03 11:31:15,804 : INFO : EPOCH 16 - PROGRESS: at 17.24% examples, 346439 words/s, in_qsize 15, out_qsize 2\n",
      "2020-09-03 11:31:16,805 : INFO : EPOCH 16 - PROGRESS: at 22.33% examples, 360604 words/s, in_qsize 15, out_qsize 0\n",
      "2020-09-03 11:31:17,827 : INFO : EPOCH 16 - PROGRESS: at 26.56% examples, 357186 words/s, in_qsize 15, out_qsize 0\n",
      "2020-09-03 11:31:18,847 : INFO : EPOCH 16 - PROGRESS: at 31.10% examples, 358572 words/s, in_qsize 15, out_qsize 0\n",
      "2020-09-03 11:31:19,880 : INFO : EPOCH 16 - PROGRESS: at 35.42% examples, 356805 words/s, in_qsize 14, out_qsize 1\n",
      "2020-09-03 11:31:20,905 : INFO : EPOCH 16 - PROGRESS: at 40.40% examples, 361619 words/s, in_qsize 15, out_qsize 0\n",
      "2020-09-03 11:31:21,944 : INFO : EPOCH 16 - PROGRESS: at 44.72% examples, 359712 words/s, in_qsize 15, out_qsize 0\n",
      "2020-09-03 11:31:22,957 : INFO : EPOCH 16 - PROGRESS: at 49.48% examples, 362190 words/s, in_qsize 16, out_qsize 0\n",
      "2020-09-03 11:31:23,965 : INFO : EPOCH 16 - PROGRESS: at 53.70% examples, 360773 words/s, in_qsize 15, out_qsize 0\n",
      "2020-09-03 11:31:24,978 : INFO : EPOCH 16 - PROGRESS: at 58.14% examples, 360766 words/s, in_qsize 15, out_qsize 0\n",
      "2020-09-03 11:31:25,993 : INFO : EPOCH 16 - PROGRESS: at 62.58% examples, 360705 words/s, in_qsize 15, out_qsize 0\n",
      "2020-09-03 11:31:27,024 : INFO : EPOCH 16 - PROGRESS: at 67.02% examples, 360270 words/s, in_qsize 15, out_qsize 2\n",
      "2020-09-03 11:31:28,078 : INFO : EPOCH 16 - PROGRESS: at 71.67% examples, 360933 words/s, in_qsize 15, out_qsize 1\n",
      "2020-09-03 11:31:29,067 : INFO : EPOCH 16 - PROGRESS: at 76.00% examples, 360451 words/s, in_qsize 14, out_qsize 1\n",
      "2020-09-03 11:31:30,079 : INFO : EPOCH 16 - PROGRESS: at 80.46% examples, 360456 words/s, in_qsize 14, out_qsize 1\n",
      "2020-09-03 11:31:31,112 : INFO : EPOCH 16 - PROGRESS: at 84.91% examples, 360372 words/s, in_qsize 15, out_qsize 1\n",
      "2020-09-03 11:31:32,127 : INFO : EPOCH 16 - PROGRESS: at 89.56% examples, 360938 words/s, in_qsize 15, out_qsize 0\n",
      "2020-09-03 11:31:33,142 : INFO : EPOCH 16 - PROGRESS: at 94.25% examples, 361699 words/s, in_qsize 16, out_qsize 0\n",
      "2020-09-03 11:31:34,192 : INFO : EPOCH 16 - PROGRESS: at 98.47% examples, 360260 words/s, in_qsize 9, out_qsize 6\n",
      "2020-09-03 11:31:34,239 : INFO : worker thread finished; awaiting finish of 7 more threads\n",
      "2020-09-03 11:31:34,291 : INFO : worker thread finished; awaiting finish of 6 more threads\n",
      "2020-09-03 11:31:34,298 : INFO : worker thread finished; awaiting finish of 5 more threads\n",
      "2020-09-03 11:31:34,301 : INFO : worker thread finished; awaiting finish of 4 more threads\n",
      "2020-09-03 11:31:34,328 : INFO : worker thread finished; awaiting finish of 3 more threads\n",
      "2020-09-03 11:31:34,338 : INFO : worker thread finished; awaiting finish of 2 more threads\n",
      "2020-09-03 11:31:34,350 : INFO : worker thread finished; awaiting finish of 1 more threads\n",
      "2020-09-03 11:31:34,352 : INFO : worker thread finished; awaiting finish of 0 more threads\n",
      "2020-09-03 11:31:34,353 : INFO : EPOCH - 16 : training on 9227204 raw words (8222443 effective words) took 22.6s, 363246 effective words/s\n",
      "2020-09-03 11:31:35,450 : INFO : EPOCH 17 - PROGRESS: at 4.13% examples, 312432 words/s, in_qsize 15, out_qsize 0\n",
      "2020-09-03 11:31:36,467 : INFO : EPOCH 17 - PROGRESS: at 8.69% examples, 339486 words/s, in_qsize 16, out_qsize 1\n",
      "2020-09-03 11:31:37,514 : INFO : EPOCH 17 - PROGRESS: at 13.14% examples, 342582 words/s, in_qsize 15, out_qsize 3\n",
      "2020-09-03 11:31:38,655 : INFO : EPOCH 17 - PROGRESS: at 18.00% examples, 344799 words/s, in_qsize 15, out_qsize 2\n",
      "2020-09-03 11:31:39,688 : INFO : EPOCH 17 - PROGRESS: at 23.09% examples, 356632 words/s, in_qsize 16, out_qsize 0\n",
      "2020-09-03 11:31:40,701 : INFO : EPOCH 17 - PROGRESS: at 27.31% examples, 354454 words/s, in_qsize 15, out_qsize 0\n",
      "2020-09-03 11:31:41,725 : INFO : EPOCH 17 - PROGRESS: at 31.87% examples, 356041 words/s, in_qsize 15, out_qsize 1\n",
      "2020-09-03 11:31:42,738 : INFO : EPOCH 17 - PROGRESS: at 36.51% examples, 358697 words/s, in_qsize 16, out_qsize 1\n",
      "2020-09-03 11:31:43,739 : INFO : EPOCH 17 - PROGRESS: at 40.73% examples, 357444 words/s, in_qsize 14, out_qsize 1\n",
      "2020-09-03 11:31:44,759 : INFO : EPOCH 17 - PROGRESS: at 45.59% examples, 360937 words/s, in_qsize 15, out_qsize 0\n",
      "2020-09-03 11:31:45,785 : INFO : EPOCH 17 - PROGRESS: at 50.02% examples, 360494 words/s, in_qsize 15, out_qsize 0\n",
      "2020-09-03 11:31:46,790 : INFO : EPOCH 17 - PROGRESS: at 54.24% examples, 359322 words/s, in_qsize 14, out_qsize 1\n",
      "2020-09-03 11:31:47,795 : INFO : EPOCH 17 - PROGRESS: at 59.01% examples, 361619 words/s, in_qsize 15, out_qsize 0\n",
      "2020-09-03 11:31:48,797 : INFO : EPOCH 17 - PROGRESS: at 63.43% examples, 361843 words/s, in_qsize 15, out_qsize 0\n",
      "2020-09-03 11:31:49,868 : INFO : EPOCH 17 - PROGRESS: at 68.10% examples, 361514 words/s, in_qsize 15, out_qsize 0\n",
      "2020-09-03 11:31:50,884 : INFO : EPOCH 17 - PROGRESS: at 72.53% examples, 361396 words/s, in_qsize 16, out_qsize 1\n",
      "2020-09-03 11:31:51,897 : INFO : EPOCH 17 - PROGRESS: at 77.53% examples, 363851 words/s, in_qsize 15, out_qsize 0\n",
      "2020-09-03 11:31:52,952 : INFO : EPOCH 17 - PROGRESS: at 81.88% examples, 362374 words/s, in_qsize 15, out_qsize 0\n",
      "2020-09-03 11:31:54,023 : INFO : EPOCH 17 - PROGRESS: at 86.53% examples, 362110 words/s, in_qsize 16, out_qsize 0\n",
      "2020-09-03 11:31:55,101 : INFO : EPOCH 17 - PROGRESS: at 91.53% examples, 363027 words/s, in_qsize 15, out_qsize 0\n",
      "2020-09-03 11:31:56,136 : INFO : EPOCH 17 - PROGRESS: at 96.21% examples, 363371 words/s, in_qsize 15, out_qsize 0\n",
      "2020-09-03 11:31:56,728 : INFO : worker thread finished; awaiting finish of 7 more threads\n",
      "2020-09-03 11:31:56,763 : INFO : worker thread finished; awaiting finish of 6 more threads\n",
      "2020-09-03 11:31:56,805 : INFO : worker thread finished; awaiting finish of 5 more threads\n",
      "2020-09-03 11:31:56,832 : INFO : worker thread finished; awaiting finish of 4 more threads\n",
      "2020-09-03 11:31:56,838 : INFO : worker thread finished; awaiting finish of 3 more threads\n",
      "2020-09-03 11:31:56,845 : INFO : worker thread finished; awaiting finish of 2 more threads\n",
      "2020-09-03 11:31:56,853 : INFO : worker thread finished; awaiting finish of 1 more threads\n",
      "2020-09-03 11:31:56,856 : INFO : worker thread finished; awaiting finish of 0 more threads\n",
      "2020-09-03 11:31:56,857 : INFO : EPOCH - 17 : training on 9227204 raw words (8222906 effective words) took 22.5s, 365617 effective words/s\n",
      "2020-09-03 11:31:57,902 : INFO : EPOCH 18 - PROGRESS: at 3.91% examples, 310760 words/s, in_qsize 14, out_qsize 1\n",
      "2020-09-03 11:31:58,938 : INFO : EPOCH 18 - PROGRESS: at 8.69% examples, 344652 words/s, in_qsize 15, out_qsize 0\n",
      "2020-09-03 11:31:59,949 : INFO : EPOCH 18 - PROGRESS: at 13.14% examples, 350169 words/s, in_qsize 16, out_qsize 2\n",
      "2020-09-03 11:32:00,976 : INFO : EPOCH 18 - PROGRESS: at 17.78% examples, 356858 words/s, in_qsize 15, out_qsize 0\n",
      "2020-09-03 11:32:01,989 : INFO : EPOCH 18 - PROGRESS: at 22.44% examples, 360226 words/s, in_qsize 15, out_qsize 0\n",
      "2020-09-03 11:32:03,041 : INFO : EPOCH 18 - PROGRESS: at 26.88% examples, 358037 words/s, in_qsize 16, out_qsize 0\n",
      "2020-09-03 11:32:04,072 : INFO : EPOCH 18 - PROGRESS: at 31.10% examples, 356115 words/s, in_qsize 16, out_qsize 4\n",
      "2020-09-03 11:32:05,135 : INFO : EPOCH 18 - PROGRESS: at 35.86% examples, 356773 words/s, in_qsize 16, out_qsize 0\n",
      "2020-09-03 11:32:06,224 : INFO : EPOCH 18 - PROGRESS: at 40.83% examples, 359026 words/s, in_qsize 15, out_qsize 0\n",
      "2020-09-03 11:32:07,235 : INFO : EPOCH 18 - PROGRESS: at 45.37% examples, 360098 words/s, in_qsize 16, out_qsize 0\n",
      "2020-09-03 11:32:08,259 : INFO : EPOCH 18 - PROGRESS: at 49.70% examples, 359029 words/s, in_qsize 14, out_qsize 1\n",
      "2020-09-03 11:32:09,267 : INFO : EPOCH 18 - PROGRESS: at 54.35% examples, 360736 words/s, in_qsize 16, out_qsize 0\n",
      "2020-09-03 11:32:10,280 : INFO : EPOCH 18 - PROGRESS: at 58.79% examples, 360729 words/s, in_qsize 16, out_qsize 0\n",
      "2020-09-03 11:32:11,323 : INFO : EPOCH 18 - PROGRESS: at 63.22% examples, 359980 words/s, in_qsize 15, out_qsize 0\n",
      "2020-09-03 11:32:12,325 : INFO : EPOCH 18 - PROGRESS: at 67.35% examples, 358503 words/s, in_qsize 14, out_qsize 4\n",
      "2020-09-03 11:32:13,345 : INFO : EPOCH 18 - PROGRESS: at 71.99% examples, 359548 words/s, in_qsize 15, out_qsize 0\n",
      "2020-09-03 11:32:14,418 : INFO : EPOCH 18 - PROGRESS: at 76.55% examples, 358850 words/s, in_qsize 13, out_qsize 2\n",
      "2020-09-03 11:32:15,484 : INFO : EPOCH 18 - PROGRESS: at 81.77% examples, 361280 words/s, in_qsize 14, out_qsize 0\n",
      "2020-09-03 11:32:16,571 : INFO : EPOCH 18 - PROGRESS: at 86.42% examples, 360800 words/s, in_qsize 15, out_qsize 0\n",
      "2020-09-03 11:32:17,597 : INFO : EPOCH 18 - PROGRESS: at 90.76% examples, 360118 words/s, in_qsize 16, out_qsize 0\n",
      "2020-09-03 11:32:18,631 : INFO : EPOCH 18 - PROGRESS: at 95.66% examples, 361410 words/s, in_qsize 15, out_qsize 0\n",
      "2020-09-03 11:32:19,370 : INFO : worker thread finished; awaiting finish of 7 more threads\n",
      "2020-09-03 11:32:19,378 : INFO : worker thread finished; awaiting finish of 6 more threads\n",
      "2020-09-03 11:32:19,403 : INFO : worker thread finished; awaiting finish of 5 more threads\n",
      "2020-09-03 11:32:19,480 : INFO : worker thread finished; awaiting finish of 4 more threads\n",
      "2020-09-03 11:32:19,491 : INFO : worker thread finished; awaiting finish of 3 more threads\n",
      "2020-09-03 11:32:19,493 : INFO : worker thread finished; awaiting finish of 2 more threads\n",
      "2020-09-03 11:32:19,506 : INFO : worker thread finished; awaiting finish of 1 more threads\n",
      "2020-09-03 11:32:19,514 : INFO : worker thread finished; awaiting finish of 0 more threads\n",
      "2020-09-03 11:32:19,516 : INFO : EPOCH - 18 : training on 9227204 raw words (8222170 effective words) took 22.6s, 363077 effective words/s\n",
      "2020-09-03 11:32:20,578 : INFO : EPOCH 19 - PROGRESS: at 3.91% examples, 305240 words/s, in_qsize 15, out_qsize 0\n",
      "2020-09-03 11:32:21,580 : INFO : EPOCH 19 - PROGRESS: at 8.37% examples, 334118 words/s, in_qsize 14, out_qsize 1\n",
      "2020-09-03 11:32:22,660 : INFO : EPOCH 19 - PROGRESS: at 13.04% examples, 342628 words/s, in_qsize 15, out_qsize 1\n",
      "2020-09-03 11:32:23,667 : INFO : EPOCH 19 - PROGRESS: at 17.46% examples, 346397 words/s, in_qsize 13, out_qsize 2\n",
      "2020-09-03 11:32:24,758 : INFO : EPOCH 19 - PROGRESS: at 22.44% examples, 352513 words/s, in_qsize 14, out_qsize 1\n",
      "2020-09-03 11:32:25,773 : INFO : EPOCH 19 - PROGRESS: at 27.31% examples, 359373 words/s, in_qsize 16, out_qsize 0\n",
      "2020-09-03 11:32:26,865 : INFO : EPOCH 19 - PROGRESS: at 31.75% examples, 355739 words/s, in_qsize 15, out_qsize 0\n",
      "2020-09-03 11:32:27,944 : INFO : EPOCH 19 - PROGRESS: at 36.19% examples, 353516 words/s, in_qsize 12, out_qsize 6\n",
      "2020-09-03 11:32:28,959 : INFO : EPOCH 19 - PROGRESS: at 41.05% examples, 357965 words/s, in_qsize 15, out_qsize 0\n",
      "2020-09-03 11:32:30,008 : INFO : EPOCH 19 - PROGRESS: at 45.27% examples, 355575 words/s, in_qsize 15, out_qsize 1\n",
      "2020-09-03 11:32:31,020 : INFO : EPOCH 19 - PROGRESS: at 49.92% examples, 357363 words/s, in_qsize 15, out_qsize 0\n",
      "2020-09-03 11:32:32,052 : INFO : EPOCH 19 - PROGRESS: at 54.03% examples, 354951 words/s, in_qsize 14, out_qsize 1\n",
      "2020-09-03 11:32:33,142 : INFO : EPOCH 19 - PROGRESS: at 58.58% examples, 354023 words/s, in_qsize 14, out_qsize 1\n",
      "2020-09-03 11:32:34,175 : INFO : EPOCH 19 - PROGRESS: at 63.11% examples, 354615 words/s, in_qsize 15, out_qsize 3\n",
      "2020-09-03 11:32:35,191 : INFO : EPOCH 19 - PROGRESS: at 67.99% examples, 357216 words/s, in_qsize 15, out_qsize 0\n",
      "2020-09-03 11:32:36,263 : INFO : EPOCH 19 - PROGRESS: at 72.53% examples, 356682 words/s, in_qsize 15, out_qsize 0\n",
      "2020-09-03 11:32:37,265 : INFO : EPOCH 19 - PROGRESS: at 76.99% examples, 357099 words/s, in_qsize 15, out_qsize 0\n",
      "2020-09-03 11:32:38,296 : INFO : EPOCH 19 - PROGRESS: at 81.34% examples, 356476 words/s, in_qsize 12, out_qsize 3\n",
      "2020-09-03 11:32:39,362 : INFO : EPOCH 19 - PROGRESS: at 86.21% examples, 357509 words/s, in_qsize 15, out_qsize 0\n",
      "2020-09-03 11:32:40,382 : INFO : EPOCH 19 - PROGRESS: at 90.54% examples, 357101 words/s, in_qsize 15, out_qsize 0\n",
      "2020-09-03 11:32:41,441 : INFO : EPOCH 19 - PROGRESS: at 95.23% examples, 357301 words/s, in_qsize 15, out_qsize 0\n",
      "2020-09-03 11:32:42,293 : INFO : worker thread finished; awaiting finish of 7 more threads\n",
      "2020-09-03 11:32:42,314 : INFO : worker thread finished; awaiting finish of 6 more threads\n",
      "2020-09-03 11:32:42,320 : INFO : worker thread finished; awaiting finish of 5 more threads\n",
      "2020-09-03 11:32:42,334 : INFO : worker thread finished; awaiting finish of 4 more threads\n",
      "2020-09-03 11:32:42,338 : INFO : worker thread finished; awaiting finish of 3 more threads\n",
      "2020-09-03 11:32:42,374 : INFO : worker thread finished; awaiting finish of 2 more threads\n",
      "2020-09-03 11:32:42,389 : INFO : worker thread finished; awaiting finish of 1 more threads\n",
      "2020-09-03 11:32:42,390 : INFO : worker thread finished; awaiting finish of 0 more threads\n",
      "2020-09-03 11:32:42,394 : INFO : EPOCH - 19 : training on 9227204 raw words (8222860 effective words) took 22.9s, 359601 effective words/s\n",
      "2020-09-03 11:32:43,423 : INFO : EPOCH 20 - PROGRESS: at 3.91% examples, 315792 words/s, in_qsize 14, out_qsize 1\n",
      "2020-09-03 11:32:44,441 : INFO : EPOCH 20 - PROGRESS: at 8.58% examples, 346185 words/s, in_qsize 15, out_qsize 0\n",
      "2020-09-03 11:32:45,501 : INFO : EPOCH 20 - PROGRESS: at 12.71% examples, 337028 words/s, in_qsize 14, out_qsize 6\n",
      "2020-09-03 11:32:46,553 : INFO : EPOCH 20 - PROGRESS: at 17.68% examples, 350239 words/s, in_qsize 15, out_qsize 0\n",
      "2020-09-03 11:32:47,631 : INFO : EPOCH 20 - PROGRESS: at 22.54% examples, 354783 words/s, in_qsize 16, out_qsize 0\n",
      "2020-09-03 11:32:48,639 : INFO : EPOCH 20 - PROGRESS: at 26.99% examples, 356202 words/s, in_qsize 15, out_qsize 2\n",
      "2020-09-03 11:32:49,637 : INFO : EPOCH 20 - PROGRESS: at 31.32% examples, 356206 words/s, in_qsize 15, out_qsize 0\n",
      "2020-09-03 11:32:50,641 : INFO : EPOCH 20 - PROGRESS: at 35.86% examples, 358218 words/s, in_qsize 16, out_qsize 0\n",
      "2020-09-03 11:32:51,661 : INFO : EPOCH 20 - PROGRESS: at 40.08% examples, 356296 words/s, in_qsize 13, out_qsize 2\n",
      "2020-09-03 11:32:52,662 : INFO : EPOCH 20 - PROGRESS: at 44.29% examples, 355371 words/s, in_qsize 11, out_qsize 4\n",
      "2020-09-03 11:32:53,667 : INFO : EPOCH 20 - PROGRESS: at 49.16% examples, 359284 words/s, in_qsize 16, out_qsize 0\n",
      "2020-09-03 11:32:54,807 : INFO : EPOCH 20 - PROGRESS: at 53.59% examples, 355755 words/s, in_qsize 15, out_qsize 0\n",
      "2020-09-03 11:32:55,830 : INFO : EPOCH 20 - PROGRESS: at 58.03% examples, 355858 words/s, in_qsize 15, out_qsize 3\n",
      "2020-09-03 11:32:56,830 : INFO : EPOCH 20 - PROGRESS: at 63.00% examples, 359568 words/s, in_qsize 14, out_qsize 0\n",
      "2020-09-03 11:32:57,869 : INFO : EPOCH 20 - PROGRESS: at 67.12% examples, 357283 words/s, in_qsize 14, out_qsize 1\n",
      "2020-09-03 11:32:58,873 : INFO : EPOCH 20 - PROGRESS: at 71.45% examples, 357153 words/s, in_qsize 14, out_qsize 1\n",
      "2020-09-03 11:32:59,903 : INFO : EPOCH 20 - PROGRESS: at 76.00% examples, 357520 words/s, in_qsize 14, out_qsize 1\n",
      "2020-09-03 11:33:00,906 : INFO : EPOCH 20 - PROGRESS: at 81.01% examples, 360259 words/s, in_qsize 16, out_qsize 0\n",
      "2020-09-03 11:33:01,983 : INFO : EPOCH 20 - PROGRESS: at 85.45% examples, 359113 words/s, in_qsize 15, out_qsize 0\n",
      "2020-09-03 11:33:03,033 : INFO : EPOCH 20 - PROGRESS: at 90.00% examples, 358962 words/s, in_qsize 15, out_qsize 0\n",
      "2020-09-03 11:33:04,042 : INFO : EPOCH 20 - PROGRESS: at 94.47% examples, 359080 words/s, in_qsize 15, out_qsize 0\n",
      "2020-09-03 11:33:05,045 : INFO : EPOCH 20 - PROGRESS: at 98.90% examples, 359310 words/s, in_qsize 9, out_qsize 2\n",
      "2020-09-03 11:33:05,063 : INFO : worker thread finished; awaiting finish of 7 more threads\n",
      "2020-09-03 11:33:05,074 : INFO : worker thread finished; awaiting finish of 6 more threads\n",
      "2020-09-03 11:33:05,095 : INFO : worker thread finished; awaiting finish of 5 more threads\n",
      "2020-09-03 11:33:05,123 : INFO : worker thread finished; awaiting finish of 4 more threads\n",
      "2020-09-03 11:33:05,163 : INFO : worker thread finished; awaiting finish of 3 more threads\n",
      "2020-09-03 11:33:05,168 : INFO : worker thread finished; awaiting finish of 2 more threads\n",
      "2020-09-03 11:33:05,173 : INFO : worker thread finished; awaiting finish of 1 more threads\n",
      "2020-09-03 11:33:05,177 : INFO : worker thread finished; awaiting finish of 0 more threads\n",
      "2020-09-03 11:33:05,177 : INFO : EPOCH - 20 : training on 9227204 raw words (8224018 effective words) took 22.8s, 361171 effective words/s\n",
      "2020-09-03 11:33:06,349 : INFO : EPOCH 21 - PROGRESS: at 4.13% examples, 292981 words/s, in_qsize 15, out_qsize 7\n",
      "2020-09-03 11:33:07,362 : INFO : EPOCH 21 - PROGRESS: at 9.23% examples, 349184 words/s, in_qsize 13, out_qsize 0\n",
      "2020-09-03 11:33:08,402 : INFO : EPOCH 21 - PROGRESS: at 13.68% examples, 349740 words/s, in_qsize 15, out_qsize 0\n",
      "2020-09-03 11:33:09,487 : INFO : EPOCH 21 - PROGRESS: at 18.11% examples, 346397 words/s, in_qsize 15, out_qsize 0\n",
      "2020-09-03 11:33:10,521 : INFO : EPOCH 21 - PROGRESS: at 22.87% examples, 352817 words/s, in_qsize 15, out_qsize 0\n",
      "2020-09-03 11:33:11,549 : INFO : EPOCH 21 - PROGRESS: at 27.42% examples, 354635 words/s, in_qsize 16, out_qsize 0\n",
      "2020-09-03 11:33:12,585 : INFO : EPOCH 21 - PROGRESS: at 31.54% examples, 350774 words/s, in_qsize 16, out_qsize 0\n",
      "2020-09-03 11:33:13,606 : INFO : EPOCH 21 - PROGRESS: at 35.75% examples, 349531 words/s, in_qsize 13, out_qsize 6\n",
      "2020-09-03 11:33:14,650 : INFO : EPOCH 21 - PROGRESS: at 40.51% examples, 352324 words/s, in_qsize 16, out_qsize 0\n",
      "2020-09-03 11:33:15,700 : INFO : EPOCH 21 - PROGRESS: at 44.94% examples, 351851 words/s, in_qsize 12, out_qsize 3\n",
      "2020-09-03 11:33:16,770 : INFO : EPOCH 21 - PROGRESS: at 49.59% examples, 352462 words/s, in_qsize 16, out_qsize 0\n",
      "2020-09-03 11:33:17,798 : INFO : EPOCH 21 - PROGRESS: at 54.03% examples, 352693 words/s, in_qsize 15, out_qsize 0\n",
      "2020-09-03 11:33:18,896 : INFO : EPOCH 21 - PROGRESS: at 58.79% examples, 353078 words/s, in_qsize 15, out_qsize 0\n",
      "2020-09-03 11:33:19,919 : INFO : EPOCH 21 - PROGRESS: at 63.54% examples, 355169 words/s, in_qsize 15, out_qsize 1\n",
      "2020-09-03 11:33:20,937 : INFO : EPOCH 21 - PROGRESS: at 68.21% examples, 356532 words/s, in_qsize 16, out_qsize 0\n",
      "2020-09-03 11:33:21,939 : INFO : EPOCH 21 - PROGRESS: at 72.75% examples, 357533 words/s, in_qsize 15, out_qsize 0\n",
      "2020-09-03 11:33:22,956 : INFO : EPOCH 21 - PROGRESS: at 77.20% examples, 357610 words/s, in_qsize 16, out_qsize 0\n",
      "2020-09-03 11:33:23,960 : INFO : EPOCH 21 - PROGRESS: at 81.34% examples, 356538 words/s, in_qsize 15, out_qsize 0\n",
      "2020-09-03 11:33:24,969 : INFO : EPOCH 21 - PROGRESS: at 85.66% examples, 356351 words/s, in_qsize 16, out_qsize 1\n",
      "2020-09-03 11:33:25,986 : INFO : EPOCH 21 - PROGRESS: at 90.33% examples, 357330 words/s, in_qsize 12, out_qsize 3\n",
      "2020-09-03 11:33:27,008 : INFO : EPOCH 21 - PROGRESS: at 94.90% examples, 357715 words/s, in_qsize 16, out_qsize 0\n",
      "2020-09-03 11:33:28,038 : INFO : EPOCH 21 - PROGRESS: at 99.01% examples, 356399 words/s, in_qsize 8, out_qsize 2\n",
      "2020-09-03 11:33:28,046 : INFO : worker thread finished; awaiting finish of 7 more threads\n",
      "2020-09-03 11:33:28,052 : INFO : worker thread finished; awaiting finish of 6 more threads\n",
      "2020-09-03 11:33:28,053 : INFO : worker thread finished; awaiting finish of 5 more threads\n",
      "2020-09-03 11:33:28,057 : INFO : worker thread finished; awaiting finish of 4 more threads\n",
      "2020-09-03 11:33:28,085 : INFO : worker thread finished; awaiting finish of 3 more threads\n",
      "2020-09-03 11:33:28,091 : INFO : worker thread finished; awaiting finish of 2 more threads\n",
      "2020-09-03 11:33:28,120 : INFO : worker thread finished; awaiting finish of 1 more threads\n",
      "2020-09-03 11:33:28,121 : INFO : worker thread finished; awaiting finish of 0 more threads\n",
      "2020-09-03 11:33:28,122 : INFO : EPOCH - 21 : training on 9227204 raw words (8222940 effective words) took 22.9s, 358643 effective words/s\n",
      "2020-09-03 11:33:29,263 : INFO : EPOCH 22 - PROGRESS: at 4.34% examples, 316062 words/s, in_qsize 15, out_qsize 0\n",
      "2020-09-03 11:33:30,309 : INFO : EPOCH 22 - PROGRESS: at 8.90% examples, 336297 words/s, in_qsize 15, out_qsize 0\n",
      "2020-09-03 11:33:31,313 : INFO : EPOCH 22 - PROGRESS: at 13.79% examples, 356257 words/s, in_qsize 15, out_qsize 0\n",
      "2020-09-03 11:33:32,319 : INFO : EPOCH 22 - PROGRESS: at 17.89% examples, 351392 words/s, in_qsize 13, out_qsize 1\n",
      "2020-09-03 11:33:33,369 : INFO : EPOCH 22 - PROGRESS: at 22.44% examples, 352412 words/s, in_qsize 15, out_qsize 0\n",
      "2020-09-03 11:33:34,402 : INFO : EPOCH 22 - PROGRESS: at 26.99% examples, 354049 words/s, in_qsize 15, out_qsize 0\n",
      "2020-09-03 11:33:35,410 : INFO : EPOCH 22 - PROGRESS: at 31.54% examples, 356448 words/s, in_qsize 16, out_qsize 0\n",
      "2020-09-03 11:33:36,413 : INFO : EPOCH 22 - PROGRESS: at 35.75% examples, 355254 words/s, in_qsize 16, out_qsize 1\n",
      "2020-09-03 11:33:37,454 : INFO : EPOCH 22 - PROGRESS: at 40.51% examples, 358122 words/s, in_qsize 15, out_qsize 1\n",
      "2020-09-03 11:33:38,504 : INFO : EPOCH 22 - PROGRESS: at 45.05% examples, 357454 words/s, in_qsize 16, out_qsize 0\n",
      "2020-09-03 11:33:39,534 : INFO : EPOCH 22 - PROGRESS: at 49.70% examples, 358798 words/s, in_qsize 15, out_qsize 1\n",
      "2020-09-03 11:33:40,629 : INFO : EPOCH 22 - PROGRESS: at 54.24% examples, 357306 words/s, in_qsize 15, out_qsize 0\n",
      "2020-09-03 11:33:41,632 : INFO : EPOCH 22 - PROGRESS: at 58.79% examples, 358507 words/s, in_qsize 15, out_qsize 0\n",
      "2020-09-03 11:33:42,670 : INFO : EPOCH 22 - PROGRESS: at 63.22% examples, 358315 words/s, in_qsize 15, out_qsize 2\n",
      "2020-09-03 11:33:43,672 : INFO : EPOCH 22 - PROGRESS: at 67.45% examples, 357291 words/s, in_qsize 16, out_qsize 1\n",
      "2020-09-03 11:33:44,742 : INFO : EPOCH 22 - PROGRESS: at 72.32% examples, 358405 words/s, in_qsize 13, out_qsize 2\n",
      "2020-09-03 11:33:45,764 : INFO : EPOCH 22 - PROGRESS: at 76.88% examples, 358817 words/s, in_qsize 15, out_qsize 1\n",
      "2020-09-03 11:33:46,808 : INFO : EPOCH 22 - PROGRESS: at 81.45% examples, 358805 words/s, in_qsize 15, out_qsize 2\n",
      "2020-09-03 11:33:47,902 : INFO : EPOCH 22 - PROGRESS: at 86.21% examples, 358755 words/s, in_qsize 15, out_qsize 0\n",
      "2020-09-03 11:33:48,967 : INFO : EPOCH 22 - PROGRESS: at 90.76% examples, 358363 words/s, in_qsize 15, out_qsize 2\n",
      "2020-09-03 11:33:50,032 : INFO : EPOCH 22 - PROGRESS: at 95.56% examples, 358830 words/s, in_qsize 15, out_qsize 0\n",
      "2020-09-03 11:33:50,826 : INFO : worker thread finished; awaiting finish of 7 more threads\n",
      "2020-09-03 11:33:50,863 : INFO : worker thread finished; awaiting finish of 6 more threads\n",
      "2020-09-03 11:33:50,880 : INFO : worker thread finished; awaiting finish of 5 more threads\n",
      "2020-09-03 11:33:50,893 : INFO : worker thread finished; awaiting finish of 4 more threads\n",
      "2020-09-03 11:33:50,917 : INFO : worker thread finished; awaiting finish of 3 more threads\n",
      "2020-09-03 11:33:50,937 : INFO : worker thread finished; awaiting finish of 2 more threads\n",
      "2020-09-03 11:33:50,949 : INFO : worker thread finished; awaiting finish of 1 more threads\n",
      "2020-09-03 11:33:50,951 : INFO : worker thread finished; awaiting finish of 0 more threads\n",
      "2020-09-03 11:33:50,954 : INFO : EPOCH - 22 : training on 9227204 raw words (8222799 effective words) took 22.8s, 360367 effective words/s\n",
      "2020-09-03 11:33:52,018 : INFO : EPOCH 23 - PROGRESS: at 3.91% examples, 305012 words/s, in_qsize 16, out_qsize 0\n",
      "2020-09-03 11:33:53,026 : INFO : EPOCH 23 - PROGRESS: at 8.58% examples, 341704 words/s, in_qsize 16, out_qsize 0\n",
      "2020-09-03 11:33:54,033 : INFO : EPOCH 23 - PROGRESS: at 13.04% examples, 348640 words/s, in_qsize 15, out_qsize 0\n",
      "2020-09-03 11:33:55,141 : INFO : EPOCH 23 - PROGRESS: at 17.57% examples, 347150 words/s, in_qsize 15, out_qsize 1\n",
      "2020-09-03 11:33:56,128 : INFO : EPOCH 23 - PROGRESS: at 22.22% examples, 353718 words/s, in_qsize 13, out_qsize 0\n",
      "2020-09-03 11:33:57,143 : INFO : EPOCH 23 - PROGRESS: at 26.56% examples, 353290 words/s, in_qsize 14, out_qsize 1\n",
      "2020-09-03 11:33:58,188 : INFO : EPOCH 23 - PROGRESS: at 30.89% examples, 351503 words/s, in_qsize 11, out_qsize 4\n",
      "2020-09-03 11:33:59,200 : INFO : EPOCH 23 - PROGRESS: at 35.54% examples, 354832 words/s, in_qsize 15, out_qsize 1\n",
      "2020-09-03 11:34:00,229 : INFO : EPOCH 23 - PROGRESS: at 39.97% examples, 354818 words/s, in_qsize 15, out_qsize 0\n",
      "2020-09-03 11:34:01,245 : INFO : EPOCH 23 - PROGRESS: at 44.40% examples, 355250 words/s, in_qsize 14, out_qsize 1\n",
      "2020-09-03 11:34:02,361 : INFO : EPOCH 23 - PROGRESS: at 49.38% examples, 356451 words/s, in_qsize 15, out_qsize 0\n",
      "2020-09-03 11:34:03,387 : INFO : EPOCH 23 - PROGRESS: at 53.81% examples, 356434 words/s, in_qsize 15, out_qsize 0\n",
      "2020-09-03 11:34:04,396 : INFO : EPOCH 23 - PROGRESS: at 58.25% examples, 356853 words/s, in_qsize 15, out_qsize 2\n",
      "2020-09-03 11:34:05,446 : INFO : EPOCH 23 - PROGRESS: at 62.89% examples, 357441 words/s, in_qsize 12, out_qsize 3\n",
      "2020-09-03 11:34:06,482 : INFO : EPOCH 23 - PROGRESS: at 67.45% examples, 357671 words/s, in_qsize 15, out_qsize 0\n",
      "2020-09-03 11:34:07,485 : INFO : EPOCH 23 - PROGRESS: at 71.88% examples, 358071 words/s, in_qsize 15, out_qsize 0\n",
      "2020-09-03 11:34:08,502 : INFO : EPOCH 23 - PROGRESS: at 76.44% examples, 358623 words/s, in_qsize 16, out_qsize 1\n",
      "2020-09-03 11:34:09,532 : INFO : EPOCH 23 - PROGRESS: at 81.34% examples, 360328 words/s, in_qsize 16, out_qsize 0\n",
      "2020-09-03 11:34:10,548 : INFO : EPOCH 23 - PROGRESS: at 85.45% examples, 358908 words/s, in_qsize 14, out_qsize 1\n",
      "2020-09-03 11:34:11,601 : INFO : EPOCH 23 - PROGRESS: at 89.89% examples, 358284 words/s, in_qsize 12, out_qsize 3\n",
      "2020-09-03 11:34:12,616 : INFO : EPOCH 23 - PROGRESS: at 94.79% examples, 359981 words/s, in_qsize 16, out_qsize 0\n",
      "2020-09-03 11:34:13,693 : INFO : EPOCH 23 - PROGRESS: at 99.12% examples, 358587 words/s, in_qsize 9, out_qsize 0\n",
      "2020-09-03 11:34:13,703 : INFO : worker thread finished; awaiting finish of 7 more threads\n",
      "2020-09-03 11:34:13,723 : INFO : worker thread finished; awaiting finish of 6 more threads\n",
      "2020-09-03 11:34:13,731 : INFO : worker thread finished; awaiting finish of 5 more threads\n",
      "2020-09-03 11:34:13,738 : INFO : worker thread finished; awaiting finish of 4 more threads\n",
      "2020-09-03 11:34:13,741 : INFO : worker thread finished; awaiting finish of 3 more threads\n",
      "2020-09-03 11:34:13,745 : INFO : worker thread finished; awaiting finish of 2 more threads\n",
      "2020-09-03 11:34:13,748 : INFO : worker thread finished; awaiting finish of 1 more threads\n",
      "2020-09-03 11:34:13,781 : INFO : worker thread finished; awaiting finish of 0 more threads\n",
      "2020-09-03 11:34:13,782 : INFO : EPOCH - 23 : training on 9227204 raw words (8221715 effective words) took 22.8s, 360363 effective words/s\n",
      "2020-09-03 11:34:14,799 : INFO : EPOCH 24 - PROGRESS: at 4.01% examples, 328470 words/s, in_qsize 16, out_qsize 0\n",
      "2020-09-03 11:34:15,849 : INFO : EPOCH 24 - PROGRESS: at 8.47% examples, 338307 words/s, in_qsize 15, out_qsize 0\n",
      "2020-09-03 11:34:16,861 : INFO : EPOCH 24 - PROGRESS: at 12.93% examples, 345663 words/s, in_qsize 14, out_qsize 3\n",
      "2020-09-03 11:34:17,890 : INFO : EPOCH 24 - PROGRESS: at 17.46% examples, 350063 words/s, in_qsize 15, out_qsize 0\n",
      "2020-09-03 11:34:18,923 : INFO : EPOCH 24 - PROGRESS: at 22.11% examples, 354319 words/s, in_qsize 15, out_qsize 0\n",
      "2020-09-03 11:34:19,967 : INFO : EPOCH 24 - PROGRESS: at 26.77% examples, 356450 words/s, in_qsize 15, out_qsize 1\n",
      "2020-09-03 11:34:20,971 : INFO : EPOCH 24 - PROGRESS: at 31.10% examples, 356241 words/s, in_qsize 14, out_qsize 1\n",
      "2020-09-03 11:34:22,000 : INFO : EPOCH 24 - PROGRESS: at 35.43% examples, 355005 words/s, in_qsize 15, out_qsize 4\n",
      "2020-09-03 11:34:23,024 : INFO : EPOCH 24 - PROGRESS: at 39.97% examples, 356146 words/s, in_qsize 14, out_qsize 3\n",
      "2020-09-03 11:34:24,029 : INFO : EPOCH 24 - PROGRESS: at 44.40% examples, 356848 words/s, in_qsize 12, out_qsize 3\n",
      "2020-09-03 11:34:25,033 : INFO : EPOCH 24 - PROGRESS: at 48.73% examples, 356668 words/s, in_qsize 15, out_qsize 0\n",
      "2020-09-03 11:34:26,100 : INFO : EPOCH 24 - PROGRESS: at 53.27% examples, 356173 words/s, in_qsize 15, out_qsize 0\n",
      "2020-09-03 11:34:27,132 : INFO : EPOCH 24 - PROGRESS: at 57.92% examples, 357335 words/s, in_qsize 15, out_qsize 0\n",
      "2020-09-03 11:34:28,186 : INFO : EPOCH 24 - PROGRESS: at 62.57% examples, 357788 words/s, in_qsize 15, out_qsize 0\n",
      "2020-09-03 11:34:29,210 : INFO : EPOCH 24 - PROGRESS: at 67.13% examples, 358277 words/s, in_qsize 15, out_qsize 0\n",
      "2020-09-03 11:34:30,293 : INFO : EPOCH 24 - PROGRESS: at 71.99% examples, 359043 words/s, in_qsize 15, out_qsize 0\n",
      "2020-09-03 11:34:31,297 : INFO : EPOCH 24 - PROGRESS: at 76.44% examples, 359293 words/s, in_qsize 15, out_qsize 0\n",
      "2020-09-03 11:34:32,341 : INFO : EPOCH 24 - PROGRESS: at 80.90% examples, 358778 words/s, in_qsize 15, out_qsize 3\n",
      "2020-09-03 11:34:33,374 : INFO : EPOCH 24 - PROGRESS: at 85.56% examples, 359404 words/s, in_qsize 15, out_qsize 3\n",
      "2020-09-03 11:34:34,404 : INFO : EPOCH 24 - PROGRESS: at 90.32% examples, 360453 words/s, in_qsize 15, out_qsize 0\n",
      "2020-09-03 11:34:35,457 : INFO : EPOCH 24 - PROGRESS: at 94.68% examples, 359885 words/s, in_qsize 15, out_qsize 1\n",
      "2020-09-03 11:34:36,434 : INFO : EPOCH 24 - PROGRESS: at 99.22% examples, 360383 words/s, in_qsize 8, out_qsize 0\n",
      "2020-09-03 11:34:36,457 : INFO : worker thread finished; awaiting finish of 7 more threads\n",
      "2020-09-03 11:34:36,462 : INFO : worker thread finished; awaiting finish of 6 more threads\n",
      "2020-09-03 11:34:36,483 : INFO : worker thread finished; awaiting finish of 5 more threads\n",
      "2020-09-03 11:34:36,492 : INFO : worker thread finished; awaiting finish of 4 more threads\n",
      "2020-09-03 11:34:36,493 : INFO : worker thread finished; awaiting finish of 3 more threads\n",
      "2020-09-03 11:34:36,503 : INFO : worker thread finished; awaiting finish of 2 more threads\n",
      "2020-09-03 11:34:36,513 : INFO : worker thread finished; awaiting finish of 1 more threads\n",
      "2020-09-03 11:34:36,519 : INFO : worker thread finished; awaiting finish of 0 more threads\n",
      "2020-09-03 11:34:36,520 : INFO : EPOCH - 24 : training on 9227204 raw words (8222172 effective words) took 22.7s, 361815 effective words/s\n",
      "2020-09-03 11:34:37,533 : INFO : EPOCH 25 - PROGRESS: at 4.02% examples, 329696 words/s, in_qsize 15, out_qsize 0\n",
      "2020-09-03 11:34:38,557 : INFO : EPOCH 25 - PROGRESS: at 8.25% examples, 334562 words/s, in_qsize 15, out_qsize 0\n",
      "2020-09-03 11:34:39,561 : INFO : EPOCH 25 - PROGRESS: at 12.82% examples, 347267 words/s, in_qsize 15, out_qsize 0\n",
      "2020-09-03 11:34:40,573 : INFO : EPOCH 25 - PROGRESS: at 17.46% examples, 355097 words/s, in_qsize 16, out_qsize 0\n",
      "2020-09-03 11:34:41,676 : INFO : EPOCH 25 - PROGRESS: at 22.00% examples, 351707 words/s, in_qsize 15, out_qsize 0\n",
      "2020-09-03 11:34:42,687 : INFO : EPOCH 25 - PROGRESS: at 26.45% examples, 353336 words/s, in_qsize 15, out_qsize 0\n",
      "2020-09-03 11:34:43,700 : INFO : EPOCH 25 - PROGRESS: at 31.10% examples, 356840 words/s, in_qsize 14, out_qsize 1\n",
      "2020-09-03 11:34:44,707 : INFO : EPOCH 25 - PROGRESS: at 35.21% examples, 354298 words/s, in_qsize 15, out_qsize 0\n",
      "2020-09-03 11:34:45,716 : INFO : EPOCH 25 - PROGRESS: at 39.54% examples, 354135 words/s, in_qsize 15, out_qsize 0\n",
      "2020-09-03 11:34:46,726 : INFO : EPOCH 25 - PROGRESS: at 43.97% examples, 354877 words/s, in_qsize 15, out_qsize 0\n",
      "2020-09-03 11:34:47,801 : INFO : EPOCH 25 - PROGRESS: at 48.73% examples, 355812 words/s, in_qsize 16, out_qsize 0\n",
      "2020-09-03 11:34:48,818 : INFO : EPOCH 25 - PROGRESS: at 53.05% examples, 355383 words/s, in_qsize 15, out_qsize 0\n",
      "2020-09-03 11:34:49,887 : INFO : EPOCH 25 - PROGRESS: at 57.60% examples, 354979 words/s, in_qsize 16, out_qsize 2\n",
      "2020-09-03 11:34:50,889 : INFO : EPOCH 25 - PROGRESS: at 62.14% examples, 356290 words/s, in_qsize 15, out_qsize 1\n",
      "2020-09-03 11:34:51,903 : INFO : EPOCH 25 - PROGRESS: at 66.47% examples, 355963 words/s, in_qsize 14, out_qsize 1\n",
      "2020-09-03 11:34:52,943 : INFO : EPOCH 25 - PROGRESS: at 70.91% examples, 355646 words/s, in_qsize 12, out_qsize 3\n",
      "2020-09-03 11:34:53,951 : INFO : EPOCH 25 - PROGRESS: at 75.57% examples, 357060 words/s, in_qsize 15, out_qsize 0\n",
      "2020-09-03 11:34:54,957 : INFO : EPOCH 25 - PROGRESS: at 80.14% examples, 357865 words/s, in_qsize 15, out_qsize 0\n",
      "2020-09-03 11:34:56,021 : INFO : EPOCH 25 - PROGRESS: at 84.26% examples, 355694 words/s, in_qsize 10, out_qsize 5\n",
      "2020-09-03 11:34:57,041 : INFO : EPOCH 25 - PROGRESS: at 88.70% examples, 355806 words/s, in_qsize 12, out_qsize 3\n",
      "2020-09-03 11:34:58,048 : INFO : EPOCH 25 - PROGRESS: at 93.70% examples, 358171 words/s, in_qsize 16, out_qsize 0\n",
      "2020-09-03 11:34:59,068 : INFO : EPOCH 25 - PROGRESS: at 97.71% examples, 356572 words/s, in_qsize 14, out_qsize 1\n",
      "2020-09-03 11:34:59,340 : INFO : worker thread finished; awaiting finish of 7 more threads\n",
      "2020-09-03 11:34:59,371 : INFO : worker thread finished; awaiting finish of 6 more threads\n",
      "2020-09-03 11:34:59,378 : INFO : worker thread finished; awaiting finish of 5 more threads\n",
      "2020-09-03 11:34:59,391 : INFO : worker thread finished; awaiting finish of 4 more threads\n",
      "2020-09-03 11:34:59,392 : INFO : worker thread finished; awaiting finish of 3 more threads\n",
      "2020-09-03 11:34:59,440 : INFO : worker thread finished; awaiting finish of 2 more threads\n",
      "2020-09-03 11:34:59,447 : INFO : worker thread finished; awaiting finish of 1 more threads\n",
      "2020-09-03 11:34:59,449 : INFO : worker thread finished; awaiting finish of 0 more threads\n",
      "2020-09-03 11:34:59,450 : INFO : EPOCH - 25 : training on 9227204 raw words (8223590 effective words) took 22.9s, 358837 effective words/s\n",
      "2020-09-03 11:35:00,511 : INFO : EPOCH 26 - PROGRESS: at 3.91% examples, 306440 words/s, in_qsize 15, out_qsize 0\n",
      "2020-09-03 11:35:01,526 : INFO : EPOCH 26 - PROGRESS: at 8.36% examples, 332761 words/s, in_qsize 15, out_qsize 0\n",
      "2020-09-03 11:35:02,566 : INFO : EPOCH 26 - PROGRESS: at 12.71% examples, 338982 words/s, in_qsize 15, out_qsize 5\n",
      "2020-09-03 11:35:03,549 : INFO : EPOCH 26 - PROGRESS: at 17.24% examples, 346755 words/s, in_qsize 15, out_qsize 0\n",
      "2020-09-03 11:35:04,569 : INFO : EPOCH 26 - PROGRESS: at 21.90% examples, 352515 words/s, in_qsize 15, out_qsize 0\n",
      "2020-09-03 11:35:05,623 : INFO : EPOCH 26 - PROGRESS: at 26.34% examples, 352498 words/s, in_qsize 15, out_qsize 2\n",
      "2020-09-03 11:35:06,624 : INFO : EPOCH 26 - PROGRESS: at 30.78% examples, 353375 words/s, in_qsize 15, out_qsize 0\n",
      "2020-09-03 11:35:07,640 : INFO : EPOCH 26 - PROGRESS: at 35.42% examples, 356331 words/s, in_qsize 16, out_qsize 0\n",
      "2020-09-03 11:35:08,653 : INFO : EPOCH 26 - PROGRESS: at 39.97% examples, 358191 words/s, in_qsize 15, out_qsize 0\n",
      "2020-09-03 11:35:09,743 : INFO : EPOCH 26 - PROGRESS: at 44.29% examples, 354575 words/s, in_qsize 16, out_qsize 2\n",
      "2020-09-03 11:35:10,757 : INFO : EPOCH 26 - PROGRESS: at 49.16% examples, 358087 words/s, in_qsize 12, out_qsize 3\n",
      "2020-09-03 11:35:11,866 : INFO : EPOCH 26 - PROGRESS: at 53.81% examples, 356962 words/s, in_qsize 16, out_qsize 0\n",
      "2020-09-03 11:35:12,874 : INFO : EPOCH 26 - PROGRESS: at 58.58% examples, 359375 words/s, in_qsize 16, out_qsize 0\n",
      "2020-09-03 11:35:13,878 : INFO : EPOCH 26 - PROGRESS: at 63.00% examples, 359685 words/s, in_qsize 16, out_qsize 0\n",
      "2020-09-03 11:35:14,921 : INFO : EPOCH 26 - PROGRESS: at 67.02% examples, 356753 words/s, in_qsize 11, out_qsize 4\n",
      "2020-09-03 11:35:16,005 : INFO : EPOCH 26 - PROGRESS: at 71.99% examples, 358135 words/s, in_qsize 15, out_qsize 0\n",
      "2020-09-03 11:35:17,054 : INFO : EPOCH 26 - PROGRESS: at 76.44% examples, 357524 words/s, in_qsize 16, out_qsize 0\n",
      "2020-09-03 11:35:18,192 : INFO : EPOCH 26 - PROGRESS: at 81.12% examples, 356267 words/s, in_qsize 14, out_qsize 7\n",
      "2020-09-03 11:35:19,291 : INFO : EPOCH 26 - PROGRESS: at 86.21% examples, 357619 words/s, in_qsize 16, out_qsize 0\n",
      "2020-09-03 11:35:20,319 : INFO : EPOCH 26 - PROGRESS: at 90.65% examples, 357497 words/s, in_qsize 13, out_qsize 2\n",
      "2020-09-03 11:35:21,378 : INFO : EPOCH 26 - PROGRESS: at 95.55% examples, 358494 words/s, in_qsize 15, out_qsize 0\n",
      "2020-09-03 11:35:22,185 : INFO : worker thread finished; awaiting finish of 7 more threads\n",
      "2020-09-03 11:35:22,194 : INFO : worker thread finished; awaiting finish of 6 more threads\n",
      "2020-09-03 11:35:22,203 : INFO : worker thread finished; awaiting finish of 5 more threads\n",
      "2020-09-03 11:35:22,219 : INFO : worker thread finished; awaiting finish of 4 more threads\n",
      "2020-09-03 11:35:22,225 : INFO : worker thread finished; awaiting finish of 3 more threads\n",
      "2020-09-03 11:35:22,229 : INFO : worker thread finished; awaiting finish of 2 more threads\n",
      "2020-09-03 11:35:22,231 : INFO : worker thread finished; awaiting finish of 1 more threads\n",
      "2020-09-03 11:35:22,259 : INFO : worker thread finished; awaiting finish of 0 more threads\n",
      "2020-09-03 11:35:22,260 : INFO : EPOCH - 26 : training on 9227204 raw words (8222301 effective words) took 22.8s, 360696 effective words/s\n",
      "2020-09-03 11:35:23,382 : INFO : EPOCH 27 - PROGRESS: at 4.23% examples, 313303 words/s, in_qsize 15, out_qsize 0\n",
      "2020-09-03 11:35:24,397 : INFO : EPOCH 27 - PROGRESS: at 8.80% examples, 339817 words/s, in_qsize 15, out_qsize 1\n",
      "2020-09-03 11:35:25,463 : INFO : EPOCH 27 - PROGRESS: at 13.58% examples, 349174 words/s, in_qsize 15, out_qsize 0\n",
      "2020-09-03 11:35:26,575 : INFO : EPOCH 27 - PROGRESS: at 18.43% examples, 351974 words/s, in_qsize 15, out_qsize 0\n",
      "2020-09-03 11:35:27,603 : INFO : EPOCH 27 - PROGRESS: at 22.98% examples, 354392 words/s, in_qsize 16, out_qsize 0\n",
      "2020-09-03 11:35:28,620 : INFO : EPOCH 27 - PROGRESS: at 27.31% examples, 353725 words/s, in_qsize 16, out_qsize 0\n",
      "2020-09-03 11:35:29,665 : INFO : EPOCH 27 - PROGRESS: at 31.86% examples, 354380 words/s, in_qsize 15, out_qsize 0\n",
      "2020-09-03 11:35:30,739 : INFO : EPOCH 27 - PROGRESS: at 36.51% examples, 354651 words/s, in_qsize 15, out_qsize 0\n",
      "2020-09-03 11:35:31,799 : INFO : EPOCH 27 - PROGRESS: at 40.94% examples, 353528 words/s, in_qsize 13, out_qsize 2\n",
      "2020-09-03 11:35:32,801 : INFO : EPOCH 27 - PROGRESS: at 45.48% examples, 355399 words/s, in_qsize 14, out_qsize 3\n",
      "2020-09-03 11:35:33,829 : INFO : EPOCH 27 - PROGRESS: at 50.45% examples, 359269 words/s, in_qsize 15, out_qsize 0\n",
      "2020-09-03 11:35:34,905 : INFO : EPOCH 27 - PROGRESS: at 54.89% examples, 357588 words/s, in_qsize 15, out_qsize 0\n",
      "2020-09-03 11:35:35,929 : INFO : EPOCH 27 - PROGRESS: at 59.34% examples, 358035 words/s, in_qsize 15, out_qsize 0\n",
      "2020-09-03 11:35:36,931 : INFO : EPOCH 27 - PROGRESS: at 63.65% examples, 357421 words/s, in_qsize 11, out_qsize 4\n",
      "2020-09-03 11:35:37,936 : INFO : EPOCH 27 - PROGRESS: at 67.99% examples, 357214 words/s, in_qsize 14, out_qsize 1\n",
      "2020-09-03 11:35:38,991 : INFO : EPOCH 27 - PROGRESS: at 72.64% examples, 357567 words/s, in_qsize 15, out_qsize 1\n",
      "2020-09-03 11:35:40,013 : INFO : EPOCH 27 - PROGRESS: at 77.20% examples, 358071 words/s, in_qsize 14, out_qsize 1\n",
      "2020-09-03 11:35:41,023 : INFO : EPOCH 27 - PROGRESS: at 81.56% examples, 357789 words/s, in_qsize 16, out_qsize 1\n",
      "2020-09-03 11:35:42,040 : INFO : EPOCH 27 - PROGRESS: at 86.31% examples, 359199 words/s, in_qsize 16, out_qsize 0\n",
      "2020-09-03 11:35:43,094 : INFO : EPOCH 27 - PROGRESS: at 90.87% examples, 358968 words/s, in_qsize 14, out_qsize 1\n",
      "2020-09-03 11:35:44,140 : INFO : EPOCH 27 - PROGRESS: at 95.45% examples, 358896 words/s, in_qsize 15, out_qsize 2\n",
      "2020-09-03 11:35:44,939 : INFO : worker thread finished; awaiting finish of 7 more threads\n",
      "2020-09-03 11:35:44,980 : INFO : worker thread finished; awaiting finish of 6 more threads\n",
      "2020-09-03 11:35:45,012 : INFO : worker thread finished; awaiting finish of 5 more threads\n",
      "2020-09-03 11:35:45,017 : INFO : worker thread finished; awaiting finish of 4 more threads\n",
      "2020-09-03 11:35:45,022 : INFO : worker thread finished; awaiting finish of 3 more threads\n",
      "2020-09-03 11:35:45,024 : INFO : worker thread finished; awaiting finish of 2 more threads\n",
      "2020-09-03 11:35:45,034 : INFO : worker thread finished; awaiting finish of 1 more threads\n",
      "2020-09-03 11:35:45,035 : INFO : worker thread finished; awaiting finish of 0 more threads\n",
      "2020-09-03 11:35:45,036 : INFO : EPOCH - 27 : training on 9227204 raw words (8222928 effective words) took 22.8s, 361242 effective words/s\n",
      "2020-09-03 11:35:46,060 : INFO : EPOCH 28 - PROGRESS: at 3.91% examples, 317847 words/s, in_qsize 16, out_qsize 1\n",
      "2020-09-03 11:35:47,082 : INFO : EPOCH 28 - PROGRESS: at 8.37% examples, 337589 words/s, in_qsize 15, out_qsize 0\n",
      "2020-09-03 11:35:48,104 : INFO : EPOCH 28 - PROGRESS: at 13.25% examples, 356018 words/s, in_qsize 16, out_qsize 0\n",
      "2020-09-03 11:35:49,194 : INFO : EPOCH 28 - PROGRESS: at 17.35% examples, 343949 words/s, in_qsize 15, out_qsize 0\n",
      "2020-09-03 11:35:50,207 : INFO : EPOCH 28 - PROGRESS: at 22.11% examples, 352442 words/s, in_qsize 14, out_qsize 0\n",
      "2020-09-03 11:35:51,265 : INFO : EPOCH 28 - PROGRESS: at 26.34% examples, 348342 words/s, in_qsize 15, out_qsize 0\n",
      "2020-09-03 11:35:52,325 : INFO : EPOCH 28 - PROGRESS: at 30.67% examples, 346620 words/s, in_qsize 12, out_qsize 3\n",
      "2020-09-03 11:35:53,429 : INFO : EPOCH 28 - PROGRESS: at 35.53% examples, 348800 words/s, in_qsize 15, out_qsize 0\n",
      "2020-09-03 11:35:54,448 : INFO : EPOCH 28 - PROGRESS: at 40.29% examples, 352686 words/s, in_qsize 16, out_qsize 0\n",
      "2020-09-03 11:35:55,482 : INFO : EPOCH 28 - PROGRESS: at 44.51% examples, 351930 words/s, in_qsize 15, out_qsize 1\n",
      "2020-09-03 11:35:56,468 : INFO : EPOCH 28 - PROGRESS: at 48.84% examples, 351951 words/s, in_qsize 16, out_qsize 3\n",
      "2020-09-03 11:35:57,468 : INFO : EPOCH 28 - PROGRESS: at 52.95% examples, 350874 words/s, in_qsize 15, out_qsize 0\n",
      "2020-09-03 11:35:58,476 : INFO : EPOCH 28 - PROGRESS: at 57.27% examples, 351097 words/s, in_qsize 15, out_qsize 0\n",
      "2020-09-03 11:35:59,498 : INFO : EPOCH 28 - PROGRESS: at 61.50% examples, 350302 words/s, in_qsize 16, out_qsize 0\n",
      "2020-09-03 11:36:00,501 : INFO : EPOCH 28 - PROGRESS: at 65.93% examples, 351181 words/s, in_qsize 15, out_qsize 0\n",
      "2020-09-03 11:36:01,580 : INFO : EPOCH 28 - PROGRESS: at 70.59% examples, 351450 words/s, in_qsize 16, out_qsize 0\n",
      "2020-09-03 11:36:02,613 : INFO : EPOCH 28 - PROGRESS: at 75.24% examples, 352563 words/s, in_qsize 16, out_qsize 1\n",
      "2020-09-03 11:36:03,636 : INFO : EPOCH 28 - PROGRESS: at 79.81% examples, 353295 words/s, in_qsize 16, out_qsize 1\n",
      "2020-09-03 11:36:04,660 : INFO : EPOCH 28 - PROGRESS: at 84.48% examples, 354379 words/s, in_qsize 15, out_qsize 0\n",
      "2020-09-03 11:36:05,721 : INFO : EPOCH 28 - PROGRESS: at 89.02% examples, 354294 words/s, in_qsize 15, out_qsize 0\n",
      "2020-09-03 11:36:06,736 : INFO : EPOCH 28 - PROGRESS: at 93.48% examples, 354535 words/s, in_qsize 16, out_qsize 0\n",
      "2020-09-03 11:36:07,752 : INFO : EPOCH 28 - PROGRESS: at 97.82% examples, 354355 words/s, in_qsize 15, out_qsize 0\n",
      "2020-09-03 11:36:07,982 : INFO : worker thread finished; awaiting finish of 7 more threads\n",
      "2020-09-03 11:36:07,995 : INFO : worker thread finished; awaiting finish of 6 more threads\n",
      "2020-09-03 11:36:08,013 : INFO : worker thread finished; awaiting finish of 5 more threads\n",
      "2020-09-03 11:36:08,028 : INFO : worker thread finished; awaiting finish of 4 more threads\n",
      "2020-09-03 11:36:08,061 : INFO : worker thread finished; awaiting finish of 3 more threads\n",
      "2020-09-03 11:36:08,077 : INFO : worker thread finished; awaiting finish of 2 more threads\n",
      "2020-09-03 11:36:08,090 : INFO : worker thread finished; awaiting finish of 1 more threads\n",
      "2020-09-03 11:36:08,095 : INFO : worker thread finished; awaiting finish of 0 more threads\n",
      "2020-09-03 11:36:08,096 : INFO : EPOCH - 28 : training on 9227204 raw words (8223474 effective words) took 23.0s, 356852 effective words/s\n",
      "2020-09-03 11:36:09,120 : INFO : EPOCH 29 - PROGRESS: at 4.13% examples, 334796 words/s, in_qsize 15, out_qsize 0\n",
      "2020-09-03 11:36:10,130 : INFO : EPOCH 29 - PROGRESS: at 8.58% examples, 348298 words/s, in_qsize 16, out_qsize 0\n",
      "2020-09-03 11:36:11,141 : INFO : EPOCH 29 - PROGRESS: at 12.82% examples, 346838 words/s, in_qsize 14, out_qsize 0\n",
      "2020-09-03 11:36:12,190 : INFO : EPOCH 29 - PROGRESS: at 17.13% examples, 344849 words/s, in_qsize 16, out_qsize 0\n",
      "2020-09-03 11:36:13,196 : INFO : EPOCH 29 - PROGRESS: at 21.57% examples, 348498 words/s, in_qsize 14, out_qsize 1\n",
      "2020-09-03 11:36:14,213 : INFO : EPOCH 29 - PROGRESS: at 26.12% examples, 351683 words/s, in_qsize 16, out_qsize 0\n",
      "2020-09-03 11:36:15,257 : INFO : EPOCH 29 - PROGRESS: at 30.67% examples, 352668 words/s, in_qsize 15, out_qsize 0\n",
      "2020-09-03 11:36:16,281 : INFO : EPOCH 29 - PROGRESS: at 35.00% examples, 352084 words/s, in_qsize 16, out_qsize 0\n",
      "2020-09-03 11:36:17,298 : INFO : EPOCH 29 - PROGRESS: at 39.33% examples, 351866 words/s, in_qsize 15, out_qsize 2\n",
      "2020-09-03 11:36:18,326 : INFO : EPOCH 29 - PROGRESS: at 43.97% examples, 353937 words/s, in_qsize 15, out_qsize 0\n",
      "2020-09-03 11:36:19,341 : INFO : EPOCH 29 - PROGRESS: at 48.40% examples, 354516 words/s, in_qsize 16, out_qsize 0\n",
      "2020-09-03 11:36:20,356 : INFO : EPOCH 29 - PROGRESS: at 53.05% examples, 356424 words/s, in_qsize 14, out_qsize 0\n",
      "2020-09-03 11:36:21,384 : INFO : EPOCH 29 - PROGRESS: at 57.16% examples, 354332 words/s, in_qsize 16, out_qsize 0\n",
      "2020-09-03 11:36:22,439 : INFO : EPOCH 29 - PROGRESS: at 61.71% examples, 354387 words/s, in_qsize 15, out_qsize 0\n",
      "2020-09-03 11:36:23,441 : INFO : EPOCH 29 - PROGRESS: at 66.26% examples, 355589 words/s, in_qsize 15, out_qsize 0\n",
      "2020-09-03 11:36:24,471 : INFO : EPOCH 29 - PROGRESS: at 70.70% examples, 355540 words/s, in_qsize 15, out_qsize 0\n",
      "2020-09-03 11:36:25,481 : INFO : EPOCH 29 - PROGRESS: at 75.02% examples, 355382 words/s, in_qsize 15, out_qsize 0\n",
      "2020-09-03 11:36:26,586 : INFO : EPOCH 29 - PROGRESS: at 79.81% examples, 355320 words/s, in_qsize 15, out_qsize 0\n",
      "2020-09-03 11:36:27,642 : INFO : EPOCH 29 - PROGRESS: at 84.69% examples, 356665 words/s, in_qsize 16, out_qsize 0\n",
      "2020-09-03 11:36:28,655 : INFO : EPOCH 29 - PROGRESS: at 88.91% examples, 355964 words/s, in_qsize 16, out_qsize 2\n",
      "2020-09-03 11:36:29,702 : INFO : EPOCH 29 - PROGRESS: at 93.48% examples, 356003 words/s, in_qsize 15, out_qsize 0\n",
      "2020-09-03 11:36:30,731 : INFO : EPOCH 29 - PROGRESS: at 97.82% examples, 355556 words/s, in_qsize 14, out_qsize 1\n",
      "2020-09-03 11:36:30,988 : INFO : worker thread finished; awaiting finish of 7 more threads\n",
      "2020-09-03 11:36:30,997 : INFO : worker thread finished; awaiting finish of 6 more threads\n",
      "2020-09-03 11:36:31,000 : INFO : worker thread finished; awaiting finish of 5 more threads\n",
      "2020-09-03 11:36:31,001 : INFO : worker thread finished; awaiting finish of 4 more threads\n",
      "2020-09-03 11:36:31,017 : INFO : worker thread finished; awaiting finish of 3 more threads\n",
      "2020-09-03 11:36:31,024 : INFO : worker thread finished; awaiting finish of 2 more threads\n",
      "2020-09-03 11:36:31,058 : INFO : worker thread finished; awaiting finish of 1 more threads\n",
      "2020-09-03 11:36:31,068 : INFO : worker thread finished; awaiting finish of 0 more threads\n",
      "2020-09-03 11:36:31,069 : INFO : EPOCH - 29 : training on 9227204 raw words (8222587 effective words) took 23.0s, 358137 effective words/s\n",
      "2020-09-03 11:36:32,128 : INFO : EPOCH 30 - PROGRESS: at 4.34% examples, 340648 words/s, in_qsize 15, out_qsize 0\n",
      "2020-09-03 11:36:33,152 : INFO : EPOCH 30 - PROGRESS: at 8.47% examples, 335634 words/s, in_qsize 15, out_qsize 0\n",
      "2020-09-03 11:36:34,233 : INFO : EPOCH 30 - PROGRESS: at 13.04% examples, 339310 words/s, in_qsize 11, out_qsize 4\n",
      "2020-09-03 11:36:35,273 : INFO : EPOCH 30 - PROGRESS: at 18.11% examples, 354881 words/s, in_qsize 14, out_qsize 1\n",
      "2020-09-03 11:36:36,326 : INFO : EPOCH 30 - PROGRESS: at 22.33% examples, 349905 words/s, in_qsize 15, out_qsize 0\n",
      "2020-09-03 11:36:37,337 : INFO : EPOCH 30 - PROGRESS: at 26.66% examples, 350322 words/s, in_qsize 13, out_qsize 2\n",
      "2020-09-03 11:36:38,377 : INFO : EPOCH 30 - PROGRESS: at 31.54% examples, 355382 words/s, in_qsize 15, out_qsize 0\n",
      "2020-09-03 11:36:39,383 : INFO : EPOCH 30 - PROGRESS: at 35.86% examples, 355201 words/s, in_qsize 15, out_qsize 0\n",
      "2020-09-03 11:36:40,404 : INFO : EPOCH 30 - PROGRESS: at 40.29% examples, 355492 words/s, in_qsize 16, out_qsize 0\n",
      "2020-09-03 11:36:41,442 : INFO : EPOCH 30 - PROGRESS: at 44.72% examples, 355108 words/s, in_qsize 15, out_qsize 1\n",
      "2020-09-03 11:36:42,446 : INFO : EPOCH 30 - PROGRESS: at 49.16% examples, 355913 words/s, in_qsize 16, out_qsize 0\n",
      "2020-09-03 11:36:43,474 : INFO : EPOCH 30 - PROGRESS: at 53.49% examples, 355278 words/s, in_qsize 15, out_qsize 3\n",
      "2020-09-03 11:36:44,493 : INFO : EPOCH 30 - PROGRESS: at 58.14% examples, 356741 words/s, in_qsize 14, out_qsize 1\n",
      "2020-09-03 11:36:45,512 : INFO : EPOCH 30 - PROGRESS: at 62.57% examples, 356861 words/s, in_qsize 15, out_qsize 0\n",
      "2020-09-03 11:36:46,524 : INFO : EPOCH 30 - PROGRESS: at 67.24% examples, 358273 words/s, in_qsize 15, out_qsize 0\n",
      "2020-09-03 11:36:47,563 : INFO : EPOCH 30 - PROGRESS: at 71.45% examples, 356765 words/s, in_qsize 14, out_qsize 1\n",
      "2020-09-03 11:36:48,612 : INFO : EPOCH 30 - PROGRESS: at 76.11% examples, 357245 words/s, in_qsize 14, out_qsize 1\n",
      "2020-09-03 11:36:49,625 : INFO : EPOCH 30 - PROGRESS: at 80.36% examples, 356455 words/s, in_qsize 15, out_qsize 0\n",
      "2020-09-03 11:36:50,661 : INFO : EPOCH 30 - PROGRESS: at 85.02% examples, 357179 words/s, in_qsize 16, out_qsize 0\n",
      "2020-09-03 11:36:51,696 : INFO : EPOCH 30 - PROGRESS: at 89.34% examples, 356509 words/s, in_qsize 15, out_qsize 0\n",
      "2020-09-03 11:36:52,724 : INFO : EPOCH 30 - PROGRESS: at 93.70% examples, 356010 words/s, in_qsize 16, out_qsize 3\n",
      "2020-09-03 11:36:53,739 : INFO : EPOCH 30 - PROGRESS: at 98.26% examples, 356583 words/s, in_qsize 15, out_qsize 0\n",
      "2020-09-03 11:36:53,944 : INFO : worker thread finished; awaiting finish of 7 more threads\n",
      "2020-09-03 11:36:53,968 : INFO : worker thread finished; awaiting finish of 6 more threads\n",
      "2020-09-03 11:36:53,990 : INFO : worker thread finished; awaiting finish of 5 more threads\n",
      "2020-09-03 11:36:54,024 : INFO : worker thread finished; awaiting finish of 4 more threads\n",
      "2020-09-03 11:36:54,033 : INFO : worker thread finished; awaiting finish of 3 more threads\n",
      "2020-09-03 11:36:54,041 : INFO : worker thread finished; awaiting finish of 2 more threads\n",
      "2020-09-03 11:36:54,044 : INFO : worker thread finished; awaiting finish of 1 more threads\n",
      "2020-09-03 11:36:54,046 : INFO : worker thread finished; awaiting finish of 0 more threads\n",
      "2020-09-03 11:36:54,047 : INFO : EPOCH - 30 : training on 9227204 raw words (8222814 effective words) took 23.0s, 358061 effective words/s\n",
      "2020-09-03 11:36:55,073 : INFO : EPOCH 31 - PROGRESS: at 3.58% examples, 289979 words/s, in_qsize 13, out_qsize 3\n",
      "2020-09-03 11:36:56,084 : INFO : EPOCH 31 - PROGRESS: at 8.04% examples, 325582 words/s, in_qsize 15, out_qsize 0\n",
      "2020-09-03 11:36:57,123 : INFO : EPOCH 31 - PROGRESS: at 12.93% examples, 346016 words/s, in_qsize 16, out_qsize 0\n",
      "2020-09-03 11:36:58,162 : INFO : EPOCH 31 - PROGRESS: at 17.13% examples, 342984 words/s, in_qsize 15, out_qsize 0\n",
      "2020-09-03 11:36:59,202 : INFO : EPOCH 31 - PROGRESS: at 21.68% examples, 346428 words/s, in_qsize 15, out_qsize 0\n",
      "2020-09-03 11:37:00,228 : INFO : EPOCH 31 - PROGRESS: at 26.34% examples, 350896 words/s, in_qsize 15, out_qsize 0\n",
      "2020-09-03 11:37:01,243 : INFO : EPOCH 31 - PROGRESS: at 30.89% examples, 353428 words/s, in_qsize 15, out_qsize 0\n",
      "2020-09-03 11:37:02,342 : INFO : EPOCH 31 - PROGRESS: at 35.32% examples, 351561 words/s, in_qsize 16, out_qsize 1\n",
      "2020-09-03 11:37:03,350 : INFO : EPOCH 31 - PROGRESS: at 39.54% examples, 350973 words/s, in_qsize 15, out_qsize 0\n",
      "2020-09-03 11:37:04,371 : INFO : EPOCH 31 - PROGRESS: at 43.75% examples, 350286 words/s, in_qsize 15, out_qsize 3\n",
      "2020-09-03 11:37:05,334 : INFO : EPOCH 31 - PROGRESS: at 47.97% examples, 350001 words/s, in_qsize 15, out_qsize 1\n",
      "2020-09-03 11:37:06,356 : INFO : EPOCH 31 - PROGRESS: at 52.62% examples, 352085 words/s, in_qsize 16, out_qsize 0\n",
      "2020-09-03 11:37:07,357 : INFO : EPOCH 31 - PROGRESS: at 57.27% examples, 354392 words/s, in_qsize 14, out_qsize 1\n",
      "2020-09-03 11:37:08,362 : INFO : EPOCH 31 - PROGRESS: at 61.39% examples, 353160 words/s, in_qsize 14, out_qsize 1\n",
      "2020-09-03 11:37:09,427 : INFO : EPOCH 31 - PROGRESS: at 66.04% examples, 353601 words/s, in_qsize 15, out_qsize 0\n",
      "2020-09-03 11:37:10,464 : INFO : EPOCH 31 - PROGRESS: at 70.48% examples, 353493 words/s, in_qsize 16, out_qsize 0\n",
      "2020-09-03 11:37:11,498 : INFO : EPOCH 31 - PROGRESS: at 75.02% examples, 353977 words/s, in_qsize 15, out_qsize 0\n",
      "2020-09-03 11:37:12,516 : INFO : EPOCH 31 - PROGRESS: at 79.60% examples, 354716 words/s, in_qsize 16, out_qsize 0\n",
      "2020-09-03 11:37:13,536 : INFO : EPOCH 31 - PROGRESS: at 83.94% examples, 354427 words/s, in_qsize 16, out_qsize 1\n",
      "2020-09-03 11:37:14,542 : INFO : EPOCH 31 - PROGRESS: at 88.37% examples, 354845 words/s, in_qsize 16, out_qsize 0\n",
      "2020-09-03 11:37:15,561 : INFO : EPOCH 31 - PROGRESS: at 92.72% examples, 354560 words/s, in_qsize 15, out_qsize 0\n",
      "2020-09-03 11:37:16,623 : INFO : EPOCH 31 - PROGRESS: at 97.28% examples, 354450 words/s, in_qsize 15, out_qsize 0\n",
      "2020-09-03 11:37:17,056 : INFO : worker thread finished; awaiting finish of 7 more threads\n",
      "2020-09-03 11:37:17,109 : INFO : worker thread finished; awaiting finish of 6 more threads\n",
      "2020-09-03 11:37:17,116 : INFO : worker thread finished; awaiting finish of 5 more threads\n",
      "2020-09-03 11:37:17,120 : INFO : worker thread finished; awaiting finish of 4 more threads\n",
      "2020-09-03 11:37:17,121 : INFO : worker thread finished; awaiting finish of 3 more threads\n",
      "2020-09-03 11:37:17,127 : INFO : worker thread finished; awaiting finish of 2 more threads\n",
      "2020-09-03 11:37:17,131 : INFO : worker thread finished; awaiting finish of 1 more threads\n",
      "2020-09-03 11:37:17,134 : INFO : worker thread finished; awaiting finish of 0 more threads\n",
      "2020-09-03 11:37:17,135 : INFO : EPOCH - 31 : training on 9227204 raw words (8221528 effective words) took 23.1s, 356284 effective words/s\n",
      "2020-09-03 11:37:18,185 : INFO : EPOCH 32 - PROGRESS: at 3.80% examples, 306836 words/s, in_qsize 15, out_qsize 1\n",
      "2020-09-03 11:37:19,202 : INFO : EPOCH 32 - PROGRESS: at 8.58% examples, 343019 words/s, in_qsize 15, out_qsize 0\n",
      "2020-09-03 11:37:20,272 : INFO : EPOCH 32 - PROGRESS: at 12.82% examples, 336824 words/s, in_qsize 9, out_qsize 6\n",
      "2020-09-03 11:37:21,324 : INFO : EPOCH 32 - PROGRESS: at 18.00% examples, 354263 words/s, in_qsize 15, out_qsize 0\n",
      "2020-09-03 11:37:22,376 : INFO : EPOCH 32 - PROGRESS: at 22.33% examples, 351171 words/s, in_qsize 13, out_qsize 2\n",
      "2020-09-03 11:37:23,412 : INFO : EPOCH 32 - PROGRESS: at 26.78% examples, 351412 words/s, in_qsize 15, out_qsize 0\n",
      "2020-09-03 11:37:24,449 : INFO : EPOCH 32 - PROGRESS: at 31.32% examples, 352735 words/s, in_qsize 15, out_qsize 2\n",
      "2020-09-03 11:37:25,472 : INFO : EPOCH 32 - PROGRESS: at 35.97% examples, 355395 words/s, in_qsize 16, out_qsize 0\n",
      "2020-09-03 11:37:26,476 : INFO : EPOCH 32 - PROGRESS: at 40.08% examples, 353378 words/s, in_qsize 14, out_qsize 1\n",
      "2020-09-03 11:37:27,495 : INFO : EPOCH 32 - PROGRESS: at 44.40% examples, 353016 words/s, in_qsize 16, out_qsize 0\n",
      "2020-09-03 11:37:28,498 : INFO : EPOCH 32 - PROGRESS: at 49.05% examples, 355604 words/s, in_qsize 16, out_qsize 1\n",
      "2020-09-03 11:37:29,539 : INFO : EPOCH 32 - PROGRESS: at 53.27% examples, 353777 words/s, in_qsize 15, out_qsize 0\n",
      "2020-09-03 11:37:30,570 : INFO : EPOCH 32 - PROGRESS: at 57.60% examples, 353158 words/s, in_qsize 15, out_qsize 0\n",
      "2020-09-03 11:37:31,596 : INFO : EPOCH 32 - PROGRESS: at 61.93% examples, 352725 words/s, in_qsize 14, out_qsize 1\n",
      "2020-09-03 11:37:32,609 : INFO : EPOCH 32 - PROGRESS: at 66.15% examples, 352256 words/s, in_qsize 16, out_qsize 3\n",
      "2020-09-03 11:37:33,624 : INFO : EPOCH 32 - PROGRESS: at 70.58% examples, 352549 words/s, in_qsize 15, out_qsize 3\n",
      "2020-09-03 11:37:34,692 : INFO : EPOCH 32 - PROGRESS: at 75.13% examples, 352397 words/s, in_qsize 14, out_qsize 3\n",
      "2020-09-03 11:37:35,703 : INFO : EPOCH 32 - PROGRESS: at 79.71% examples, 353350 words/s, in_qsize 14, out_qsize 1\n",
      "2020-09-03 11:37:36,706 : INFO : EPOCH 32 - PROGRESS: at 84.26% examples, 354374 words/s, in_qsize 16, out_qsize 0\n",
      "2020-09-03 11:37:37,707 : INFO : EPOCH 32 - PROGRESS: at 88.16% examples, 352692 words/s, in_qsize 15, out_qsize 2\n",
      "2020-09-03 11:37:38,771 : INFO : EPOCH 32 - PROGRESS: at 92.94% examples, 353444 words/s, in_qsize 15, out_qsize 0\n",
      "2020-09-03 11:37:39,788 : INFO : EPOCH 32 - PROGRESS: at 97.39% examples, 353689 words/s, in_qsize 15, out_qsize 0\n",
      "2020-09-03 11:37:40,212 : INFO : worker thread finished; awaiting finish of 7 more threads\n",
      "2020-09-03 11:37:40,222 : INFO : worker thread finished; awaiting finish of 6 more threads\n",
      "2020-09-03 11:37:40,239 : INFO : worker thread finished; awaiting finish of 5 more threads\n",
      "2020-09-03 11:37:40,263 : INFO : worker thread finished; awaiting finish of 4 more threads\n",
      "2020-09-03 11:37:40,265 : INFO : worker thread finished; awaiting finish of 3 more threads\n",
      "2020-09-03 11:37:40,267 : INFO : worker thread finished; awaiting finish of 2 more threads\n",
      "2020-09-03 11:37:40,269 : INFO : worker thread finished; awaiting finish of 1 more threads\n",
      "2020-09-03 11:37:40,271 : INFO : worker thread finished; awaiting finish of 0 more threads\n",
      "2020-09-03 11:37:40,272 : INFO : EPOCH - 32 : training on 9227204 raw words (8221580 effective words) took 23.1s, 355576 effective words/s\n",
      "2020-09-03 11:37:40,274 : INFO : training on a 295270528 raw words (263120702 effective words) took 727.7s, 361597 effective words/s\n"
     ]
    },
    {
     "name": "stdout",
     "output_type": "stream",
     "text": [
      "CPU times: user 23min 18s, sys: 6.38 s, total: 23min 24s\n",
      "Wall time: 12min 7s\n"
     ]
    },
    {
     "data": {
      "text/plain": [
       "(263120702, 295270528)"
      ]
     },
     "execution_count": 18,
     "metadata": {
      "tags": []
     },
     "output_type": "execute_result"
    }
   ],
   "source": [
    "%%time\n",
    "w2v_model.train(documents, total_examples=len(documents), epochs=W2V_EPOCH)"
   ]
  },
  {
   "cell_type": "code",
   "execution_count": 19,
   "metadata": {
    "colab": {
     "base_uri": "https://localhost:8080/",
     "height": 267
    },
    "colab_type": "code",
    "id": "hkryBNEEKu9L",
    "outputId": "7648e8ab-4ce8-458b-f368-03ac31950cdb"
   },
   "outputs": [
    {
     "name": "stderr",
     "output_type": "stream",
     "text": [
      "/usr/local/lib/python3.6/dist-packages/ipykernel_launcher.py:1: DeprecationWarning: Call to deprecated `most_similar` (Method will be removed in 4.0.0, use self.wv.most_similar() instead).\n",
      "  \"\"\"Entry point for launching an IPython kernel.\n",
      "2020-09-03 11:38:18,869 : INFO : precomputing L2-norms of word weight vectors\n"
     ]
    },
    {
     "data": {
      "text/plain": [
       "[('luv', 0.5681506991386414),\n",
       " ('loves', 0.5640884637832642),\n",
       " ('loved', 0.5415631532669067),\n",
       " ('amazing', 0.5185268521308899),\n",
       " ('adore', 0.5144675970077515),\n",
       " ('looove', 0.49014315009117126),\n",
       " ('loveee', 0.47356343269348145),\n",
       " ('awesome', 0.4692952036857605),\n",
       " ('loooove', 0.4425589442253113),\n",
       " ('lovee', 0.440317302942276)]"
      ]
     },
     "execution_count": 19,
     "metadata": {
      "tags": []
     },
     "output_type": "execute_result"
    }
   ],
   "source": [
    "w2v_model.most_similar(\"love\")"
   ]
  },
  {
   "cell_type": "code",
   "execution_count": 20,
   "metadata": {
    "colab": {
     "base_uri": "https://localhost:8080/",
     "height": 70
    },
    "colab_type": "code",
    "id": "TCdpsaJeqQeE",
    "outputId": "465b3311-897e-403d-fc78-fccdcd870a93"
   },
   "outputs": [
    {
     "name": "stdout",
     "output_type": "stream",
     "text": [
      "Total words 290419\n",
      "CPU times: user 17.4 s, sys: 86 ms, total: 17.5 s\n",
      "Wall time: 17.5 s\n"
     ]
    }
   ],
   "source": [
    "%%time\n",
    "tokenizer = Tokenizer()\n",
    "tokenizer.fit_on_texts(df_train.text)\n",
    "\n",
    "vocab_size = len(tokenizer.word_index) + 1\n",
    "print(\"Total words\", vocab_size)"
   ]
  },
  {
   "cell_type": "code",
   "execution_count": 21,
   "metadata": {
    "colab": {
     "base_uri": "https://localhost:8080/",
     "height": 52
    },
    "colab_type": "code",
    "id": "L-E7vsllqc5K",
    "outputId": "931821d6-090f-4b4c-ba96-6519fccbc1db"
   },
   "outputs": [
    {
     "name": "stdout",
     "output_type": "stream",
     "text": [
      "CPU times: user 26.6 s, sys: 626 ms, total: 27.3 s\n",
      "Wall time: 27.3 s\n"
     ]
    }
   ],
   "source": [
    "%%time\n",
    "x_train = pad_sequences(tokenizer.texts_to_sequences(df_train.text), maxlen=SEQUENCE_LENGTH)\n",
    "x_test = pad_sequences(tokenizer.texts_to_sequences(df_test.text), maxlen=SEQUENCE_LENGTH)"
   ]
  },
  {
   "cell_type": "code",
   "execution_count": 22,
   "metadata": {
    "colab": {
     "base_uri": "https://localhost:8080/",
     "height": 34
    },
    "colab_type": "code",
    "id": "Xhw_LHqaqsgZ",
    "outputId": "a73683f0-217f-4acd-9f05-c443d63ab2fb"
   },
   "outputs": [
    {
     "data": {
      "text/plain": [
       "['POSITIVE', 'NEGATIVE', 'NEUTRAL']"
      ]
     },
     "execution_count": 22,
     "metadata": {
      "tags": []
     },
     "output_type": "execute_result"
    }
   ],
   "source": [
    "labels = df_train.target.unique().tolist()\n",
    "labels.append(NEUTRAL)\n",
    "labels"
   ]
  },
  {
   "cell_type": "code",
   "execution_count": 23,
   "metadata": {
    "colab": {
     "base_uri": "https://localhost:8080/",
     "height": 52
    },
    "colab_type": "code",
    "id": "TPWRswu7qzKh",
    "outputId": "e10ee54f-d7b0-483f-c0e0-e32b8500fc9e"
   },
   "outputs": [
    {
     "name": "stdout",
     "output_type": "stream",
     "text": [
      "y_train (1280000, 1)\n",
      "y_test (320000, 1)\n"
     ]
    }
   ],
   "source": [
    "encoder = LabelEncoder()\n",
    "encoder.fit(df_train.target.tolist())\n",
    "\n",
    "y_train = encoder.transform(df_train.target.tolist())\n",
    "y_test = encoder.transform(df_test.target.tolist())\n",
    "\n",
    "y_train = y_train.reshape(-1,1)\n",
    "y_test = y_test.reshape(-1,1)\n",
    "\n",
    "print(\"y_train\",y_train.shape)\n",
    "print(\"y_test\",y_test.shape)"
   ]
  },
  {
   "cell_type": "code",
   "execution_count": 24,
   "metadata": {
    "colab": {
     "base_uri": "https://localhost:8080/",
     "height": 105
    },
    "colab_type": "code",
    "id": "IUU-15C0q8gP",
    "outputId": "9336a7da-d2a3-44f9-9b41-542c2b475f9d"
   },
   "outputs": [
    {
     "name": "stdout",
     "output_type": "stream",
     "text": [
      "x_train (1280000, 300)\n",
      "y_train (1280000, 1)\n",
      "\n",
      "x_test (320000, 300)\n",
      "y_test (320000, 1)\n"
     ]
    }
   ],
   "source": [
    "print(\"x_train\", x_train.shape)\n",
    "print(\"y_train\", y_train.shape)\n",
    "print()\n",
    "print(\"x_test\", x_test.shape)\n",
    "print(\"y_test\", y_test.shape)"
   ]
  },
  {
   "cell_type": "code",
   "execution_count": 25,
   "metadata": {
    "colab": {
     "base_uri": "https://localhost:8080/",
     "height": 194
    },
    "colab_type": "code",
    "id": "QXrHuTROrEdE",
    "outputId": "6a830d7a-57c8-4858-ae3c-2b72e9444a68"
   },
   "outputs": [
    {
     "data": {
      "text/plain": [
       "array([[1],\n",
       "       [1],\n",
       "       [1],\n",
       "       [0],\n",
       "       [1],\n",
       "       [1],\n",
       "       [1],\n",
       "       [1],\n",
       "       [1],\n",
       "       [1]])"
      ]
     },
     "execution_count": 25,
     "metadata": {
      "tags": []
     },
     "output_type": "execute_result"
    }
   ],
   "source": [
    "y_train[:10]"
   ]
  },
  {
   "cell_type": "code",
   "execution_count": 26,
   "metadata": {
    "colab": {
     "base_uri": "https://localhost:8080/",
     "height": 34
    },
    "colab_type": "code",
    "id": "X0liauS0rLDR",
    "outputId": "5e95866b-e743-407d-c850-615b35452780"
   },
   "outputs": [
    {
     "name": "stdout",
     "output_type": "stream",
     "text": [
      "(290419, 300)\n"
     ]
    }
   ],
   "source": [
    "embedding_matrix = np.zeros((vocab_size, W2V_SIZE))\n",
    "for word, i in tokenizer.word_index.items():\n",
    "  if word in w2v_model.wv:\n",
    "    embedding_matrix[i] = w2v_model.wv[word]\n",
    "print(embedding_matrix.shape)"
   ]
  },
  {
   "cell_type": "code",
   "execution_count": 27,
   "metadata": {
    "colab": {},
    "colab_type": "code",
    "id": "G_SareVHrSlR"
   },
   "outputs": [],
   "source": [
    "embedding_layer = Embedding(vocab_size, W2V_SIZE, weights=[embedding_matrix], input_length=SEQUENCE_LENGTH, trainable=False)"
   ]
  },
  {
   "cell_type": "code",
   "execution_count": 28,
   "metadata": {
    "colab": {
     "base_uri": "https://localhost:8080/",
     "height": 356
    },
    "colab_type": "code",
    "id": "KmxYThfrrYJs",
    "outputId": "a4e70c15-1b48-41b8-b703-05ce2d811483"
   },
   "outputs": [
    {
     "name": "stdout",
     "output_type": "stream",
     "text": [
      "WARNING:tensorflow:Layer lstm will not use cuDNN kernel since it doesn't meet the cuDNN kernel criteria. It will use generic GPU kernel as fallback when running on GPU\n"
     ]
    },
    {
     "name": "stderr",
     "output_type": "stream",
     "text": [
      "2020-09-03 11:40:56,589 : WARNING : Layer lstm will not use cuDNN kernel since it doesn't meet the cuDNN kernel criteria. It will use generic GPU kernel as fallback when running on GPU\n"
     ]
    },
    {
     "name": "stdout",
     "output_type": "stream",
     "text": [
      "Model: \"sequential\"\n",
      "_________________________________________________________________\n",
      "Layer (type)                 Output Shape              Param #   \n",
      "=================================================================\n",
      "embedding (Embedding)        (None, 300, 300)          87125700  \n",
      "_________________________________________________________________\n",
      "dropout (Dropout)            (None, 300, 300)          0         \n",
      "_________________________________________________________________\n",
      "lstm (LSTM)                  (None, 100)               160400    \n",
      "_________________________________________________________________\n",
      "dense (Dense)                (None, 1)                 101       \n",
      "=================================================================\n",
      "Total params: 87,286,201\n",
      "Trainable params: 160,501\n",
      "Non-trainable params: 87,125,700\n",
      "_________________________________________________________________\n"
     ]
    }
   ],
   "source": [
    "model = Sequential()\n",
    "model.add(embedding_layer)\n",
    "model.add(Dropout(0.5))\n",
    "model.add(LSTM(100, dropout=0.2, recurrent_dropout=0.2))\n",
    "model.add(Dense(1, activation='sigmoid'))\n",
    "\n",
    "model.summary()"
   ]
  },
  {
   "cell_type": "code",
   "execution_count": 29,
   "metadata": {
    "colab": {},
    "colab_type": "code",
    "id": "b78ika5DrhDa"
   },
   "outputs": [],
   "source": [
    "model.compile(loss='binary_crossentropy',\n",
    "              optimizer=\"adam\",\n",
    "              metrics=['accuracy'])"
   ]
  },
  {
   "cell_type": "code",
   "execution_count": 30,
   "metadata": {
    "colab": {},
    "colab_type": "code",
    "id": "ePyFv2VYrq6r"
   },
   "outputs": [],
   "source": [
    "callbacks = [ ReduceLROnPlateau(monitor='val_loss', patience=5, cooldown=0),\n",
    "              EarlyStopping(monitor='val_acc', min_delta=1e-4, patience=5)]"
   ]
  },
  {
   "cell_type": "code",
   "execution_count": 31,
   "metadata": {
    "colab": {
     "base_uri": "https://localhost:8080/",
     "height": 641
    },
    "colab_type": "code",
    "id": "qVkBG5mirw1Z",
    "outputId": "8b4a0d7d-e3ba-4b90-958f-52e1a6f97c76"
   },
   "outputs": [
    {
     "name": "stdout",
     "output_type": "stream",
     "text": [
      "Epoch 1/8\n",
      "1125/1125 [==============================] - ETA: 0s - loss: 0.5028 - accuracy: 0.7509WARNING:tensorflow:Early stopping conditioned on metric `val_acc` which is not available. Available metrics are: loss,accuracy,val_loss,val_accuracy,lr\n"
     ]
    },
    {
     "name": "stderr",
     "output_type": "stream",
     "text": [
      "2020-09-03 12:03:11,224 : WARNING : Early stopping conditioned on metric `val_acc` which is not available. Available metrics are: loss,accuracy,val_loss,val_accuracy,lr\n"
     ]
    },
    {
     "name": "stdout",
     "output_type": "stream",
     "text": [
      "\b\b\b\b\b\b\b\b\b\b\b\b\b\b\b\b\b\b\b\b\b\b\b\b\b\b\b\b\b\b\b\b\b\b\b\b\b\b\b\b\b\b\b\b\b\b\b\b\b\b\b\b\b\b\b\b\b\b\b\b\b\b\b\b\b\b\b\b\b\b\b\b\b\b\b\b\b\b\b\b\b\b\b\b\b\b\r",
      "1125/1125 [==============================] - 1305s 1s/step - loss: 0.5028 - accuracy: 0.7509 - val_loss: 0.4620 - val_accuracy: 0.7808\n",
      "Epoch 2/8\n",
      "1125/1125 [==============================] - ETA: 0s - loss: 0.4778 - accuracy: 0.7681WARNING:tensorflow:Early stopping conditioned on metric `val_acc` which is not available. Available metrics are: loss,accuracy,val_loss,val_accuracy,lr\n"
     ]
    },
    {
     "name": "stderr",
     "output_type": "stream",
     "text": [
      "2020-09-03 12:24:50,591 : WARNING : Early stopping conditioned on metric `val_acc` which is not available. Available metrics are: loss,accuracy,val_loss,val_accuracy,lr\n"
     ]
    },
    {
     "name": "stdout",
     "output_type": "stream",
     "text": [
      "\b\b\b\b\b\b\b\b\b\b\b\b\b\b\b\b\b\b\b\b\b\b\b\b\b\b\b\b\b\b\b\b\b\b\b\b\b\b\b\b\b\b\b\b\b\b\b\b\b\b\b\b\b\b\b\b\b\b\b\b\b\b\b\b\b\b\b\b\b\b\b\b\b\b\b\b\b\b\b\b\b\b\b\b\b\b\r",
      "1125/1125 [==============================] - 1298s 1s/step - loss: 0.4778 - accuracy: 0.7681 - val_loss: 0.4578 - val_accuracy: 0.7844\n",
      "Epoch 3/8\n",
      "1125/1125 [==============================] - ETA: 0s - loss: 0.4711 - accuracy: 0.7725WARNING:tensorflow:Early stopping conditioned on metric `val_acc` which is not available. Available metrics are: loss,accuracy,val_loss,val_accuracy,lr\n"
     ]
    },
    {
     "name": "stderr",
     "output_type": "stream",
     "text": [
      "2020-09-03 12:46:19,504 : WARNING : Early stopping conditioned on metric `val_acc` which is not available. Available metrics are: loss,accuracy,val_loss,val_accuracy,lr\n"
     ]
    },
    {
     "name": "stdout",
     "output_type": "stream",
     "text": [
      "\b\b\b\b\b\b\b\b\b\b\b\b\b\b\b\b\b\b\b\b\b\b\b\b\b\b\b\b\b\b\b\b\b\b\b\b\b\b\b\b\b\b\b\b\b\b\b\b\b\b\b\b\b\b\b\b\b\b\b\b\b\b\b\b\b\b\b\b\b\b\b\b\b\b\b\b\b\b\b\b\b\b\b\b\b\b\r",
      "1125/1125 [==============================] - 1288s 1s/step - loss: 0.4711 - accuracy: 0.7725 - val_loss: 0.4539 - val_accuracy: 0.7865\n",
      "Epoch 4/8\n",
      "1125/1125 [==============================] - ETA: 0s - loss: 0.4672 - accuracy: 0.7750WARNING:tensorflow:Early stopping conditioned on metric `val_acc` which is not available. Available metrics are: loss,accuracy,val_loss,val_accuracy,lr\n"
     ]
    },
    {
     "name": "stderr",
     "output_type": "stream",
     "text": [
      "2020-09-03 13:07:44,565 : WARNING : Early stopping conditioned on metric `val_acc` which is not available. Available metrics are: loss,accuracy,val_loss,val_accuracy,lr\n"
     ]
    },
    {
     "name": "stdout",
     "output_type": "stream",
     "text": [
      "\b\b\b\b\b\b\b\b\b\b\b\b\b\b\b\b\b\b\b\b\b\b\b\b\b\b\b\b\b\b\b\b\b\b\b\b\b\b\b\b\b\b\b\b\b\b\b\b\b\b\b\b\b\b\b\b\b\b\b\b\b\b\b\b\b\b\b\b\b\b\b\b\b\b\b\b\b\b\b\b\b\b\b\b\b\b\r",
      "1125/1125 [==============================] - 1284s 1s/step - loss: 0.4672 - accuracy: 0.7750 - val_loss: 0.4487 - val_accuracy: 0.7884\n",
      "Epoch 5/8\n",
      "1125/1125 [==============================] - ETA: 0s - loss: 0.4650 - accuracy: 0.7763WARNING:tensorflow:Early stopping conditioned on metric `val_acc` which is not available. Available metrics are: loss,accuracy,val_loss,val_accuracy,lr\n"
     ]
    },
    {
     "name": "stderr",
     "output_type": "stream",
     "text": [
      "2020-09-03 13:29:15,100 : WARNING : Early stopping conditioned on metric `val_acc` which is not available. Available metrics are: loss,accuracy,val_loss,val_accuracy,lr\n"
     ]
    },
    {
     "name": "stdout",
     "output_type": "stream",
     "text": [
      "\b\b\b\b\b\b\b\b\b\b\b\b\b\b\b\b\b\b\b\b\b\b\b\b\b\b\b\b\b\b\b\b\b\b\b\b\b\b\b\b\b\b\b\b\b\b\b\b\b\b\b\b\b\b\b\b\b\b\b\b\b\b\b\b\b\b\b\b\b\b\b\b\b\b\b\b\b\b\b\b\b\b\b\b\b\b\r",
      "1125/1125 [==============================] - 1289s 1s/step - loss: 0.4650 - accuracy: 0.7763 - val_loss: 0.4488 - val_accuracy: 0.7888\n",
      "Epoch 6/8\n",
      "1125/1125 [==============================] - ETA: 0s - loss: 0.4630 - accuracy: 0.7774WARNING:tensorflow:Early stopping conditioned on metric `val_acc` which is not available. Available metrics are: loss,accuracy,val_loss,val_accuracy,lr\n"
     ]
    },
    {
     "name": "stderr",
     "output_type": "stream",
     "text": [
      "2020-09-03 13:50:47,237 : WARNING : Early stopping conditioned on metric `val_acc` which is not available. Available metrics are: loss,accuracy,val_loss,val_accuracy,lr\n"
     ]
    },
    {
     "name": "stdout",
     "output_type": "stream",
     "text": [
      "\b\b\b\b\b\b\b\b\b\b\b\b\b\b\b\b\b\b\b\b\b\b\b\b\b\b\b\b\b\b\b\b\b\b\b\b\b\b\b\b\b\b\b\b\b\b\b\b\b\b\b\b\b\b\b\b\b\b\b\b\b\b\b\b\b\b\b\b\b\b\b\b\b\b\b\b\b\b\b\b\b\b\b\b\b\b\r",
      "1125/1125 [==============================] - 1291s 1s/step - loss: 0.4630 - accuracy: 0.7774 - val_loss: 0.4480 - val_accuracy: 0.7895\n",
      "Epoch 7/8\n",
      "1125/1125 [==============================] - ETA: 0s - loss: 0.4617 - accuracy: 0.7781WARNING:tensorflow:Early stopping conditioned on metric `val_acc` which is not available. Available metrics are: loss,accuracy,val_loss,val_accuracy,lr\n"
     ]
    },
    {
     "name": "stderr",
     "output_type": "stream",
     "text": [
      "2020-09-03 14:12:18,994 : WARNING : Early stopping conditioned on metric `val_acc` which is not available. Available metrics are: loss,accuracy,val_loss,val_accuracy,lr\n"
     ]
    },
    {
     "name": "stdout",
     "output_type": "stream",
     "text": [
      "\b\b\b\b\b\b\b\b\b\b\b\b\b\b\b\b\b\b\b\b\b\b\b\b\b\b\b\b\b\b\b\b\b\b\b\b\b\b\b\b\b\b\b\b\b\b\b\b\b\b\b\b\b\b\b\b\b\b\b\b\b\b\b\b\b\b\b\b\b\b\b\b\b\b\b\b\b\b\b\b\b\b\b\b\b\b\r",
      "1125/1125 [==============================] - 1291s 1s/step - loss: 0.4617 - accuracy: 0.7781 - val_loss: 0.4455 - val_accuracy: 0.7910\n",
      "Epoch 8/8\n",
      "1125/1125 [==============================] - ETA: 0s - loss: 0.4606 - accuracy: 0.7791WARNING:tensorflow:Early stopping conditioned on metric `val_acc` which is not available. Available metrics are: loss,accuracy,val_loss,val_accuracy,lr\n"
     ]
    },
    {
     "name": "stderr",
     "output_type": "stream",
     "text": [
      "2020-09-03 14:33:46,165 : WARNING : Early stopping conditioned on metric `val_acc` which is not available. Available metrics are: loss,accuracy,val_loss,val_accuracy,lr\n"
     ]
    },
    {
     "name": "stdout",
     "output_type": "stream",
     "text": [
      "\b\b\b\b\b\b\b\b\b\b\b\b\b\b\b\b\b\b\b\b\b\b\b\b\b\b\b\b\b\b\b\b\b\b\b\b\b\b\b\b\b\b\b\b\b\b\b\b\b\b\b\b\b\b\b\b\b\b\b\b\b\b\b\b\b\b\b\b\b\b\b\b\b\b\b\b\b\b\b\b\b\b\b\b\b\b\r",
      "1125/1125 [==============================] - 1286s 1s/step - loss: 0.4606 - accuracy: 0.7791 - val_loss: 0.4459 - val_accuracy: 0.7902\n",
      "CPU times: user 3h 8min 23s, sys: 30min 30s, total: 3h 38min 54s\n",
      "Wall time: 2h 52min 25s\n"
     ]
    }
   ],
   "source": [
    "%%time\n",
    "history = model.fit(x_train, y_train,\n",
    "                    batch_size=BATCH_SIZE,\n",
    "                    epochs=EPOCHS,\n",
    "                    validation_split=0.1,\n",
    "                    verbose=1,\n",
    "                    callbacks=callbacks)"
   ]
  },
  {
   "cell_type": "code",
   "execution_count": 32,
   "metadata": {
    "colab": {
     "base_uri": "https://localhost:8080/",
     "height": 123
    },
    "colab_type": "code",
    "id": "j8Fli-UbY-FJ",
    "outputId": "4c08e0aa-987c-4738-9b5d-757fc44c527f"
   },
   "outputs": [
    {
     "name": "stdout",
     "output_type": "stream",
     "text": [
      "313/313 [==============================] - 103s 329ms/step - loss: 0.4445 - accuracy: 0.7912\n",
      "\n",
      "ACCURACY: 0.791196882724762\n",
      "LOSS: 0.44445717334747314\n",
      "CPU times: user 1min 28s, sys: 15.8 s, total: 1min 44s\n",
      "Wall time: 1min 43s\n"
     ]
    }
   ],
   "source": [
    "%%time\n",
    "score = model.evaluate(x_test, y_test, batch_size=BATCH_SIZE)\n",
    "print()\n",
    "print(\"ACCURACY:\",score[1])\n",
    "print(\"LOSS:\",score[0])"
   ]
  },
  {
   "cell_type": "code",
   "execution_count": 35,
   "metadata": {
    "colab": {},
    "colab_type": "code",
    "id": "toJ-QV-_aPax"
   },
   "outputs": [],
   "source": [
    "def decode_sentiment(score, include_neutral=True):\n",
    "    if include_neutral:        \n",
    "        label = NEUTRAL\n",
    "        if score <= SENTIMENT_THRESHOLDS[0]:\n",
    "            label = NEGATIVE\n",
    "        elif score >= SENTIMENT_THRESHOLDS[1]:\n",
    "            label = POSITIVE\n",
    "\n",
    "        return label\n",
    "    else:\n",
    "        return NEGATIVE if score < 0.5 else POSITIVE"
   ]
  },
  {
   "cell_type": "code",
   "execution_count": 36,
   "metadata": {
    "colab": {},
    "colab_type": "code",
    "id": "nSpbNtF7aX16"
   },
   "outputs": [],
   "source": [
    "def predict(text, include_neutral=True):\n",
    "    start_at = time.time()\n",
    "    # Tokenize text\n",
    "    x_test = pad_sequences(tokenizer.texts_to_sequences([text]), maxlen=SEQUENCE_LENGTH)\n",
    "    # Predict\n",
    "    score = model.predict([x_test])[0]\n",
    "    # Decode sentiment\n",
    "    label = decode_sentiment(score, include_neutral=include_neutral)\n",
    "\n",
    "    return {\"label\": label, \"score\": float(score),\n",
    "       \"elapsed_time\": time.time()-start_at} "
   ]
  },
  {
   "cell_type": "code",
   "execution_count": 37,
   "metadata": {
    "colab": {
     "base_uri": "https://localhost:8080/",
     "height": 70
    },
    "colab_type": "code",
    "id": "EggyBpR3aime",
    "outputId": "2a9b7acf-c2fb-4c14-d849-273d62d8ca25"
   },
   "outputs": [
    {
     "data": {
      "text/plain": [
       "{'elapsed_time': 0.42334890365600586,\n",
       " 'label': 'POSITIVE',\n",
       " 'score': 0.9729598760604858}"
      ]
     },
     "execution_count": 37,
     "metadata": {
      "tags": []
     },
     "output_type": "execute_result"
    }
   ],
   "source": [
    "predict(\"I love the music\")"
   ]
  },
  {
   "cell_type": "code",
   "execution_count": 38,
   "metadata": {
    "colab": {
     "base_uri": "https://localhost:8080/",
     "height": 70
    },
    "colab_type": "code",
    "id": "zRQN5wXeap5h",
    "outputId": "8f7d7e34-509b-4a6c-902a-88937325b2c7"
   },
   "outputs": [
    {
     "data": {
      "text/plain": [
       "{'elapsed_time': 0.14288902282714844,\n",
       " 'label': 'NEGATIVE',\n",
       " 'score': 0.008977441117167473}"
      ]
     },
     "execution_count": 38,
     "metadata": {
      "tags": []
     },
     "output_type": "execute_result"
    }
   ],
   "source": [
    "predict(\"I hate the rain\")"
   ]
  },
  {
   "cell_type": "code",
   "execution_count": 39,
   "metadata": {
    "colab": {
     "base_uri": "https://localhost:8080/",
     "height": 70
    },
    "colab_type": "code",
    "id": "KYAJfnQOaycq",
    "outputId": "858ce6eb-d96d-4079-b8b5-85885a85392e"
   },
   "outputs": [
    {
     "data": {
      "text/plain": [
       "{'elapsed_time': 0.14207983016967773,\n",
       " 'label': 'NEGATIVE',\n",
       " 'score': 0.2995266616344452}"
      ]
     },
     "execution_count": 39,
     "metadata": {
      "tags": []
     },
     "output_type": "execute_result"
    }
   ],
   "source": [
    "predict(\"i don't know what i'm doing\")"
   ]
  },
  {
   "cell_type": "code",
   "execution_count": 40,
   "metadata": {
    "colab": {
     "base_uri": "https://localhost:8080/",
     "height": 70
    },
    "colab_type": "code",
    "id": "S23QC_jga8Fi",
    "outputId": "b69e056f-7be7-45a5-df50-888db608c86f"
   },
   "outputs": [
    {
     "name": "stdout",
     "output_type": "stream",
     "text": [
      "40/40 [==============================] - 74s 2s/step\n",
      "CPU times: user 1min 4s, sys: 22.8 s, total: 1min 26s\n",
      "Wall time: 1min 18s\n"
     ]
    }
   ],
   "source": [
    "%%time\n",
    "y_pred_1d = []\n",
    "y_test_1d = list(df_test.target)\n",
    "scores = model.predict(x_test, verbose=1, batch_size=8000)\n",
    "y_pred_1d = [decode_sentiment(score, include_neutral=False) for score in scores]"
   ]
  },
  {
   "cell_type": "code",
   "execution_count": 41,
   "metadata": {
    "colab": {},
    "colab_type": "code",
    "id": "M0-lvSfgbYq3"
   },
   "outputs": [],
   "source": [
    "def plot_confusion_matrix(cm, classes,\n",
    "                          title='Confusion matrix',\n",
    "                          cmap=plt.cm.Blues):\n",
    "    \"\"\"\n",
    "    This function prints and plots the confusion matrix.\n",
    "    Normalization can be applied by setting `normalize=True`.\n",
    "    \"\"\"\n",
    "\n",
    "    cm = cm.astype('float') / cm.sum(axis=1)[:, np.newaxis]\n",
    "\n",
    "    plt.imshow(cm, interpolation='nearest', cmap=cmap)\n",
    "    plt.title(title, fontsize=30)\n",
    "    plt.colorbar()\n",
    "    tick_marks = np.arange(len(classes))\n",
    "    plt.xticks(tick_marks, classes, rotation=90, fontsize=22)\n",
    "    plt.yticks(tick_marks, classes, fontsize=22)\n",
    "\n",
    "    fmt = '.2f'\n",
    "    thresh = cm.max() / 2\n",
    "    for i, j in itertools.product(range(cm.shape[0]), range(cm.shape[1])):\n",
    "        plt.text(j, i, format(cm[i, j], fmt),\n",
    "                 horizontalalignment=\"center\",\n",
    "                 color=\"white\" if cm[i, j] > thresh else \"black\")\n",
    "\n",
    "    plt.ylabel('True label', fontsize=25)\n",
    "    plt.xlabel('Predicted label', fontsize=25)"
   ]
  },
  {
   "cell_type": "code",
   "execution_count": 42,
   "metadata": {
    "colab": {
     "base_uri": "https://localhost:8080/",
     "height": 804
    },
    "colab_type": "code",
    "id": "Z6QGfG4BbpXR",
    "outputId": "0b1d7c4a-b7b3-499c-ac3c-dd769f98b86b"
   },
   "outputs": [
    {
     "data": {
      "image/png": "[encoded data removed]",
      "text/plain": [
       "<Figure size 864x864 with 2 Axes>"
      ]
     },
     "metadata": {
      "needs_background": "light",
      "tags": []
     },
     "output_type": "display_data"
    },
    {
     "name": "stdout",
     "output_type": "stream",
     "text": [
      "CPU times: user 1.23 s, sys: 9.46 ms, total: 1.24 s\n",
      "Wall time: 1.26 s\n"
     ]
    }
   ],
   "source": [
    "%%time\n",
    "\n",
    "cnf_matrix = confusion_matrix(y_test_1d, y_pred_1d)\n",
    "plt.figure(figsize=(12,12))\n",
    "plot_confusion_matrix(cnf_matrix, classes=df_train.target.unique(), title=\"Confusion matrix\")\n",
    "plt.show()"
   ]
  },
  {
   "cell_type": "code",
   "execution_count": 43,
   "metadata": {
    "colab": {
     "base_uri": "https://localhost:8080/",
     "height": 176
    },
    "colab_type": "code",
    "id": "rNEq9Z0Vbvd4",
    "outputId": "8f6e0ee1-1dac-4ddf-ef83-d06178873921"
   },
   "outputs": [
    {
     "name": "stdout",
     "output_type": "stream",
     "text": [
      "              precision    recall  f1-score   support\n",
      "\n",
      "    NEGATIVE       0.79      0.79      0.79    159494\n",
      "    POSITIVE       0.79      0.79      0.79    160506\n",
      "\n",
      "    accuracy                           0.79    320000\n",
      "   macro avg       0.79      0.79      0.79    320000\n",
      "weighted avg       0.79      0.79      0.79    320000\n",
      "\n"
     ]
    }
   ],
   "source": [
    "print(classification_report(y_test_1d, y_pred_1d))"
   ]
  },
  {
   "cell_type": "code",
   "execution_count": 44,
   "metadata": {
    "colab": {
     "base_uri": "https://localhost:8080/",
     "height": 34
    },
    "colab_type": "code",
    "id": "b-FkOZaib49A",
    "outputId": "85a085e1-3aa3-4482-b941-9a9529eb4656"
   },
   "outputs": [
    {
     "data": {
      "text/plain": [
       "0.791196875"
      ]
     },
     "execution_count": 44,
     "metadata": {
      "tags": []
     },
     "output_type": "execute_result"
    }
   ],
   "source": [
    "accuracy_score(y_test_1d, y_pred_1d)"
   ]
  },
  {
   "cell_type": "code",
   "execution_count": 45,
   "metadata": {
    "colab": {
     "base_uri": "https://localhost:8080/",
     "height": 87
    },
    "colab_type": "code",
    "id": "iVnlfzjbcB4A",
    "outputId": "d2bfe2b6-5c53-4452-fbee-918e47623d19"
   },
   "outputs": [
    {
     "name": "stderr",
     "output_type": "stream",
     "text": [
      "2020-09-03 14:48:10,750 : INFO : saving Word2Vec object under model.w2v, separately None\n",
      "2020-09-03 14:48:10,762 : INFO : not storing attribute vectors_norm\n",
      "2020-09-03 14:48:10,776 : INFO : not storing attribute cum_table\n",
      "2020-09-03 14:48:11,914 : INFO : saved model.w2v\n"
     ]
    }
   ],
   "source": [
    "model.save(KERAS_MODEL)\n",
    "w2v_model.save(WORD2VEC_MODEL)\n",
    "pickle.dump(tokenizer, open(TOKENIZER_MODEL, \"wb\"), protocol=0)\n",
    "pickle.dump(encoder, open(ENCODER_MODEL, \"wb\"), protocol=0)"
   ]
  },
  {
   "cell_type": "code",
   "execution_count": 47,
   "metadata": {
    "colab": {
     "base_uri": "https://localhost:8080/",
     "height": 70
    },
    "colab_type": "code",
    "id": "VnUwYoRqcm-a",
    "outputId": "d1000644-908a-40a9-ec0f-4a1df6c08375"
   },
   "outputs": [
    {
     "data": {
      "text/plain": [
       "{'elapsed_time': 0.40236926078796387,\n",
       " 'label': 'POSITIVE',\n",
       " 'score': 0.9674584865570068}"
      ]
     },
     "execution_count": 47,
     "metadata": {
      "tags": []
     },
     "output_type": "execute_result"
    }
   ],
   "source": [
    "predict(\"I enjoy watching cricket\")"
   ]
  },
  {
   "cell_type": "code",
   "execution_count": 48,
   "metadata": {
    "colab": {
     "base_uri": "https://localhost:8080/",
     "height": 70
    },
    "colab_type": "code",
    "id": "N8OfoQJ2cwh8",
    "outputId": "7c863208-773a-42c4-92f8-02d38e81a412"
   },
   "outputs": [
    {
     "data": {
      "text/plain": [
       "{'elapsed_time': 0.1961522102355957,\n",
       " 'label': 'NEUTRAL',\n",
       " 'score': 0.5469185709953308}"
      ]
     },
     "execution_count": 48,
     "metadata": {
      "tags": []
     },
     "output_type": "execute_result"
    }
   ],
   "source": [
    "predict(\"I will not be pressurized\")"
   ]
  }
 ],
 "metadata": {
  "accelerator": "GPU",
  "colab": {
   "collapsed_sections": [],
   "name": "Twitter Sentiment Analysis.ipynb",
   "provenance": []
  },
  "kernelspec": {
   "display_name": "Python 3",
   "language": "python",
   "name": "python3"
  },
  "language_info": {
   "codemirror_mode": {
    "name": "ipython",
    "version": 3
   },
   "file_extension": ".py",
   "mimetype": "text/x-python",
   "name": "python",
   "nbconvert_exporter": "python",
   "pygments_lexer": "ipython3",
   "version": "3.7.6"
  }
 },
 "nbformat": 4,
 "nbformat_minor": 1
}
